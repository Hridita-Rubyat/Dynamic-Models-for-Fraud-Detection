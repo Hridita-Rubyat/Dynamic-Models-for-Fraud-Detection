{
 "cells": [
  {
   "cell_type": "code",
   "execution_count": null,
   "metadata": {},
   "outputs": [],
   "source": [
    "!pip install numpy==1.26.4\n",
    "!pip install dmba\n",
    "\n",
    "#!pip install cufflinks\n",
    "import cufflinks as cf\n",
    "cf.go_offline() # Configure cufflinks for offline use"
   ]
  },
  {
   "cell_type": "code",
   "execution_count": 2,
   "metadata": {},
   "outputs": [],
   "source": [
    "import numpy as np\n",
    "import pandas as pd\n",
    "import seaborn as sns\n",
    "import matplotlib.pyplot as plt\n",
    "%matplotlib inline"
   ]
  },
  {
   "cell_type": "code",
   "execution_count": 3,
   "metadata": {
    "id": "Lwe1x0-3iMZD"
   },
   "outputs": [],
   "source": [
    "# Adjust the file name as per your upload\n",
    "df = pd.read_csv('DataCoSupplyChainDataset.csv', encoding='latin1')  # Or use 'unicode_escape'"
   ]
  },
  {
   "cell_type": "markdown",
   "metadata": {
    "id": "nRocZGUfXcvj"
   },
   "source": []
  },
  {
   "cell_type": "code",
   "execution_count": 4,
   "metadata": {
    "colab": {
     "base_uri": "https://localhost:8080/",
     "height": 486
    },
    "id": "Toh0yy_CihKV",
    "outputId": "0241e4c6-87af-453a-b202-3916eee6bc1f"
   },
   "outputs": [
    {
     "data": {
      "text/html": [
       "<div>\n",
       "<style scoped>\n",
       "    .dataframe tbody tr th:only-of-type {\n",
       "        vertical-align: middle;\n",
       "    }\n",
       "\n",
       "    .dataframe tbody tr th {\n",
       "        vertical-align: top;\n",
       "    }\n",
       "\n",
       "    .dataframe thead th {\n",
       "        text-align: right;\n",
       "    }\n",
       "</style>\n",
       "<table border=\"1\" class=\"dataframe\">\n",
       "  <thead>\n",
       "    <tr style=\"text-align: right;\">\n",
       "      <th></th>\n",
       "      <th>Type</th>\n",
       "      <th>Days for shipping (real)</th>\n",
       "      <th>Days for shipment (scheduled)</th>\n",
       "      <th>Benefit per order</th>\n",
       "      <th>Sales per customer</th>\n",
       "      <th>Delivery Status</th>\n",
       "      <th>Late_delivery_risk</th>\n",
       "      <th>Category Id</th>\n",
       "      <th>Category Name</th>\n",
       "      <th>Customer City</th>\n",
       "      <th>Customer Country</th>\n",
       "      <th>Customer Email</th>\n",
       "      <th>Customer Fname</th>\n",
       "      <th>Customer Id</th>\n",
       "      <th>Customer Lname</th>\n",
       "      <th>Customer Password</th>\n",
       "      <th>Customer Segment</th>\n",
       "      <th>Customer State</th>\n",
       "      <th>Customer Street</th>\n",
       "      <th>Customer Zipcode</th>\n",
       "      <th>Department Id</th>\n",
       "      <th>Department Name</th>\n",
       "      <th>Latitude</th>\n",
       "      <th>Longitude</th>\n",
       "      <th>Market</th>\n",
       "      <th>Order City</th>\n",
       "      <th>Order Country</th>\n",
       "      <th>Order Customer Id</th>\n",
       "      <th>order date (DateOrders)</th>\n",
       "      <th>Order Id</th>\n",
       "      <th>Order Item Cardprod Id</th>\n",
       "      <th>Order Item Discount</th>\n",
       "      <th>Order Item Discount Rate</th>\n",
       "      <th>Order Item Id</th>\n",
       "      <th>Order Item Product Price</th>\n",
       "      <th>Order Item Profit Ratio</th>\n",
       "      <th>Order Item Quantity</th>\n",
       "      <th>Sales</th>\n",
       "      <th>Order Item Total</th>\n",
       "      <th>Order Profit Per Order</th>\n",
       "      <th>Order Region</th>\n",
       "      <th>Order State</th>\n",
       "      <th>Order Status</th>\n",
       "      <th>Order Zipcode</th>\n",
       "      <th>Product Card Id</th>\n",
       "      <th>Product Category Id</th>\n",
       "      <th>Product Description</th>\n",
       "      <th>Product Image</th>\n",
       "      <th>Product Name</th>\n",
       "      <th>Product Price</th>\n",
       "      <th>Product Status</th>\n",
       "      <th>shipping date (DateOrders)</th>\n",
       "      <th>Shipping Mode</th>\n",
       "    </tr>\n",
       "  </thead>\n",
       "  <tbody>\n",
       "    <tr>\n",
       "      <th>0</th>\n",
       "      <td>DEBIT</td>\n",
       "      <td>3</td>\n",
       "      <td>4</td>\n",
       "      <td>91.250000</td>\n",
       "      <td>314.640015</td>\n",
       "      <td>Advance shipping</td>\n",
       "      <td>0</td>\n",
       "      <td>73</td>\n",
       "      <td>Sporting Goods</td>\n",
       "      <td>Caguas</td>\n",
       "      <td>Puerto Rico</td>\n",
       "      <td>XXXXXXXXX</td>\n",
       "      <td>Cally</td>\n",
       "      <td>20755</td>\n",
       "      <td>Holloway</td>\n",
       "      <td>XXXXXXXXX</td>\n",
       "      <td>Consumer</td>\n",
       "      <td>PR</td>\n",
       "      <td>5365 Noble Nectar Island</td>\n",
       "      <td>725.0</td>\n",
       "      <td>2</td>\n",
       "      <td>Fitness</td>\n",
       "      <td>18.251453</td>\n",
       "      <td>-66.037056</td>\n",
       "      <td>Pacific Asia</td>\n",
       "      <td>Bekasi</td>\n",
       "      <td>Indonesia</td>\n",
       "      <td>20755</td>\n",
       "      <td>1/31/2018 22:56</td>\n",
       "      <td>77202</td>\n",
       "      <td>1360</td>\n",
       "      <td>13.110000</td>\n",
       "      <td>0.04</td>\n",
       "      <td>180517</td>\n",
       "      <td>327.75</td>\n",
       "      <td>0.29</td>\n",
       "      <td>1</td>\n",
       "      <td>327.75</td>\n",
       "      <td>314.640015</td>\n",
       "      <td>91.250000</td>\n",
       "      <td>Southeast Asia</td>\n",
       "      <td>Java Occidental</td>\n",
       "      <td>COMPLETE</td>\n",
       "      <td>NaN</td>\n",
       "      <td>1360</td>\n",
       "      <td>73</td>\n",
       "      <td>NaN</td>\n",
       "      <td>http://images.acmesports.sports/Smart+watch</td>\n",
       "      <td>Smart watch</td>\n",
       "      <td>327.75</td>\n",
       "      <td>0</td>\n",
       "      <td>2/3/2018 22:56</td>\n",
       "      <td>Standard Class</td>\n",
       "    </tr>\n",
       "    <tr>\n",
       "      <th>1</th>\n",
       "      <td>TRANSFER</td>\n",
       "      <td>5</td>\n",
       "      <td>4</td>\n",
       "      <td>-249.089996</td>\n",
       "      <td>311.359985</td>\n",
       "      <td>Late delivery</td>\n",
       "      <td>1</td>\n",
       "      <td>73</td>\n",
       "      <td>Sporting Goods</td>\n",
       "      <td>Caguas</td>\n",
       "      <td>Puerto Rico</td>\n",
       "      <td>XXXXXXXXX</td>\n",
       "      <td>Irene</td>\n",
       "      <td>19492</td>\n",
       "      <td>Luna</td>\n",
       "      <td>XXXXXXXXX</td>\n",
       "      <td>Consumer</td>\n",
       "      <td>PR</td>\n",
       "      <td>2679 Rustic Loop</td>\n",
       "      <td>725.0</td>\n",
       "      <td>2</td>\n",
       "      <td>Fitness</td>\n",
       "      <td>18.279451</td>\n",
       "      <td>-66.037064</td>\n",
       "      <td>Pacific Asia</td>\n",
       "      <td>Bikaner</td>\n",
       "      <td>India</td>\n",
       "      <td>19492</td>\n",
       "      <td>1/13/2018 12:27</td>\n",
       "      <td>75939</td>\n",
       "      <td>1360</td>\n",
       "      <td>16.389999</td>\n",
       "      <td>0.05</td>\n",
       "      <td>179254</td>\n",
       "      <td>327.75</td>\n",
       "      <td>-0.80</td>\n",
       "      <td>1</td>\n",
       "      <td>327.75</td>\n",
       "      <td>311.359985</td>\n",
       "      <td>-249.089996</td>\n",
       "      <td>South Asia</td>\n",
       "      <td>Rajastán</td>\n",
       "      <td>PENDING</td>\n",
       "      <td>NaN</td>\n",
       "      <td>1360</td>\n",
       "      <td>73</td>\n",
       "      <td>NaN</td>\n",
       "      <td>http://images.acmesports.sports/Smart+watch</td>\n",
       "      <td>Smart watch</td>\n",
       "      <td>327.75</td>\n",
       "      <td>0</td>\n",
       "      <td>1/18/2018 12:27</td>\n",
       "      <td>Standard Class</td>\n",
       "    </tr>\n",
       "    <tr>\n",
       "      <th>2</th>\n",
       "      <td>CASH</td>\n",
       "      <td>4</td>\n",
       "      <td>4</td>\n",
       "      <td>-247.779999</td>\n",
       "      <td>309.720001</td>\n",
       "      <td>Shipping on time</td>\n",
       "      <td>0</td>\n",
       "      <td>73</td>\n",
       "      <td>Sporting Goods</td>\n",
       "      <td>San Jose</td>\n",
       "      <td>EE. UU.</td>\n",
       "      <td>XXXXXXXXX</td>\n",
       "      <td>Gillian</td>\n",
       "      <td>19491</td>\n",
       "      <td>Maldonado</td>\n",
       "      <td>XXXXXXXXX</td>\n",
       "      <td>Consumer</td>\n",
       "      <td>CA</td>\n",
       "      <td>8510 Round Bear Gate</td>\n",
       "      <td>95125.0</td>\n",
       "      <td>2</td>\n",
       "      <td>Fitness</td>\n",
       "      <td>37.292233</td>\n",
       "      <td>-121.881279</td>\n",
       "      <td>Pacific Asia</td>\n",
       "      <td>Bikaner</td>\n",
       "      <td>India</td>\n",
       "      <td>19491</td>\n",
       "      <td>1/13/2018 12:06</td>\n",
       "      <td>75938</td>\n",
       "      <td>1360</td>\n",
       "      <td>18.030001</td>\n",
       "      <td>0.06</td>\n",
       "      <td>179253</td>\n",
       "      <td>327.75</td>\n",
       "      <td>-0.80</td>\n",
       "      <td>1</td>\n",
       "      <td>327.75</td>\n",
       "      <td>309.720001</td>\n",
       "      <td>-247.779999</td>\n",
       "      <td>South Asia</td>\n",
       "      <td>Rajastán</td>\n",
       "      <td>CLOSED</td>\n",
       "      <td>NaN</td>\n",
       "      <td>1360</td>\n",
       "      <td>73</td>\n",
       "      <td>NaN</td>\n",
       "      <td>http://images.acmesports.sports/Smart+watch</td>\n",
       "      <td>Smart watch</td>\n",
       "      <td>327.75</td>\n",
       "      <td>0</td>\n",
       "      <td>1/17/2018 12:06</td>\n",
       "      <td>Standard Class</td>\n",
       "    </tr>\n",
       "    <tr>\n",
       "      <th>3</th>\n",
       "      <td>DEBIT</td>\n",
       "      <td>3</td>\n",
       "      <td>4</td>\n",
       "      <td>22.860001</td>\n",
       "      <td>304.809998</td>\n",
       "      <td>Advance shipping</td>\n",
       "      <td>0</td>\n",
       "      <td>73</td>\n",
       "      <td>Sporting Goods</td>\n",
       "      <td>Los Angeles</td>\n",
       "      <td>EE. UU.</td>\n",
       "      <td>XXXXXXXXX</td>\n",
       "      <td>Tana</td>\n",
       "      <td>19490</td>\n",
       "      <td>Tate</td>\n",
       "      <td>XXXXXXXXX</td>\n",
       "      <td>Home Office</td>\n",
       "      <td>CA</td>\n",
       "      <td>3200 Amber Bend</td>\n",
       "      <td>90027.0</td>\n",
       "      <td>2</td>\n",
       "      <td>Fitness</td>\n",
       "      <td>34.125946</td>\n",
       "      <td>-118.291016</td>\n",
       "      <td>Pacific Asia</td>\n",
       "      <td>Townsville</td>\n",
       "      <td>Australia</td>\n",
       "      <td>19490</td>\n",
       "      <td>1/13/2018 11:45</td>\n",
       "      <td>75937</td>\n",
       "      <td>1360</td>\n",
       "      <td>22.940001</td>\n",
       "      <td>0.07</td>\n",
       "      <td>179252</td>\n",
       "      <td>327.75</td>\n",
       "      <td>0.08</td>\n",
       "      <td>1</td>\n",
       "      <td>327.75</td>\n",
       "      <td>304.809998</td>\n",
       "      <td>22.860001</td>\n",
       "      <td>Oceania</td>\n",
       "      <td>Queensland</td>\n",
       "      <td>COMPLETE</td>\n",
       "      <td>NaN</td>\n",
       "      <td>1360</td>\n",
       "      <td>73</td>\n",
       "      <td>NaN</td>\n",
       "      <td>http://images.acmesports.sports/Smart+watch</td>\n",
       "      <td>Smart watch</td>\n",
       "      <td>327.75</td>\n",
       "      <td>0</td>\n",
       "      <td>1/16/2018 11:45</td>\n",
       "      <td>Standard Class</td>\n",
       "    </tr>\n",
       "    <tr>\n",
       "      <th>4</th>\n",
       "      <td>PAYMENT</td>\n",
       "      <td>2</td>\n",
       "      <td>4</td>\n",
       "      <td>134.210007</td>\n",
       "      <td>298.250000</td>\n",
       "      <td>Advance shipping</td>\n",
       "      <td>0</td>\n",
       "      <td>73</td>\n",
       "      <td>Sporting Goods</td>\n",
       "      <td>Caguas</td>\n",
       "      <td>Puerto Rico</td>\n",
       "      <td>XXXXXXXXX</td>\n",
       "      <td>Orli</td>\n",
       "      <td>19489</td>\n",
       "      <td>Hendricks</td>\n",
       "      <td>XXXXXXXXX</td>\n",
       "      <td>Corporate</td>\n",
       "      <td>PR</td>\n",
       "      <td>8671 Iron Anchor Corners</td>\n",
       "      <td>725.0</td>\n",
       "      <td>2</td>\n",
       "      <td>Fitness</td>\n",
       "      <td>18.253769</td>\n",
       "      <td>-66.037048</td>\n",
       "      <td>Pacific Asia</td>\n",
       "      <td>Townsville</td>\n",
       "      <td>Australia</td>\n",
       "      <td>19489</td>\n",
       "      <td>1/13/2018 11:24</td>\n",
       "      <td>75936</td>\n",
       "      <td>1360</td>\n",
       "      <td>29.500000</td>\n",
       "      <td>0.09</td>\n",
       "      <td>179251</td>\n",
       "      <td>327.75</td>\n",
       "      <td>0.45</td>\n",
       "      <td>1</td>\n",
       "      <td>327.75</td>\n",
       "      <td>298.250000</td>\n",
       "      <td>134.210007</td>\n",
       "      <td>Oceania</td>\n",
       "      <td>Queensland</td>\n",
       "      <td>PENDING_PAYMENT</td>\n",
       "      <td>NaN</td>\n",
       "      <td>1360</td>\n",
       "      <td>73</td>\n",
       "      <td>NaN</td>\n",
       "      <td>http://images.acmesports.sports/Smart+watch</td>\n",
       "      <td>Smart watch</td>\n",
       "      <td>327.75</td>\n",
       "      <td>0</td>\n",
       "      <td>1/15/2018 11:24</td>\n",
       "      <td>Standard Class</td>\n",
       "    </tr>\n",
       "  </tbody>\n",
       "</table>\n",
       "</div>"
      ],
      "text/plain": [
       "       Type  Days for shipping (real)  Days for shipment (scheduled)  \\\n",
       "0     DEBIT                         3                              4   \n",
       "1  TRANSFER                         5                              4   \n",
       "2      CASH                         4                              4   \n",
       "3     DEBIT                         3                              4   \n",
       "4   PAYMENT                         2                              4   \n",
       "\n",
       "   Benefit per order  Sales per customer   Delivery Status  \\\n",
       "0          91.250000          314.640015  Advance shipping   \n",
       "1        -249.089996          311.359985     Late delivery   \n",
       "2        -247.779999          309.720001  Shipping on time   \n",
       "3          22.860001          304.809998  Advance shipping   \n",
       "4         134.210007          298.250000  Advance shipping   \n",
       "\n",
       "   Late_delivery_risk  Category Id   Category Name Customer City  \\\n",
       "0                   0           73  Sporting Goods        Caguas   \n",
       "1                   1           73  Sporting Goods        Caguas   \n",
       "2                   0           73  Sporting Goods      San Jose   \n",
       "3                   0           73  Sporting Goods   Los Angeles   \n",
       "4                   0           73  Sporting Goods        Caguas   \n",
       "\n",
       "  Customer Country Customer Email Customer Fname  Customer Id Customer Lname  \\\n",
       "0      Puerto Rico      XXXXXXXXX          Cally        20755       Holloway   \n",
       "1      Puerto Rico      XXXXXXXXX          Irene        19492           Luna   \n",
       "2          EE. UU.      XXXXXXXXX        Gillian        19491      Maldonado   \n",
       "3          EE. UU.      XXXXXXXXX           Tana        19490           Tate   \n",
       "4      Puerto Rico      XXXXXXXXX           Orli        19489      Hendricks   \n",
       "\n",
       "  Customer Password Customer Segment Customer State           Customer Street  \\\n",
       "0         XXXXXXXXX         Consumer             PR  5365 Noble Nectar Island   \n",
       "1         XXXXXXXXX         Consumer             PR          2679 Rustic Loop   \n",
       "2         XXXXXXXXX         Consumer             CA      8510 Round Bear Gate   \n",
       "3         XXXXXXXXX      Home Office             CA           3200 Amber Bend   \n",
       "4         XXXXXXXXX        Corporate             PR  8671 Iron Anchor Corners   \n",
       "\n",
       "   Customer Zipcode  Department Id Department Name   Latitude   Longitude  \\\n",
       "0             725.0              2         Fitness  18.251453  -66.037056   \n",
       "1             725.0              2         Fitness  18.279451  -66.037064   \n",
       "2           95125.0              2         Fitness  37.292233 -121.881279   \n",
       "3           90027.0              2         Fitness  34.125946 -118.291016   \n",
       "4             725.0              2         Fitness  18.253769  -66.037048   \n",
       "\n",
       "         Market  Order City Order Country  Order Customer Id  \\\n",
       "0  Pacific Asia      Bekasi     Indonesia              20755   \n",
       "1  Pacific Asia     Bikaner         India              19492   \n",
       "2  Pacific Asia     Bikaner         India              19491   \n",
       "3  Pacific Asia  Townsville     Australia              19490   \n",
       "4  Pacific Asia  Townsville     Australia              19489   \n",
       "\n",
       "  order date (DateOrders)  Order Id  Order Item Cardprod Id  \\\n",
       "0         1/31/2018 22:56     77202                    1360   \n",
       "1         1/13/2018 12:27     75939                    1360   \n",
       "2         1/13/2018 12:06     75938                    1360   \n",
       "3         1/13/2018 11:45     75937                    1360   \n",
       "4         1/13/2018 11:24     75936                    1360   \n",
       "\n",
       "   Order Item Discount  Order Item Discount Rate  Order Item Id  \\\n",
       "0            13.110000                      0.04         180517   \n",
       "1            16.389999                      0.05         179254   \n",
       "2            18.030001                      0.06         179253   \n",
       "3            22.940001                      0.07         179252   \n",
       "4            29.500000                      0.09         179251   \n",
       "\n",
       "   Order Item Product Price  Order Item Profit Ratio  Order Item Quantity  \\\n",
       "0                    327.75                     0.29                    1   \n",
       "1                    327.75                    -0.80                    1   \n",
       "2                    327.75                    -0.80                    1   \n",
       "3                    327.75                     0.08                    1   \n",
       "4                    327.75                     0.45                    1   \n",
       "\n",
       "    Sales  Order Item Total  Order Profit Per Order    Order Region  \\\n",
       "0  327.75        314.640015               91.250000  Southeast Asia   \n",
       "1  327.75        311.359985             -249.089996      South Asia   \n",
       "2  327.75        309.720001             -247.779999      South Asia   \n",
       "3  327.75        304.809998               22.860001         Oceania   \n",
       "4  327.75        298.250000              134.210007         Oceania   \n",
       "\n",
       "       Order State     Order Status  Order Zipcode  Product Card Id  \\\n",
       "0  Java Occidental         COMPLETE            NaN             1360   \n",
       "1         Rajastán          PENDING            NaN             1360   \n",
       "2         Rajastán           CLOSED            NaN             1360   \n",
       "3       Queensland         COMPLETE            NaN             1360   \n",
       "4       Queensland  PENDING_PAYMENT            NaN             1360   \n",
       "\n",
       "   Product Category Id  Product Description  \\\n",
       "0                   73                  NaN   \n",
       "1                   73                  NaN   \n",
       "2                   73                  NaN   \n",
       "3                   73                  NaN   \n",
       "4                   73                  NaN   \n",
       "\n",
       "                                  Product Image  Product Name  Product Price  \\\n",
       "0  http://images.acmesports.sports/Smart+watch   Smart watch          327.75   \n",
       "1  http://images.acmesports.sports/Smart+watch   Smart watch          327.75   \n",
       "2  http://images.acmesports.sports/Smart+watch   Smart watch          327.75   \n",
       "3  http://images.acmesports.sports/Smart+watch   Smart watch          327.75   \n",
       "4  http://images.acmesports.sports/Smart+watch   Smart watch          327.75   \n",
       "\n",
       "   Product Status shipping date (DateOrders)   Shipping Mode  \n",
       "0               0             2/3/2018 22:56  Standard Class  \n",
       "1               0            1/18/2018 12:27  Standard Class  \n",
       "2               0            1/17/2018 12:06  Standard Class  \n",
       "3               0            1/16/2018 11:45  Standard Class  \n",
       "4               0            1/15/2018 11:24  Standard Class  "
      ]
     },
     "execution_count": 4,
     "metadata": {},
     "output_type": "execute_result"
    }
   ],
   "source": [
    "# Set the display options to show all columns\n",
    "pd.set_option('display.max_columns', None)\n",
    "# Checking the first 5 rows of data\n",
    "df.head()"
   ]
  },
  {
   "cell_type": "code",
   "execution_count": 6,
   "metadata": {
    "colab": {
     "base_uri": "https://localhost:8080/"
    },
    "id": "7ackOmqUvaDP",
    "outputId": "d570b563-dbde-4e27-864d-26ab60799cf5"
   },
   "outputs": [
    {
     "data": {
      "text/plain": [
       "(180519, 53)"
      ]
     },
     "execution_count": 6,
     "metadata": {},
     "output_type": "execute_result"
    }
   ],
   "source": [
    "df.shape"
   ]
  },
  {
   "cell_type": "code",
   "execution_count": 7,
   "metadata": {
    "colab": {
     "base_uri": "https://localhost:8080/",
     "height": 1000
    },
    "id": "xDY3woHL0Vg4",
    "outputId": "6359fe2f-9311-4457-fc75-ec7e7f1100bc"
   },
   "outputs": [
    {
     "data": {
      "text/plain": [
       "Type                                  0\n",
       "Days for shipping (real)              0\n",
       "Days for shipment (scheduled)         0\n",
       "Benefit per order                     0\n",
       "Sales per customer                    0\n",
       "Delivery Status                       0\n",
       "Late_delivery_risk                    0\n",
       "Category Id                           0\n",
       "Category Name                         0\n",
       "Customer City                         0\n",
       "Customer Country                      0\n",
       "Customer Email                        0\n",
       "Customer Fname                        0\n",
       "Customer Id                           0\n",
       "Customer Lname                        8\n",
       "Customer Password                     0\n",
       "Customer Segment                      0\n",
       "Customer State                        0\n",
       "Customer Street                       0\n",
       "Customer Zipcode                      3\n",
       "Department Id                         0\n",
       "Department Name                       0\n",
       "Latitude                              0\n",
       "Longitude                             0\n",
       "Market                                0\n",
       "Order City                            0\n",
       "Order Country                         0\n",
       "Order Customer Id                     0\n",
       "order date (DateOrders)               0\n",
       "Order Id                              0\n",
       "Order Item Cardprod Id                0\n",
       "Order Item Discount                   0\n",
       "Order Item Discount Rate              0\n",
       "Order Item Id                         0\n",
       "Order Item Product Price              0\n",
       "Order Item Profit Ratio               0\n",
       "Order Item Quantity                   0\n",
       "Sales                                 0\n",
       "Order Item Total                      0\n",
       "Order Profit Per Order                0\n",
       "Order Region                          0\n",
       "Order State                           0\n",
       "Order Status                          0\n",
       "Order Zipcode                    155679\n",
       "Product Card Id                       0\n",
       "Product Category Id                   0\n",
       "Product Description              180519\n",
       "Product Image                         0\n",
       "Product Name                          0\n",
       "Product Price                         0\n",
       "Product Status                        0\n",
       "shipping date (DateOrders)            0\n",
       "Shipping Mode                         0\n",
       "dtype: int64"
      ]
     },
     "execution_count": 7,
     "metadata": {},
     "output_type": "execute_result"
    }
   ],
   "source": [
    "df.isnull().sum()"
   ]
  },
  {
   "cell_type": "markdown",
   "metadata": {
    "id": "qGN0Bc6VD8zn"
   },
   "source": [
    "# **check data**"
   ]
  },
  {
   "cell_type": "code",
   "execution_count": 8,
   "metadata": {
    "colab": {
     "base_uri": "https://localhost:8080/",
     "height": 241
    },
    "id": "AyZIgNICzsRq",
    "outputId": "eed54b85-3327-4ebf-9d0b-64e676335154"
   },
   "outputs": [
    {
     "data": {
      "text/plain": [
       "Type\n",
       "DEBIT       69295\n",
       "TRANSFER    49883\n",
       "PAYMENT     41725\n",
       "CASH        19616\n",
       "Name: count, dtype: int64"
      ]
     },
     "execution_count": 8,
     "metadata": {},
     "output_type": "execute_result"
    }
   ],
   "source": [
    "df['Type'].value_counts()"
   ]
  },
  {
   "cell_type": "code",
   "execution_count": 9,
   "metadata": {
    "colab": {
     "base_uri": "https://localhost:8080/",
     "height": 397
    },
    "id": "_Ec8aX4I8TNg",
    "outputId": "c94c1841-6dbf-4260-91f0-ef3bb48dbb7d"
   },
   "outputs": [
    {
     "data": {
      "text/plain": [
       "Order Status\n",
       "COMPLETE           59491\n",
       "PENDING_PAYMENT    39832\n",
       "PROCESSING         21902\n",
       "PENDING            20227\n",
       "CLOSED             19616\n",
       "ON_HOLD             9804\n",
       "SUSPECTED_FRAUD     4062\n",
       "CANCELED            3692\n",
       "PAYMENT_REVIEW      1893\n",
       "Name: count, dtype: int64"
      ]
     },
     "execution_count": 9,
     "metadata": {},
     "output_type": "execute_result"
    }
   ],
   "source": [
    "df['Order Status'].value_counts()"
   ]
  },
  {
   "cell_type": "code",
   "execution_count": 10,
   "metadata": {
    "colab": {
     "base_uri": "https://localhost:8080/",
     "height": 241
    },
    "id": "pzacfN6mkMMx",
    "outputId": "aebce819-4b79-4324-db3c-2dd8937e42a7"
   },
   "outputs": [
    {
     "data": {
      "text/plain": [
       "Shipping Mode\n",
       "Standard Class    107752\n",
       "Second Class       35216\n",
       "First Class        27814\n",
       "Same Day            9737\n",
       "Name: count, dtype: int64"
      ]
     },
     "execution_count": 10,
     "metadata": {},
     "output_type": "execute_result"
    }
   ],
   "source": [
    "df['Shipping Mode'].value_counts()"
   ]
  },
  {
   "cell_type": "code",
   "execution_count": 11,
   "metadata": {
    "colab": {
     "base_uri": "https://localhost:8080/",
     "height": 241
    },
    "id": "N4QAg6OJByT6",
    "outputId": "24701bfc-cc10-400e-c645-688632f2033d"
   },
   "outputs": [
    {
     "data": {
      "text/plain": [
       "Delivery Status\n",
       "Late delivery        98977\n",
       "Advance shipping     41592\n",
       "Shipping on time     32196\n",
       "Shipping canceled     7754\n",
       "Name: count, dtype: int64"
      ]
     },
     "execution_count": 11,
     "metadata": {},
     "output_type": "execute_result"
    }
   ],
   "source": [
    "df['Delivery Status'].value_counts()"
   ]
  },
  {
   "cell_type": "code",
   "execution_count": 12,
   "metadata": {
    "colab": {
     "base_uri": "https://localhost:8080/",
     "height": 147
    },
    "id": "twGB0i-WkzPx",
    "outputId": "6558b97e-6ecd-4e6a-b9b1-d6a0fd701184"
   },
   "outputs": [
    {
     "data": {
      "text/plain": [
       "Product Status\n",
       "0    180519\n",
       "Name: count, dtype: int64"
      ]
     },
     "execution_count": 12,
     "metadata": {},
     "output_type": "execute_result"
    }
   ],
   "source": [
    "# Status of the product stock :If it is 1 not available , 0 the product is available\n",
    "df['Product Status'].value_counts()"
   ]
  },
  {
   "cell_type": "code",
   "execution_count": 13,
   "metadata": {
    "colab": {
     "base_uri": "https://localhost:8080/"
    },
    "id": "GEBSGyQBlTgj",
    "outputId": "f4c50f8d-ff7f-48e7-fbdc-b6356eadd7e2"
   },
   "outputs": [
    {
     "data": {
      "text/plain": [
       "array([0], dtype=int64)"
      ]
     },
     "execution_count": 13,
     "metadata": {},
     "output_type": "execute_result"
    }
   ],
   "source": [
    "df['Product Status'].unique()"
   ]
  },
  {
   "cell_type": "code",
   "execution_count": 14,
   "metadata": {
    "colab": {
     "base_uri": "https://localhost:8080/"
    },
    "id": "chRKX5oVlW0A",
    "outputId": "cc7c47f4-5a41-427b-bae0-b0d8c004849b"
   },
   "outputs": [
    {
     "name": "stdout",
     "output_type": "stream",
     "text": [
      "Number of unique product statuses: 1\n"
     ]
    }
   ],
   "source": [
    "num_unique_product_statuses = df['Product Status'].nunique()\n",
    "print(f\"Number of unique product statuses: {num_unique_product_statuses}\")"
   ]
  },
  {
   "cell_type": "code",
   "execution_count": 15,
   "metadata": {
    "colab": {
     "base_uri": "https://localhost:8080/",
     "height": 1000
    },
    "id": "0eO-niEokUBn",
    "outputId": "42375f90-5144-4e0d-d179-3def9de7d636"
   },
   "outputs": [
    {
     "data": {
      "text/plain": [
       "Delivery Status    Product Status  Shipping Mode   Type    \n",
       "Advance shipping   0               Standard Class  DEBIT       16549\n",
       "Late delivery      0               Standard Class  DEBIT       16408\n",
       "                                   First Class     DEBIT       10762\n",
       "                                   Second Class    DEBIT       10720\n",
       "Advance shipping   0               Standard Class  TRANSFER    10226\n",
       "Late delivery      0               Standard Class  TRANSFER    10121\n",
       "Advance shipping   0               Standard Class  PAYMENT     10008\n",
       "Late delivery      0               Standard Class  PAYMENT      9961\n",
       "Shipping on time   0               Standard Class  DEBIT        8420\n",
       "Late delivery      0               Second Class    PAYMENT      6775\n",
       "                                   First Class     TRANSFER     6512\n",
       "                                   Second Class    TRANSFER     6497\n",
       "                                   First Class     PAYMENT      6222\n",
       "Shipping on time   0               Standard Class  PAYMENT      4942\n",
       "                                                   TRANSFER     4847\n",
       "Advance shipping   0               Standard Class  CASH         4809\n",
       "Shipping canceled  0               Standard Class  TRANSFER     4599\n",
       "Late delivery      0               Standard Class  CASH         4533\n",
       "                                   First Class     CASH         3017\n",
       "                                   Second Class    CASH         2995\n",
       "Shipping on time   0               Second Class    DEBIT        2750\n",
       "                                   Standard Class  CASH         2329\n",
       "                                   Same Day        DEBIT        1927\n",
       "Late delivery      0               Same Day        DEBIT        1759\n",
       "Shipping on time   0               Second Class    TRANSFER     1632\n",
       "                                                   PAYMENT      1628\n",
       "Shipping canceled  0               Second Class    TRANSFER     1410\n",
       "                                   First Class     TRANSFER     1301\n",
       "Shipping on time   0               Same Day        TRANSFER     1209\n",
       "                                                   PAYMENT      1143\n",
       "Late delivery      0               Same Day        TRANSFER     1085\n",
       "                                                   PAYMENT      1046\n",
       "Shipping on time   0               Second Class    CASH          809\n",
       "Late delivery      0               Same Day        CASH          564\n",
       "Shipping on time   0               Same Day        CASH          560\n",
       "Shipping canceled  0               Same Day        TRANSFER      444\n",
       "Name: count, dtype: int64"
      ]
     },
     "execution_count": 15,
     "metadata": {},
     "output_type": "execute_result"
    }
   ],
   "source": [
    "df[['Delivery Status', 'Product Status', 'Shipping Mode','Type' ]].value_counts()"
   ]
  },
  {
   "cell_type": "code",
   "execution_count": 16,
   "metadata": {
    "colab": {
     "base_uri": "https://localhost:8080/",
     "height": 1000
    },
    "id": "nKeGSdQg0MdW",
    "outputId": "b53a8bd8-b34c-4ab3-a2e2-0a46ec994c56"
   },
   "outputs": [
    {
     "data": {
      "text/plain": [
       "Type                              object\n",
       "Days for shipping (real)           int64\n",
       "Days for shipment (scheduled)      int64\n",
       "Benefit per order                float64\n",
       "Sales per customer               float64\n",
       "Delivery Status                   object\n",
       "Late_delivery_risk                 int64\n",
       "Category Id                        int64\n",
       "Category Name                     object\n",
       "Customer City                     object\n",
       "Customer Country                  object\n",
       "Customer Email                    object\n",
       "Customer Fname                    object\n",
       "Customer Id                        int64\n",
       "Customer Lname                    object\n",
       "Customer Password                 object\n",
       "Customer Segment                  object\n",
       "Customer State                    object\n",
       "Customer Street                   object\n",
       "Customer Zipcode                 float64\n",
       "Department Id                      int64\n",
       "Department Name                   object\n",
       "Latitude                         float64\n",
       "Longitude                        float64\n",
       "Market                            object\n",
       "Order City                        object\n",
       "Order Country                     object\n",
       "Order Customer Id                  int64\n",
       "order date (DateOrders)           object\n",
       "Order Id                           int64\n",
       "Order Item Cardprod Id             int64\n",
       "Order Item Discount              float64\n",
       "Order Item Discount Rate         float64\n",
       "Order Item Id                      int64\n",
       "Order Item Product Price         float64\n",
       "Order Item Profit Ratio          float64\n",
       "Order Item Quantity                int64\n",
       "Sales                            float64\n",
       "Order Item Total                 float64\n",
       "Order Profit Per Order           float64\n",
       "Order Region                      object\n",
       "Order State                       object\n",
       "Order Status                      object\n",
       "Order Zipcode                    float64\n",
       "Product Card Id                    int64\n",
       "Product Category Id                int64\n",
       "Product Description              float64\n",
       "Product Image                     object\n",
       "Product Name                      object\n",
       "Product Price                    float64\n",
       "Product Status                     int64\n",
       "shipping date (DateOrders)        object\n",
       "Shipping Mode                     object\n",
       "dtype: object"
      ]
     },
     "execution_count": 16,
     "metadata": {},
     "output_type": "execute_result"
    }
   ],
   "source": [
    "df.dtypes"
   ]
  },
  {
   "cell_type": "code",
   "execution_count": 18,
   "metadata": {
    "colab": {
     "base_uri": "https://localhost:8080/"
    },
    "id": "8XtFhr3K1S7_",
    "outputId": "945b585d-bbc6-4f48-fe95-2fa3f86dd226"
   },
   "outputs": [
    {
     "data": {
      "text/plain": [
       "0"
      ]
     },
     "execution_count": 18,
     "metadata": {},
     "output_type": "execute_result"
    }
   ],
   "source": [
    "df.duplicated().sum()"
   ]
  },
  {
   "cell_type": "code",
   "execution_count": 19,
   "metadata": {
    "colab": {
     "base_uri": "https://localhost:8080/",
     "height": 458
    },
    "id": "NUknRcQkjaCF",
    "outputId": "980ea22a-892c-4fd9-94b7-057e91f4eff8"
   },
   "outputs": [
    {
     "data": {
      "text/plain": [
       "0        NaN\n",
       "1        NaN\n",
       "2        NaN\n",
       "3        NaN\n",
       "4        NaN\n",
       "          ..\n",
       "180514   NaN\n",
       "180515   NaN\n",
       "180516   NaN\n",
       "180517   NaN\n",
       "180518   NaN\n",
       "Name: Product Description, Length: 180519, dtype: float64"
      ]
     },
     "execution_count": 19,
     "metadata": {},
     "output_type": "execute_result"
    }
   ],
   "source": [
    "df['Product Description']"
   ]
  },
  {
   "cell_type": "markdown",
   "metadata": {
    "id": "9BIFKJplS5KM"
   },
   "source": [
    "# **Variables**\n",
    "\n",
    "- **Customer Data:(11)** Customer Id, Customer City, Customer Country, Customer Email, Customer Fname, Customer Lname, Customer Password, Customer Segment, Customer State, Customer Street, Customer Zipcode\n",
    "\n",
    "\n",
    "- **Order Data:(21)**\n",
    "Order Id, Order Customer Id, Order Item Id, Order Item Cardprod Id\n",
    "Order date (DateOrders)\n",
    "Order Status\n",
    "Order City, Order Country, Order Region, Order State, Order Zipcode\n",
    "Order Item Quantity, Order Item Discount, Order Item Discount Rate\n",
    "Order Item Product Price, Order Item Profit Ratio\n",
    "Order Item Total, Order Profit Per Order\n",
    "Sales, Benefit per order, Sales per customer\n",
    "\n",
    "\n",
    "- **Product Data:(10/11)** Product Card Id, Category Id = Product Category Id\n",
    "Category Name\n",
    "Product Name, Product Description, Product Image\n",
    "Product Price, Product Status\n",
    "Department Id, Department Name\n",
    "\n",
    "- **Shipping/Delivery:(10)**\n",
    "Type\n",
    "Shipping Mode\n",
    "shipping date (DateOrders)\n",
    "Days for shipping (real)\n",
    "Days for shipment (scheduled)\n",
    "Delivery Status\n",
    "Late_delivery_risk\n",
    "Latitude, Longitude\n",
    "Market"
   ]
  },
  {
   "cell_type": "markdown",
   "metadata": {
    "id": "eGCU23PjFX0Z"
   },
   "source": [
    "# **Data Cleaning**"
   ]
  },
  {
   "cell_type": "code",
   "execution_count": 5,
   "metadata": {
    "id": "w0oTe1UOEufJ"
   },
   "outputs": [],
   "source": [
    "df['Customer_Full_Name'] = df['Customer Fname'].astype(str) + ' ' + df['Customer Lname'].astype(str)"
   ]
  },
  {
   "cell_type": "markdown",
   "metadata": {
    "id": "OmeicBqZFJHy"
   },
   "source": [
    "# **check full name**"
   ]
  },
  {
   "cell_type": "code",
   "execution_count": 6,
   "metadata": {
    "id": "-6VzhFkjE5jS"
   },
   "outputs": [
    {
     "data": {
      "text/plain": [
       "0            Cally Holloway\n",
       "1                Irene Luna\n",
       "2         Gillian Maldonado\n",
       "3                 Tana Tate\n",
       "4            Orli Hendricks\n",
       "                ...        \n",
       "180514       Maria Peterson\n",
       "180515         Ronald Clark\n",
       "180516           John Smith\n",
       "180517           Mary Smith\n",
       "180518        Andrea Ortega\n",
       "Name: Customer_Full_Name, Length: 180519, dtype: object"
      ]
     },
     "execution_count": 6,
     "metadata": {},
     "output_type": "execute_result"
    }
   ],
   "source": [
    "df['Customer_Full_Name']"
   ]
  },
  {
   "cell_type": "code",
   "execution_count": 22,
   "metadata": {
    "id": "TVD06lgkFFoF"
   },
   "outputs": [
    {
     "data": {
      "text/plain": [
       "Customer_Full_Name\n",
       "Mary Smith           23884\n",
       "Robert Smith           744\n",
       "James Smith            726\n",
       "David Smith            723\n",
       "John Smith             645\n",
       "                     ...  \n",
       "Kevyn Christensen        1\n",
       "Karleigh Conley          1\n",
       "Linda Workman            1\n",
       "Mari Beach               1\n",
       "Hyacinth Witt            1\n",
       "Name: count, Length: 14033, dtype: int64"
      ]
     },
     "execution_count": 22,
     "metadata": {},
     "output_type": "execute_result"
    }
   ],
   "source": [
    "df['Customer_Full_Name'].value_counts()"
   ]
  },
  {
   "cell_type": "code",
   "execution_count": 23,
   "metadata": {
    "id": "Vs_0DwvMFEas"
   },
   "outputs": [
    {
     "name": "stdout",
     "output_type": "stream",
     "text": [
      "['Cally Holloway' 'Irene Luna' 'Gillian Maldonado' ... 'Anika Davenport'\n",
      " 'Yuri Smith' 'Hyacinth Witt']\n"
     ]
    }
   ],
   "source": [
    "unique_names = df['Customer_Full_Name'].unique()\n",
    "print(unique_names)"
   ]
  },
  {
   "cell_type": "code",
   "execution_count": 24,
   "metadata": {
    "id": "7J2RFJYbFOOJ"
   },
   "outputs": [
    {
     "name": "stdout",
     "output_type": "stream",
     "text": [
      "Number of unique names: 14033\n"
     ]
    }
   ],
   "source": [
    "num_unique_names = len(unique_names)\n",
    "print(f\"Number of unique names: {num_unique_names}\")"
   ]
  },
  {
   "cell_type": "code",
   "execution_count": 25,
   "metadata": {},
   "outputs": [
    {
     "data": {
      "text/plain": [
       "166486"
      ]
     },
     "execution_count": 25,
     "metadata": {},
     "output_type": "execute_result"
    }
   ],
   "source": [
    "df['Customer_Full_Name'].duplicated().sum()"
   ]
  },
  {
   "cell_type": "markdown",
   "metadata": {
    "id": "O7xpi5MEFc-m"
   },
   "source": [
    "# **Data Cleaning**"
   ]
  },
  {
   "cell_type": "code",
   "execution_count": 6,
   "metadata": {
    "id": "OTiwowtdjzdv"
   },
   "outputs": [],
   "source": [
    "df.drop(['Customer Email','Product Status','Customer Password','Customer Street','Customer Fname',\n",
    "         'Customer Lname','Latitude','Longitude','Product Description','Product Image','Order Zipcode',\n",
    "         'shipping date (DateOrders)'],axis=1, inplace = True)\n",
    "\n"
   ]
  },
  {
   "cell_type": "code",
   "execution_count": 27,
   "metadata": {
    "colab": {
     "base_uri": "https://localhost:8080/"
    },
    "id": "EzP9oqN4tvur",
    "outputId": "358f10c2-b640-4561-ec8a-1efcc0b09af8"
   },
   "outputs": [
    {
     "data": {
      "text/plain": [
       "(180519, 42)"
      ]
     },
     "execution_count": 27,
     "metadata": {},
     "output_type": "execute_result"
    }
   ],
   "source": [
    "df.shape"
   ]
  },
  {
   "cell_type": "code",
   "execution_count": 7,
   "metadata": {
    "id": "XG04wmqVuDhO"
   },
   "outputs": [],
   "source": [
    "#Customer Zipcode has 3 null values which we will fill with 0 as we cannot be sure of the zip code of the customers\n",
    "df['Customer Zipcode'] = df['Customer Zipcode'].fillna(0)"
   ]
  },
  {
   "cell_type": "code",
   "execution_count": 29,
   "metadata": {
    "colab": {
     "base_uri": "https://localhost:8080/",
     "height": 1000
    },
    "id": "0V9Br696w6Qn",
    "outputId": "7826d48c-6bfd-4d44-b644-c14b1da2fa01"
   },
   "outputs": [
    {
     "data": {
      "text/plain": [
       "Type                             0\n",
       "Days for shipping (real)         0\n",
       "Days for shipment (scheduled)    0\n",
       "Benefit per order                0\n",
       "Sales per customer               0\n",
       "Delivery Status                  0\n",
       "Late_delivery_risk               0\n",
       "Category Id                      0\n",
       "Category Name                    0\n",
       "Customer City                    0\n",
       "Customer Country                 0\n",
       "Customer Id                      0\n",
       "Customer Segment                 0\n",
       "Customer State                   0\n",
       "Customer Zipcode                 0\n",
       "Department Id                    0\n",
       "Department Name                  0\n",
       "Market                           0\n",
       "Order City                       0\n",
       "Order Country                    0\n",
       "Order Customer Id                0\n",
       "order date (DateOrders)          0\n",
       "Order Id                         0\n",
       "Order Item Cardprod Id           0\n",
       "Order Item Discount              0\n",
       "Order Item Discount Rate         0\n",
       "Order Item Id                    0\n",
       "Order Item Product Price         0\n",
       "Order Item Profit Ratio          0\n",
       "Order Item Quantity              0\n",
       "Sales                            0\n",
       "Order Item Total                 0\n",
       "Order Profit Per Order           0\n",
       "Order Region                     0\n",
       "Order State                      0\n",
       "Order Status                     0\n",
       "Product Card Id                  0\n",
       "Product Category Id              0\n",
       "Product Name                     0\n",
       "Product Price                    0\n",
       "Shipping Mode                    0\n",
       "Customer_Full_Name               0\n",
       "dtype: int64"
      ]
     },
     "execution_count": 29,
     "metadata": {},
     "output_type": "execute_result"
    }
   ],
   "source": [
    "df.isnull().sum()"
   ]
  },
  {
   "cell_type": "markdown",
   "metadata": {
    "id": "mJ671s57F4_4"
   },
   "source": [
    "# **Why need to split order date**"
   ]
  },
  {
   "cell_type": "markdown",
   "metadata": {
    "id": "Z7B8D9UEzCVB"
   },
   "source": [
    "- **Temporal patterns in fraud:**\n",
    "\n",
    "  - Fraudulent transactions may occur more frequently during specific days of the week (e.g., weekends) or hours of the day (e.g., late night or non-business hours).\n",
    "  - Certain months or years may correspond to known spikes in fraudulent activity (e.g., holiday seasons, financial crises).\n",
    "\n",
    "- **Feature engineering for the model:**\n",
    "\n",
    "  - Neural networks and other models work better with numerical or categorical  inputs rather than raw datetime objects.By breaking down the date into components, the model can learn patterns more effectively.\n",
    "\n",
    "- **Improved detection of anomalies:**\n",
    "  - If most orders occur during regular business hours or specific days, an unusual time (e.g., 3 AM on a Sunday) might be a signal of fraud.\n",
    "\n",
    "- **Simplifies model training:**\n",
    "\n",
    "  - Separating datetime features into granular units allows the model to capture interactions and patterns that might be hidden in the raw datetime field."
   ]
  },
  {
   "cell_type": "markdown",
   "metadata": {
    "id": "06oj5PuWFyUb"
   },
   "source": [
    "# **Data Cleaning**"
   ]
  },
  {
   "cell_type": "code",
   "execution_count": 8,
   "metadata": {
    "colab": {
     "base_uri": "https://localhost:8080/",
     "height": 241
    },
    "id": "sFsdhEkiGpDP",
    "outputId": "5568bbfd-d2e8-429d-b56e-b3946dc1f1cf"
   },
   "outputs": [
    {
     "data": {
      "text/plain": [
       "0    1/31/2018 22:56\n",
       "1    1/13/2018 12:27\n",
       "2    1/13/2018 12:06\n",
       "3    1/13/2018 11:45\n",
       "4    1/13/2018 11:24\n",
       "Name: order date (DateOrders), dtype: object"
      ]
     },
     "execution_count": 8,
     "metadata": {},
     "output_type": "execute_result"
    }
   ],
   "source": [
    "df['order date (DateOrders)'].head()"
   ]
  },
  {
   "cell_type": "code",
   "execution_count": 9,
   "metadata": {
    "id": "K4-FAqEoyZoG"
   },
   "outputs": [],
   "source": [
    "## Splitting Order dates and creating new columns\n",
    "df['order_yr']= pd.DatetimeIndex(df['order date (DateOrders)']).year\n",
    "df['order_month'] = pd.DatetimeIndex(df['order date (DateOrders)']).month\n",
    "df['order_day'] = pd.DatetimeIndex(df['order date (DateOrders)']).weekday\n",
    "df['order_hour'] = pd.DatetimeIndex(df['order date (DateOrders)']).hour"
   ]
  },
  {
   "cell_type": "markdown",
   "metadata": {
    "id": "qd06bSUiFkws"
   },
   "source": [
    "# **Check order date and time**"
   ]
  },
  {
   "cell_type": "code",
   "execution_count": 11,
   "metadata": {},
   "outputs": [
    {
     "data": {
      "text/plain": [
       "pandas.core.series.Series"
      ]
     },
     "execution_count": 11,
     "metadata": {},
     "output_type": "execute_result"
    }
   ],
   "source": [
    "type(df['order_yr'])\n",
    "#type(df['order_month'])"
   ]
  },
  {
   "cell_type": "code",
   "execution_count": 12,
   "metadata": {
    "colab": {
     "base_uri": "https://localhost:8080/",
     "height": 458
    },
    "id": "cMXs6_Orynhj",
    "outputId": "e2bc29bc-e926-4c31-a360-409482ee0379"
   },
   "outputs": [
    {
     "data": {
      "text/plain": [
       "pandas.core.series.Series"
      ]
     },
     "execution_count": 12,
     "metadata": {},
     "output_type": "execute_result"
    }
   ],
   "source": [
    "type(df['order_day'])"
   ]
  },
  {
   "cell_type": "code",
   "execution_count": 33,
   "metadata": {
    "colab": {
     "base_uri": "https://localhost:8080/",
     "height": 458
    },
    "id": "VAzMhqiTyqXj",
    "outputId": "00dccd19-3e00-41d0-89af-ed82b7544485"
   },
   "outputs": [
    {
     "data": {
      "text/plain": [
       "0         22\n",
       "1         12\n",
       "2         12\n",
       "3         11\n",
       "4         11\n",
       "          ..\n",
       "180514     3\n",
       "180515     1\n",
       "180516    21\n",
       "180517    20\n",
       "180518    18\n",
       "Name: order_hour, Length: 180519, dtype: int32"
      ]
     },
     "execution_count": 33,
     "metadata": {},
     "output_type": "execute_result"
    }
   ],
   "source": [
    "df['order_hour']"
   ]
  },
  {
   "cell_type": "code",
   "execution_count": 34,
   "metadata": {
    "colab": {
     "base_uri": "https://localhost:8080/",
     "height": 458
    },
    "id": "3vUY21n3yr5k",
    "outputId": "d95d8729-db28-4aa6-d6d5-f7e2849b311f"
   },
   "outputs": [
    {
     "data": {
      "text/plain": [
       "0         1\n",
       "1         1\n",
       "2         1\n",
       "3         1\n",
       "4         1\n",
       "         ..\n",
       "180514    1\n",
       "180515    1\n",
       "180516    1\n",
       "180517    1\n",
       "180518    1\n",
       "Name: order_month, Length: 180519, dtype: int32"
      ]
     },
     "execution_count": 34,
     "metadata": {},
     "output_type": "execute_result"
    }
   ],
   "source": [
    "df['order_month']"
   ]
  },
  {
   "cell_type": "markdown",
   "metadata": {
    "id": "V-wmuiP7zyJq"
   },
   "source": [
    "# **Data Visualization**"
   ]
  },
  {
   "cell_type": "code",
   "execution_count": 35,
   "metadata": {
    "colab": {
     "base_uri": "https://localhost:8080/"
    },
    "id": "cluIXiZD4nnn",
    "outputId": "849b8da0-38d2-4f7c-8e3e-a41a2ff2617d"
   },
   "outputs": [
    {
     "name": "stdout",
     "output_type": "stream",
     "text": [
      "<class 'pandas.core.frame.DataFrame'>\n",
      "RangeIndex: 180519 entries, 0 to 180518\n",
      "Data columns (total 46 columns):\n",
      " #   Column                         Non-Null Count   Dtype  \n",
      "---  ------                         --------------   -----  \n",
      " 0   Type                           180519 non-null  object \n",
      " 1   Days for shipping (real)       180519 non-null  int64  \n",
      " 2   Days for shipment (scheduled)  180519 non-null  int64  \n",
      " 3   Benefit per order              180519 non-null  float64\n",
      " 4   Sales per customer             180519 non-null  float64\n",
      " 5   Delivery Status                180519 non-null  object \n",
      " 6   Late_delivery_risk             180519 non-null  int64  \n",
      " 7   Category Id                    180519 non-null  int64  \n",
      " 8   Category Name                  180519 non-null  object \n",
      " 9   Customer City                  180519 non-null  object \n",
      " 10  Customer Country               180519 non-null  object \n",
      " 11  Customer Id                    180519 non-null  int64  \n",
      " 12  Customer Segment               180519 non-null  object \n",
      " 13  Customer State                 180519 non-null  object \n",
      " 14  Customer Zipcode               180519 non-null  float64\n",
      " 15  Department Id                  180519 non-null  int64  \n",
      " 16  Department Name                180519 non-null  object \n",
      " 17  Market                         180519 non-null  object \n",
      " 18  Order City                     180519 non-null  object \n",
      " 19  Order Country                  180519 non-null  object \n",
      " 20  Order Customer Id              180519 non-null  int64  \n",
      " 21  order date (DateOrders)        180519 non-null  object \n",
      " 22  Order Id                       180519 non-null  int64  \n",
      " 23  Order Item Cardprod Id         180519 non-null  int64  \n",
      " 24  Order Item Discount            180519 non-null  float64\n",
      " 25  Order Item Discount Rate       180519 non-null  float64\n",
      " 26  Order Item Id                  180519 non-null  int64  \n",
      " 27  Order Item Product Price       180519 non-null  float64\n",
      " 28  Order Item Profit Ratio        180519 non-null  float64\n",
      " 29  Order Item Quantity            180519 non-null  int64  \n",
      " 30  Sales                          180519 non-null  float64\n",
      " 31  Order Item Total               180519 non-null  float64\n",
      " 32  Order Profit Per Order         180519 non-null  float64\n",
      " 33  Order Region                   180519 non-null  object \n",
      " 34  Order State                    180519 non-null  object \n",
      " 35  Order Status                   180519 non-null  object \n",
      " 36  Product Card Id                180519 non-null  int64  \n",
      " 37  Product Category Id            180519 non-null  int64  \n",
      " 38  Product Name                   180519 non-null  object \n",
      " 39  Product Price                  180519 non-null  float64\n",
      " 40  Shipping Mode                  180519 non-null  object \n",
      " 41  Customer_Full_Name             180519 non-null  object \n",
      " 42  order_yr                       180519 non-null  int32  \n",
      " 43  order_month                    180519 non-null  int32  \n",
      " 44  order_day                      180519 non-null  int32  \n",
      " 45  order_hour                     180519 non-null  int32  \n",
      "dtypes: float64(11), int32(4), int64(13), object(18)\n",
      "memory usage: 60.6+ MB\n"
     ]
    }
   ],
   "source": [
    "df.info()"
   ]
  },
  {
   "cell_type": "code",
   "execution_count": 11,
   "metadata": {
    "colab": {
     "base_uri": "https://localhost:8080/"
    },
    "id": "s9OkMZnX5DkC",
    "outputId": "fbd83adc-e6d4-45c1-9c5a-f589f68aa967"
   },
   "outputs": [
    {
     "name": "stdout",
     "output_type": "stream",
     "text": [
      "Categorical Features: ['Type', 'Delivery Status', 'Category Name', 'Customer City', 'Customer Country', 'Customer Segment', 'Customer State', 'Department Name', 'Market', 'Order City', 'Order Country', 'order date (DateOrders)', 'Order Region', 'Order State', 'Order Status', 'Product Name', 'Shipping Mode', 'Customer_Full_Name']\n",
      "Numerical Features: ['Days for shipping (real)', 'Days for shipment (scheduled)', 'Benefit per order', 'Sales per customer', 'Late_delivery_risk', 'Category Id', 'Customer Id', 'Customer Zipcode', 'Department Id', 'Order Customer Id', 'Order Id', 'Order Item Cardprod Id', 'Order Item Discount', 'Order Item Discount Rate', 'Order Item Id', 'Order Item Product Price', 'Order Item Profit Ratio', 'Order Item Quantity', 'Sales', 'Order Item Total', 'Order Profit Per Order', 'Product Card Id', 'Product Category Id', 'Product Price', 'order_yr', 'order_month', 'order_day', 'order_hour']\n"
     ]
    }
   ],
   "source": [
    "# Separating categorical and numerical features\n",
    "categorical_features = df.select_dtypes(include=['object']).columns.tolist()\n",
    "numerical_features = df.select_dtypes(include=['float64', 'int64', 'int32']).columns.tolist()\n",
    "\n",
    "print(\"Categorical Features:\", categorical_features)\n",
    "print(\"Numerical Features:\", numerical_features)\n"
   ]
  },
  {
   "cell_type": "code",
   "execution_count": 37,
   "metadata": {
    "colab": {
     "base_uri": "https://localhost:8080/"
    },
    "id": "xHNn4Xpd5Hju",
    "outputId": "72c0af21-ad35-4114-878b-3d9a59f3f956"
   },
   "outputs": [
    {
     "name": "stdout",
     "output_type": "stream",
     "text": [
      "Levels in Type: 4 unique values\n",
      "['DEBIT' 'TRANSFER' 'CASH' 'PAYMENT'] \n",
      "\n",
      "Levels in Delivery Status: 4 unique values\n",
      "['Advance shipping' 'Late delivery' 'Shipping on time' 'Shipping canceled'] \n",
      "\n",
      "Levels in Category Name: 50 unique values\n",
      "['Sporting Goods' 'Cleats' 'Shop By Sport' \"Women's Apparel\" 'Electronics'\n",
      " 'Boxing & MMA' 'Cardio Equipment' 'Trade-In' \"Kids' Golf Clubs\"\n",
      " 'Hunting & Shooting' 'Baseball & Softball' \"Men's Footwear\"\n",
      " 'Camping & Hiking' 'Consumer Electronics' 'Cameras ' 'Computers'\n",
      " 'Basketball' 'Soccer' \"Girls' Apparel\" 'Accessories' \"Women's Clothing\"\n",
      " 'Crafts' \"Men's Clothing\" 'Tennis & Racquet' 'Fitness Accessories'\n",
      " 'As Seen on  TV!' 'Golf Balls' 'Strength Training' \"Children's Clothing\"\n",
      " 'Lacrosse' 'Baby ' 'Fishing' 'Books ' 'DVDs' 'CDs ' 'Garden' 'Hockey'\n",
      " 'Pet Supplies' 'Health and Beauty' 'Music' 'Video Games' 'Golf Gloves'\n",
      " 'Golf Bags & Carts' 'Golf Shoes' 'Golf Apparel' \"Women's Golf Clubs\"\n",
      " \"Men's Golf Clubs\" 'Toys' 'Water Sports' 'Indoor/Outdoor Games'] \n",
      "\n",
      "Levels in Customer City: 563 unique values\n",
      "['Caguas' 'San Jose' 'Los Angeles' 'Tonawanda' 'Miami' 'San Ramon'\n",
      " 'Freeport' 'Salinas' 'Peabody' 'Canovanas' 'Paramount' 'Mount Prospect'\n",
      " 'Long Beach' 'Rancho Cordova' 'Billings' 'Wilkes Barre' 'Roseville'\n",
      " 'Bellflower' 'Wheaton' 'Detroit' 'Dallas' 'Carlisle' 'Newark'\n",
      " 'Panorama City' 'Atlanta' 'Fremont' 'Rochester' 'Bayamon' 'Guayama'\n",
      " 'Juana Diaz' 'Fort Washington' 'Bakersfield' 'Corona' 'Cincinnati'\n",
      " 'Germantown' 'Carrollton' 'Houston' 'Ewa Beach' 'Lakewood' 'Rome' 'Vista'\n",
      " 'Fort Worth' 'Fond Du Lac' 'Philadelphia' 'Ontario' 'Oviedo' 'Buffalo'\n",
      " 'Honolulu' 'Oceanside' 'North Tonawanda' 'Clovis' 'Jamaica'\n",
      " 'Granite City' 'Medford' 'Pomona' 'Tempe' 'Santa Ana' 'York' 'Aurora'\n",
      " 'Simi Valley' 'Silver Spring' 'Saint Paul' 'San Antonio' 'Bronx'\n",
      " 'Greenville' 'Morristown' 'San Diego' 'Oxnard' 'Albuquerque' 'Amarillo'\n",
      " 'Lutz' 'Bend' 'East Brunswick' 'Lancaster' 'Hampton' 'New York'\n",
      " 'Porterville' 'Portland' 'Strongsville' 'El Paso' 'Del Rio' 'Bountiful'\n",
      " 'Kent' 'Chicago' 'Plymouth' 'Far Rockaway' 'Garden Grove' 'Placentia'\n",
      " 'Mentor' 'Santa Clara' 'Union' 'Westminster' 'Pompano Beach' 'Azusa'\n",
      " 'Fort Lauderdale' 'Princeton' 'Perth Amboy' 'Loveland' 'Virginia Beach'\n",
      " 'Louisville' 'Lockport' 'Staten Island' 'Tucson' 'Cleveland' 'Webster'\n",
      " 'Stockton' 'Martinsburg' 'Cumberland' 'Pekin' 'Tallahassee'\n",
      " 'Jacksonville' 'Woonsocket' 'Lithonia' 'Oak Lawn' 'Alhambra' 'New Haven'\n",
      " 'Phoenix' 'Kenner' 'Washington' 'Holland' 'Morrisville' 'Memphis'\n",
      " 'Federal Way' 'West Covina' 'Ventura' 'Valrico' 'Kaneohe' 'Brooklyn'\n",
      " 'Lodi' 'Murfreesboro' 'Carlsbad' 'Hamilton' 'Hayward' 'Bridgeton'\n",
      " 'Bay Shore' 'Palatine' 'Smyrna' 'Van Nuys' 'Opa Locka' 'Edison' 'Baytown'\n",
      " 'Sylmar' 'Burnsville' 'Huntington Station' 'Sunnyvale' 'Sugar Land'\n",
      " 'Brighton' 'Bismarck' 'Gaithersburg' 'Lilburn' 'Provo' 'Columbia'\n",
      " 'Marietta' 'Rio Grande' 'Denver' 'Taylor' 'Saint Charles' 'Cupertino'\n",
      " 'Springfield' 'Mission Viejo' 'Roswell' 'Ypsilanti' 'Peoria' 'Clementon'\n",
      " 'Antioch' 'Salt Lake City' 'Granada Hills' 'Hempstead' 'Astoria' 'Gilroy'\n",
      " 'Lenoir' 'Columbus' 'Albany' 'Humacao' 'Lindenhurst' 'Elyria' 'Riverside'\n",
      " 'Carson' 'Mesa' 'San Juan' 'Vega Baja' 'Mayaguez' 'Arecibo'\n",
      " 'San Sebastian' 'Eugene' 'Algonquin' 'Indianapolis' 'Buena Park'\n",
      " 'Catonsville' 'Jersey City' 'Lombard' 'New Bedford' 'Newburgh' 'Lansdale'\n",
      " 'Baltimore' 'Fullerton' 'Sacramento' 'Greensboro' 'Roseburg' 'Modesto'\n",
      " 'Encinitas' 'Watsonville' 'Meridian' 'Endicott' 'Katy' 'Visalia' 'Lompoc'\n",
      " 'Ogden' 'Raleigh' 'Hacienda Heights' 'Union City' 'Hollywood'\n",
      " 'Bolingbrook' 'West Lafayette' 'Woodbridge' 'Weslaco' 'Bell Gardens'\n",
      " 'La Mirada' 'North Bergen' 'Madison' 'South San Francisco'\n",
      " 'North Las Vegas' 'Methuen' 'Costa Mesa' 'Glen Burnie' 'Fairfield'\n",
      " 'Winnetka' 'Mcallen' 'Joliet' 'Brownsville' 'Pawtucket'\n",
      " 'Colorado Springs' 'Quincy' 'Pittsfield' 'Chino' 'Marion' 'North Hills'\n",
      " 'Salina' 'Hyattsville' 'North Richland Hills' 'Spring Valley' 'Lawrence'\n",
      " 'Milpitas' 'Rowland Heights' 'Gardena' 'Cicero' 'Asheboro' 'La Crosse'\n",
      " 'Florissant' 'Canyon Country' 'Ithaca' 'Allentown' 'Escondido' 'Martinez'\n",
      " 'Troy' 'Arlington' 'Davis' 'Chandler' 'Elgin' 'Palmdale' 'Massapequa'\n",
      " 'Pittsburg' 'West New York' 'Orlando' 'Hanover' 'Glendale' 'Enfield'\n",
      " 'Baldwin Park' 'Chino Hills' 'Toms River' 'Wyandotte' 'Mililani' 'Harvey'\n",
      " 'Mechanicsburg' 'Opelousas' 'Kailua' 'Norfolk' 'Elmhurst' 'Chillicothe'\n",
      " 'Canoga Park' 'Jackson' 'Moreno Valley' 'New Orleans' 'San Benito'\n",
      " 'New Castle' 'Bloomfield' 'Cypress' 'Marrero' 'Grand Prairie' 'Greeley'\n",
      " 'Littleton' 'Longmont' 'Chesapeake' 'Englewood' 'Arlington Heights'\n",
      " 'Tampa' 'Irvington' 'Forest Hills' 'Dearborn' 'Compton' 'Garland'\n",
      " 'Waipahu' 'Carmichael' 'Tustin' 'Anaheim' 'Canton' 'Stafford'\n",
      " 'South Richmond Hill' 'Middletown' 'West Orange' 'Daly City'\n",
      " 'Powder Springs' 'Parkville' 'Hialeah' 'Beloit' 'Aguadilla' 'Carolina'\n",
      " 'Yauco' 'Saint Peters' 'Augusta' 'Chapel Hill' 'East Lansing' 'Stamford'\n",
      " 'Diamond Bar' 'Milwaukee' 'Lawrenceville' 'Manchester' 'La Puente'\n",
      " 'Victorville' 'Richmond' 'Eagle Pass' 'Fontana' 'Ballwin' 'New Braunfels'\n",
      " 'Las Vegas' 'Goose Creek' 'Pharr' 'Yonkers' 'El Monte' 'Reynoldsburg'\n",
      " 'Hamtramck' 'Medina' 'Highland' 'Jonesboro' 'Elk Grove' 'Montebello'\n",
      " 'San Francisco' 'Glenview' 'Rock Hill' 'Austin' 'Scottsdale' 'Santa Cruz'\n",
      " 'Oregon City' 'Annandale' 'Plano' 'Piscataway' 'El Cajon' 'Hilliard'\n",
      " 'Orange Park' 'Decatur' 'San Pablo' 'Douglasville' 'Henderson'\n",
      " 'College Station' 'Round Rock' 'Mesquite' 'Broken Arrow' 'Redmond'\n",
      " 'Findlay' 'La Habra' 'Laguna Hills' 'San Bernardino' 'Apex'\n",
      " 'South El Monte' 'Irving' 'Blacksburg' 'Dorchester Center' 'Potomac'\n",
      " 'Winter Park' 'Stone Mountain' 'Goleta' 'Hagerstown' 'Alameda'\n",
      " 'Saint Louis' 'Pico Rivera' 'Chula Vista' 'Hollister' 'North Hollywood'\n",
      " 'New Brunswick' 'Beaverton' 'Chicago Heights' 'Hesperia' 'Cary' 'Sanford'\n",
      " 'Laredo' 'Westland' 'Stockbridge' 'Carol Stream' 'Wichita' 'Olathe'\n",
      " 'Flushing' 'Lynwood' 'Revere' 'Westerville' 'Cordova' 'Hanford' 'Rialto'\n",
      " 'Mchenry' 'Mission' 'Salem' 'Duluth' 'Danbury' 'Frankfort' 'Upland'\n",
      " 'Rosemead' 'Mount Pleasant' 'Lake Forest' 'West Chester' 'Woodside'\n",
      " 'Norcross' 'Fresno' 'Zanesville' 'Painesville' 'Lynnwood' 'Massillon'\n",
      " 'Crystal Lake' 'Rego Park' 'Ann Arbor' 'Wyoming' 'La Mesa' 'Edinburg'\n",
      " 'Howell' 'Michigan City' 'Sheboygan' 'Moline' 'Yuma' 'Campbell'\n",
      " 'Charlotte' 'Oakland' 'San Marcos' 'Walnut' 'Harlingen' 'Rio Rancho'\n",
      " 'Nashville' 'Annapolis' 'Laguna Niguel' 'Santee' 'West Jordan' 'Hickory'\n",
      " 'Manati' 'Trujillo Alto' 'Ponce' 'Toa Alta' 'Irwin' 'South Ozone Park'\n",
      " 'Ridgewood' 'Bowling Green' 'Richardson' 'Sun Valley' 'Huntington Beach'\n",
      " 'Fargo' 'Waukegan' 'Highland Park' 'Cerritos' 'Lewisville' 'Alpharetta'\n",
      " 'New Albany' 'Denton' 'Temecula' 'Tinley Park' 'Dundalk' 'Crown Point'\n",
      " 'Lawton' 'Fayetteville' 'Milford' 'Bartlett' 'Reno' 'Passaic' 'Reseda'\n",
      " 'Levittown' 'Wayne' 'Metairie' 'Wheeling' 'Hawthorne' 'Napa' 'Berwyn'\n",
      " 'Fountain Valley' 'Las Cruces' 'Apopka' 'Folsom' 'El Centro'\n",
      " 'Jackson Heights' 'Pacoima' 'Hendersonville' 'Clearfield' 'Seattle'\n",
      " 'Saginaw' 'Conway' 'Sandusky' 'San Pedro' 'Grove City' 'Knoxville'\n",
      " 'Huntington Park' 'Greensburg' 'Poway' 'O Fallon' 'Chambersburg' 'Normal'\n",
      " 'Lynn' 'Bensalem' 'Bristol' 'Williamsport' 'Longview' 'Norwalk' 'Bayonne'\n",
      " 'Tulare' 'National City' 'Dayton' 'Tracy' 'Summerville' 'Merced'\n",
      " 'Brockton' 'Vallejo' 'West Haven' 'Pasadena' 'South Gate' 'Warren'\n",
      " 'Clarksville' 'Muskegon' 'Brandon' 'Rancho Cucamonga' 'Santa Maria'\n",
      " 'Doylestown' 'Colton' 'Indio' 'Plainfield' 'Bellingham' 'Spring'\n",
      " 'Livermore' 'Santa Fe' 'Palo Alto' 'Henrico' 'Des Plaines' 'Birmingham'\n",
      " 'Broomfield' 'Guaynabo' 'Cayey' 'Citrus Heights' 'Spokane' 'Dubuque'\n",
      " 'Madera' 'Everett' 'Brentwood' 'Morganton' 'Vacaville' 'Malden'\n",
      " 'Gwynn Oak' 'Toa Baja' 'Taunton' 'Freehold' 'Sumner' 'Wilmington' 'CA'] \n",
      "\n",
      "Levels in Customer Country: 2 unique values\n",
      "['Puerto Rico' 'EE. UU.'] \n",
      "\n",
      "Levels in Customer Segment: 3 unique values\n",
      "['Consumer' 'Home Office' 'Corporate'] \n",
      "\n",
      "Levels in Customer State: 46 unique values\n",
      "['PR' 'CA' 'NY' 'FL' 'MA' 'IL' 'MT' 'PA' 'MI' 'TX' 'DE' 'GA' 'MD' 'OH'\n",
      " 'HI' 'NJ' 'WI' 'AZ' 'CO' 'MN' 'NC' 'NM' 'OR' 'SC' 'VA' 'UT' 'WA' 'KY'\n",
      " 'WV' 'RI' 'CT' 'LA' 'TN' 'DC' 'ND' 'MO' 'IN' 'ID' 'NV' 'KS' 'AR' 'OK'\n",
      " 'AL' 'IA' '95758' '91732'] \n",
      "\n",
      "Levels in Department Name: 11 unique values\n",
      "['Fitness' 'Apparel' 'Golf' 'Footwear' 'Outdoors' 'Fan Shop' 'Technology'\n",
      " 'Book Shop' 'Discs Shop' 'Pet Shop' 'Health and Beauty '] \n",
      "\n",
      "Levels in Market: 5 unique values\n",
      "['Pacific Asia' 'USCA' 'Africa' 'Europe' 'LATAM'] \n",
      "\n",
      "Levels in Order City: 3597 unique values\n",
      "['Bekasi' 'Bikaner' 'Townsville' ... 'Tongling' 'Liuyang' 'Nashua'] \n",
      "\n",
      "Levels in Order Country: 164 unique values\n",
      "['Indonesia' 'India' 'Australia' 'China' 'Japón' 'Corea del Sur'\n",
      " 'Singapur' 'Turquía' 'Mongolia' 'Estados Unidos' 'Nigeria'\n",
      " 'República Democrática del Congo' 'Senegal' 'Marruecos' 'Alemania'\n",
      " 'Francia' 'Países Bajos' 'Reino Unido' 'Guatemala' 'El Salvador' 'Panamá'\n",
      " 'República Dominicana' 'Venezuela' 'Colombia' 'Honduras' 'Brasil'\n",
      " 'México' 'Uruguay' 'Argentina' 'Cuba' 'Perú' 'Nicaragua' 'Ecuador'\n",
      " 'Angola' 'Sudán' 'Somalia' 'Costa de Marfil' 'Egipto' 'Italia' 'España'\n",
      " 'Suecia' 'Austria' 'Canada' 'Madagascar' 'Argelia' 'Liberia' 'Zambia'\n",
      " 'Níger' 'SudAfrica' 'Mozambique' 'Tanzania' 'Ruanda' 'Israel'\n",
      " 'Nueva Zelanda' 'Bangladés' 'Tailandia' 'Irak' 'Arabia Saudí' 'Filipinas'\n",
      " 'Kazajistán' 'Irán' 'Myanmar (Birmania)' 'Uzbekistán' 'Benín' 'Camerún'\n",
      " 'Kenia' 'Togo' 'Ucrania' 'Polonia' 'Portugal' 'Rumania'\n",
      " 'Trinidad y Tobago' 'Afganistán' 'Pakistán' 'Vietnam' 'Malasia'\n",
      " 'Finlandia' 'Rusia' 'Irlanda' 'Noruega' 'Eslovaquia' 'Bélgica' 'Bolivia'\n",
      " 'Chile' 'Jamaica' 'Yemen' 'Ghana' 'Guinea' 'Etiopía' 'Bulgaria'\n",
      " 'Kirguistán' 'Georgia' 'Nepal' 'Emiratos Árabes Unidos' 'Camboya'\n",
      " 'Uganda' 'Lesoto' 'Lituania' 'Suiza' 'Hungría' 'Dinamarca' 'Haití'\n",
      " 'Bielorrusia' 'Croacia' 'Laos' 'Baréin' 'Macedonia' 'República Checa'\n",
      " 'Sri Lanka' 'Zimbabue' 'Eritrea' 'Burkina Faso' 'Costa Rica' 'Libia'\n",
      " 'Barbados' 'Tayikistán' 'Siria' 'Guadalupe' 'Papúa Nueva Guinea'\n",
      " 'Azerbaiyán' 'Turkmenistán' 'Paraguay' 'Jordania' 'Hong Kong' 'Martinica'\n",
      " 'Moldavia' 'Qatar' 'Mali' 'Albania' 'República del Congo'\n",
      " 'Bosnia y Herzegovina' 'Omán' 'Túnez' 'Sierra Leona' 'Yibuti' 'Burundi'\n",
      " 'Montenegro' 'Gabón' 'Sudán del Sur' 'Luxemburgo' 'Namibia' 'Mauritania'\n",
      " 'Grecia' 'Suazilandia' 'Guyana' 'Guayana Francesa'\n",
      " 'República Centroafricana' 'Taiwán' 'Estonia' 'Líbano' 'Chipre'\n",
      " 'Guinea-Bissau' 'Surinam' 'Belice' 'Eslovenia' 'República de Gambia'\n",
      " 'Botsuana' 'Armenia' 'Guinea Ecuatorial' 'Kuwait' 'Bután' 'Chad' 'Serbia'\n",
      " 'Sáhara Occidental'] \n",
      "\n"
     ]
    },
    {
     "name": "stdout",
     "output_type": "stream",
     "text": [
      "Levels in order date (DateOrders): 65752 unique values\n",
      "['1/31/2018 22:56' '1/13/2018 12:27' '1/13/2018 12:06' ...\n",
      " '1/21/2016 2:47' '1/20/2016 7:10' '1/17/2016 5:56'] \n",
      "\n",
      "Levels in Order Region: 23 unique values\n",
      "['Southeast Asia' 'South Asia' 'Oceania' 'Eastern Asia' 'West Asia'\n",
      " 'West of USA ' 'US Center ' 'West Africa' 'Central Africa' 'North Africa'\n",
      " 'Western Europe' 'Northern Europe' 'Central America' 'Caribbean'\n",
      " 'South America' 'East Africa' 'Southern Europe' 'East of USA' 'Canada'\n",
      " 'Southern Africa' 'Central Asia' 'Eastern Europe' 'South of  USA '] \n",
      "\n",
      "Levels in Order State: 1089 unique values\n",
      "['Java Occidental' 'Rajastán' 'Queensland' ... 'Bistrita-Nasaud' 'Tottori'\n",
      " 'Khorezm'] \n",
      "\n",
      "Levels in Order Status: 9 unique values\n",
      "['COMPLETE' 'PENDING' 'CLOSED' 'PENDING_PAYMENT' 'CANCELED' 'PROCESSING'\n",
      " 'SUSPECTED_FRAUD' 'ON_HOLD' 'PAYMENT_REVIEW'] \n",
      "\n",
      "Levels in Product Name: 118 unique values\n",
      "['Smart watch ' 'Perfect Fitness Perfect Rip Deck'\n",
      " \"Under Armour Girls' Toddler Spine Surge Runni\"\n",
      " \"Nike Men's Dri-FIT Victory Golf Polo\"\n",
      " \"Under Armour Men's Compression EV SL Slide\"\n",
      " \"Under Armour Women's Micro G Skulpt Running S\"\n",
      " \"Nike Men's Free 5.0+ Running Shoe\"\n",
      " \"Glove It Women's Mod Oval 3-Zip Carry All Gol\"\n",
      " 'Bridgestone e6 Straight Distance NFL San Dieg'\n",
      " \"Columbia Men's PFG Anchor Tough T-Shirt\" 'Titleist Pro V1x Golf Balls'\n",
      " 'Bridgestone e6 Straight Distance NFL Tennesse'\n",
      " 'Polar FT4 Heart Rate Monitor' 'ENO Atlas Hammock Straps'\n",
      " \"adidas Men's F10 Messi TRX FG Soccer Cleat\"\n",
      " \"Brooks Women's Ghost 6 Running Shoe\"\n",
      " \"Nike Men's CJ Elite 2 TD Football Cleat\"\n",
      " \"Diamondback Women's Serene Classic Comfort Bi\"\n",
      " 'Industrial consumer electronics' 'Web Camera' 'Dell Laptop'\n",
      " 'SOLE E25 Elliptical' 'Elevation Training Mask 2.0'\n",
      " \"adidas Men's Germany Black Crest Away Tee\"\n",
      " 'Team Golf Pittsburgh Steelers Putter Grip'\n",
      " 'Glove It Urban Brick Golf Towel' 'Team Golf Texas Longhorns Putter Grip'\n",
      " \"Nike Men's Deutschland Weltmeister Winners Bl\"\n",
      " 'Team Golf St. Louis Cardinals Putter Grip' 'Summer dresses'\n",
      " 'Porcelain crafts' \"Men's gala suit\"\n",
      " 'Team Golf Tennessee Volunteers Putter Grip'\n",
      " 'Team Golf San Francisco Giants Putter Grip'\n",
      " 'Glove It Imperial Golf Towel' \"Nike Men's Comfort 2 Slide\"\n",
      " 'Under Armour Hustle Storm Medium Duffle Bag'\n",
      " \"Under Armour Kids' Mercenary Slide\"\n",
      " \"Under Armour Women's Ignite PIP VI Slide\"\n",
      " \"Nike Men's Free TR 5.0 TB Training Shoe\"\n",
      " 'adidas Youth Germany Black/Red Away Match Soc'\n",
      " \"TYR Boys' Team Digi Jammer\" \"Glove It Women's Imperial Golf Glove\"\n",
      " 'Titleist Pro V1x High Numbers Golf Balls'\n",
      " 'Bridgestone e6 Straight Distance NFL Carolina'\n",
      " \"Under Armour Women's Ignite Slide\"\n",
      " 'Titleist Pro V1x High Numbers Personalized Go'\n",
      " 'GoPro HERO3+ Black Edition Camera' 'Total Gym 1400' \"Children's heaters\"\n",
      " 'Team Golf New England Patriots Putter Grip'\n",
      " \"adidas Kids' F5 Messi FG Soccer Cleat\" \"Nike Women's Tempo Shorts\"\n",
      " \"Glove It Women's Mod Oval Golf Glove\"\n",
      " 'Titleist Pro V1 High Numbers Personalized Gol'\n",
      " \"Under Armour Men's Tech II T-Shirt\" 'Baby sweater'\n",
      " 'Mio ALPHA Heart Rate Monitor/Sport Watch'\n",
      " 'Field & Stream Sportsman 16 Gun Fire Safe' 'Sports Books '\n",
      " \"Diamondback Boys' Insight 24 Performance Hybr\"\n",
      " 'Polar Loop Activity Tracker' 'Garmin Forerunner 910XT GPS Watch' 'DVDs '\n",
      " 'CDs of rock' \"Nike Kids' Grade School KD VI Basketball Shoe\"\n",
      " \"Nike Women's Free 5.0 TR FIT PRT 4 Training S\"\n",
      " \"Hirzl Women's Soffft Flex Golf Glove\"\n",
      " \"The North Face Women's Recon Backpack\" 'Lawn mower'\n",
      " 'Nike Dri-FIT Crew Sock 6 Pack' \"Nike Women's Legend V-Neck T-Shirt\"\n",
      " 'Garmin Approach S4 Golf GPS Watch' 'insta-bed Neverflat Air Mattress'\n",
      " \"Nike Men's Kobe IX Elite Low Basketball Shoe\" 'Adult dog supplies'\n",
      " 'First aid kit' 'Garmin Approach S3 Golf GPS Watch' 'Rock music'\n",
      " 'Fighting video games' 'Fitbit The One Wireless Activity & Sleep Trac'\n",
      " 'Stiga Master Series ST3100 Competition Indoor'\n",
      " \"Diamondback Girls' Clarity 24 Hybrid Bike 201\"\n",
      " 'adidas Brazuca 2014 Official Match Ball' 'GolfBuddy VT3 GPS Watch'\n",
      " 'Bushnell Pro X7 Jolt Slope Rangefinder'\n",
      " 'Yakima DoubleDown Ace Hitch Mount 4-Bike Rack'\n",
      " \"Nike Men's Fingertrap Max Training Shoe\"\n",
      " 'Bowflex SelectTech 1090 Dumbbells' 'SOLE E35 Elliptical'\n",
      " \"Hirzl Women's Hybrid Golf Glove\" \"Hirzl Men's Hybrid Golf Glove\"\n",
      " 'TaylorMade 2014 Purelite Stand Bag' 'Bag Boy Beverage Holder'\n",
      " 'Bag Boy M330 Push Cart' 'Clicgear 8.0 Shoe Brush'\n",
      " 'Titleist Small Wheeled Travel Cover' 'Clicgear Rovic Cooler Bag'\n",
      " 'Titleist Club Glove Travel Cover' 'Ogio Race Golf Shoes'\n",
      " \"LIJA Women's Argyle Golf Polo\"\n",
      " \"LIJA Women's Eyelet Sleeveless Golf Polo\"\n",
      " \"LIJA Women's Button Golf Dress\"\n",
      " \"LIJA Women's Mid-Length Panel Golf Shorts\"\n",
      " \"TaylorMade Women's RBZ SL Rescue\"\n",
      " \"Cleveland Golf Women's 588 RTX CB Satin Chrom\"\n",
      " \"Top Flite Women's 2014 XL Hybrid\" 'MDGolf Pittsburgh Penguins Putter'\n",
      " 'TaylorMade White Smoke IN-12 Putter'\n",
      " 'Cleveland Golf Collegiate My Custom Wedge 588'\n",
      " \"Merrell Men's All Out Flash Trail Running Sho\"\n",
      " \"Merrell Women's Grassbow Sport Waterproof Hik\"\n",
      " \"Merrell Women's Siren Mid Waterproof Hiking B\"\n",
      " \"Merrell Women's Grassbow Sport Hiking Shoe\" 'Toys '\n",
      " 'Pelican Sunstream 100 Kayak' 'Pelican Maverick 100X Kayak'\n",
      " \"O'Brien Men's Neoprene Life Vest\"] \n",
      "\n",
      "Levels in Shipping Mode: 4 unique values\n",
      "['Standard Class' 'First Class' 'Second Class' 'Same Day'] \n",
      "\n",
      "Levels in Customer_Full_Name: 14033 unique values\n",
      "['Cally Holloway' 'Irene Luna' 'Gillian Maldonado' ... 'Anika Davenport'\n",
      " 'Yuri Smith' 'Hyacinth Witt'] \n",
      "\n"
     ]
    }
   ],
   "source": [
    "# Checking unique levels in categorical features\n",
    "for col in categorical_features:\n",
    "    print(f\"Levels in {col}: {df[col].nunique()} unique values\")\n",
    "    print(df[col].unique(), \"\\n\")\n"
   ]
  },
  {
   "cell_type": "code",
   "execution_count": 38,
   "metadata": {
    "colab": {
     "base_uri": "https://localhost:8080/"
    },
    "id": "7kx1iJK55sqo",
    "outputId": "3bb46386-0a5e-4ac0-a12e-4e806b861ebc"
   },
   "outputs": [
    {
     "name": "stdout",
     "output_type": "stream",
     "text": [
      "Descriptive Statistics for Numerical Features:\n",
      "       Days for shipping (real)  Days for shipment (scheduled)  Benefit per order  Sales per customer  Late_delivery_risk    Category Id    Customer Id  Customer Zipcode  Department Id  Order Customer Id       Order Id  Order Item Cardprod Id  Order Item Discount  Order Item Discount Rate  Order Item Id  Order Item Product Price  Order Item Profit Ratio  Order Item Quantity          Sales  Order Item Total  Order Profit Per Order  Product Card Id  Product Category Id  Product Price       order_yr    order_month      order_day     order_hour\n",
      "count             180519.000000                  180519.000000      180519.000000       180519.000000       180519.000000  180519.000000  180519.000000     180519.000000  180519.000000      180519.000000  180519.000000           180519.000000        180519.000000             180519.000000  180519.000000             180519.000000            180519.000000        180519.000000  180519.000000     180519.000000           180519.000000    180519.000000        180519.000000  180519.000000  180519.000000  180519.000000  180519.000000  180519.000000\n",
      "mean                   3.497654                       2.931847          21.974989          183.107609            0.548291      31.851451    6691.379495      35920.529950       5.443460        6691.379495   36221.894903              692.509764            20.664741                  0.101668   90260.000000                141.232550                 0.120647             2.127638     203.772096        183.107609               21.974989       692.509764            31.851451     141.232550    2015.971150       6.235449       3.007622      11.483689\n",
      "std                    1.623722                       1.374449         104.433526          120.043670            0.497664      15.640064    4162.918106      37542.434755       1.629246        4162.918106   21045.379569              336.446807            21.800901                  0.070415   52111.490959                139.732492                 0.466796             1.453451     132.273077        120.043670              104.433526       336.446807            15.640064     139.732492       0.829429       3.403571       2.001536       6.923006\n",
      "min                    0.000000                       0.000000       -4274.979980            7.490000            0.000000       2.000000       1.000000          0.000000       2.000000           1.000000       1.000000               19.000000             0.000000                  0.000000       1.000000                  9.990000                -2.750000             1.000000       9.990000          7.490000            -4274.979980        19.000000             2.000000       9.990000    2015.000000       1.000000       0.000000       0.000000\n",
      "25%                    2.000000                       2.000000           7.000000          104.379997            0.000000      18.000000    3258.500000        725.000000       4.000000        3258.500000   18057.000000              403.000000             5.400000                  0.040000   45130.500000                 50.000000                 0.080000             1.000000     119.980003        104.379997                7.000000       403.000000            18.000000      50.000000    2015.000000       3.000000       1.000000       5.000000\n",
      "50%                    3.000000                       4.000000          31.520000          163.990005            1.000000      29.000000    6457.000000      19380.000000       5.000000        6457.000000   36140.000000              627.000000            14.000000                  0.100000   90260.000000                 59.990002                 0.270000             1.000000     199.919998        163.990005               31.520000       627.000000            29.000000      59.990002    2016.000000       6.000000       3.000000      11.000000\n",
      "75%                    5.000000                       4.000000          64.800003          247.399994            1.000000      45.000000    9779.000000      78207.000000       7.000000        9779.000000   54144.000000             1004.000000            29.990000                  0.160000  135389.500000                199.990005                 0.360000             3.000000     299.950012        247.399994               64.800003      1004.000000            45.000000     199.990005    2017.000000       9.000000       5.000000      17.000000\n",
      "max                    6.000000                       4.000000         911.799988         1939.989990            1.000000      76.000000   20757.000000      99205.000000      12.000000       20757.000000   77204.000000             1363.000000           500.000000                  0.250000  180519.000000               1999.989990                 0.500000             5.000000    1999.989990       1939.989990              911.799988      1363.000000            76.000000    1999.989990    2018.000000      12.000000       6.000000      23.000000\n"
     ]
    }
   ],
   "source": [
    "import pandas as pd\n",
    "\n",
    "# Descriptive statistics for numerical features\n",
    "numerical_description = df[numerical_features].describe()\n",
    "\n",
    "# Display as a table\n",
    "print(\"Descriptive Statistics for Numerical Features:\")\n",
    "print(numerical_description.to_string())\n"
   ]
  },
  {
   "cell_type": "code",
   "execution_count": 39,
   "metadata": {
    "colab": {
     "base_uri": "https://localhost:8080/",
     "height": 1000
    },
    "id": "ZL-eYr4u_ZbP",
    "outputId": "956fee73-71f4-4929-f336-2741cda9809d"
   },
   "outputs": [
    {
     "data": {
      "image/png": "[encoded data removed]",
      "text/plain": [
       "<Figure size 1600x1000 with 2 Axes>"
      ]
     },
     "metadata": {},
     "output_type": "display_data"
    }
   ],
   "source": [
    "# Compute correlation matrix\n",
    "correlation_matrix = df[numerical_features].corr()\n",
    "\n",
    "# Display correlation matrix\n",
    "import seaborn as sns\n",
    "import matplotlib.pyplot as plt\n",
    "\n",
    "# Set a light background style\n",
    "sns.set_style(\"white\")\n",
    "\n",
    "plt.figure(figsize=(16, 10))\n",
    "sns.heatmap(correlation_matrix, annot=True, cmap=\"coolwarm\", fmt=\".2f\")\n",
    "plt.title(\"Correlation Matrix for Numerical Features\")\n",
    "plt.show()\n"
   ]
  },
  {
   "cell_type": "code",
   "execution_count": 41,
   "metadata": {
    "colab": {
     "base_uri": "https://localhost:8080/"
    },
    "id": "ikJa8fUa6NIK",
    "outputId": "c0282811-3de3-4309-d9e9-769ea0013bd7"
   },
   "outputs": [
    {
     "name": "stdout",
     "output_type": "stream",
     "text": [
      "Strong Correlations (>|0.5|):\n",
      "                    Feature_1                      Feature_2  Correlation\n",
      "76          Benefit per order         Order Profit Per Order     1.000000\n",
      "294                  Order Id                  Order Item Id     0.999623\n",
      "151               Category Id         Order Item Cardprod Id     0.991092\n",
      "102        Sales per customer                          Sales     0.989744\n",
      "304                  Order Id                       order_yr     0.941952\n",
      "416             Order Item Id                       order_yr     0.941313\n",
      "235             Department Id         Order Item Cardprod Id     0.906117\n",
      "246             Department Id            Product Category Id     0.888835\n",
      "148               Category Id                  Department Id     0.888835\n",
      "72          Benefit per order        Order Item Profit Ratio     0.823689\n",
      "438  Order Item Product Price                          Sales     0.789948\n",
      "99         Sales per customer       Order Item Product Price     0.781781\n",
      "349       Order Item Discount       Order Item Discount Rate     0.659955\n",
      "354       Order Item Discount                          Sales     0.617438\n",
      "1    Days for shipping (real)  Days for shipment (scheduled)     0.515880\n"
     ]
    }
   ],
   "source": [
    "threshold = 0.5\n",
    "\n",
    "# Flatten the correlation matrix to create a pairwise table\n",
    "correlation_pairs = correlation_matrix.unstack().reset_index()\n",
    "correlation_pairs.columns = [\"Feature_1\", \"Feature_2\", \"Correlation\"]\n",
    "\n",
    "# Remove duplicate pairs and self-correlations\n",
    "correlation_pairs = correlation_pairs[\n",
    "    correlation_pairs[\"Feature_1\"] != correlation_pairs[\"Feature_2\"]\n",
    "].drop_duplicates(subset=[\"Correlation\"])\n",
    "\n",
    "# Filter correlations above the threshold\n",
    "strong_correlations = correlation_pairs[\n",
    "    (correlation_pairs[\"Correlation\"].abs() >= threshold)\n",
    "].sort_values(by=\"Correlation\", ascending=False)\n",
    "\n",
    "# Display top correlations in an understandable format\n",
    "print(\"Strong Correlations (>|0.5|):\")\n",
    "print(strong_correlations)\n"
   ]
  },
  {
   "cell_type": "code",
   "execution_count": 42,
   "metadata": {
    "colab": {
     "base_uri": "https://localhost:8080/"
    },
    "id": "Re7kUJa37pXd",
    "outputId": "07a2bc19-5326-48ae-b2b9-38e8f0c23b0f"
   },
   "outputs": [
    {
     "name": "stdout",
     "output_type": "stream",
     "text": [
      "0          91.250000\n",
      "1        -249.089996\n",
      "2        -247.779999\n",
      "3          22.860001\n",
      "4         134.210007\n",
      "             ...    \n",
      "180514     40.000000\n",
      "180515   -613.770019\n",
      "180516    141.110001\n",
      "180517    186.229996\n",
      "180518    168.949997\n",
      "Name: Benefit per order, Length: 180519, dtype: float64\n"
     ]
    }
   ],
   "source": [
    "print(df['Benefit per order'])"
   ]
  },
  {
   "cell_type": "code",
   "execution_count": 43,
   "metadata": {
    "colab": {
     "base_uri": "https://localhost:8080/"
    },
    "id": "toOgRLUvz1zT",
    "outputId": "10dedcba-a080-4008-ac7c-898d64f0dc48"
   },
   "outputs": [
    {
     "name": "stdout",
     "output_type": "stream",
     "text": [
      "            Type  Days for shipping (real)  Days for shipment (scheduled)  \\\n",
      "1       TRANSFER                         5                              4   \n",
      "2           CASH                         4                              4   \n",
      "15         DEBIT                         2                              1   \n",
      "16       PAYMENT                         5                              2   \n",
      "28         DEBIT                         3                              4   \n",
      "...          ...                       ...                            ...   \n",
      "180495   PAYMENT                         3                              4   \n",
      "180498      CASH                         3                              4   \n",
      "180499     DEBIT                         4                              2   \n",
      "180506   PAYMENT                         2                              1   \n",
      "180515     DEBIT                         3                              2   \n",
      "\n",
      "        Benefit per order  Sales per customer   Delivery Status  \\\n",
      "1             -249.089996          311.359985     Late delivery   \n",
      "2             -247.779999          309.720001  Shipping on time   \n",
      "15            -259.579987          324.470001     Late delivery   \n",
      "16            -246.360001          321.200012     Late delivery   \n",
      "28             -17.139999          272.029999  Advance shipping   \n",
      "...                   ...                 ...               ...   \n",
      "180495        -239.990005          299.989990  Advance shipping   \n",
      "180498        -337.100006          391.980011  Advance shipping   \n",
      "180499        -258.779999          387.980011     Late delivery   \n",
      "180506         -65.470001          351.980011     Late delivery   \n",
      "180515        -613.770019          395.980011     Late delivery   \n",
      "\n",
      "        Late_delivery_risk  Category Id   Category Name Customer City  \\\n",
      "1                        1           73  Sporting Goods        Caguas   \n",
      "2                        0           73  Sporting Goods      San Jose   \n",
      "15                       1           73  Sporting Goods        Caguas   \n",
      "16                       1           73  Sporting Goods     Canovanas   \n",
      "28                       0           73  Sporting Goods     Roseville   \n",
      "...                    ...          ...             ...           ...   \n",
      "180495                   0           45         Fishing       Roswell   \n",
      "180498                   0           45         Fishing   Lindenhurst   \n",
      "180499                   1           45         Fishing        Caguas   \n",
      "180506                   1           45         Fishing   San Antonio   \n",
      "180515                   1           45         Fishing   Bakersfield   \n",
      "\n",
      "       Customer Country  Customer Id Customer Segment Customer State  \\\n",
      "1           Puerto Rico        19492         Consumer             PR   \n",
      "2               EE. UU.        19491         Consumer             CA   \n",
      "15          Puerto Rico        19478        Corporate             PR   \n",
      "16          Puerto Rico        19477        Corporate             PR   \n",
      "28              EE. UU.        19465        Corporate             MI   \n",
      "...                 ...          ...              ...            ...   \n",
      "180495          EE. UU.          378      Home Office             GA   \n",
      "180498          EE. UU.         2642         Consumer             NY   \n",
      "180499      Puerto Rico         1238      Home Office             PR   \n",
      "180506          EE. UU.        11387        Corporate             TX   \n",
      "180515          EE. UU.         9141        Corporate             CA   \n",
      "\n",
      "        Customer Zipcode  Department Id Department Name        Market  \\\n",
      "1                  725.0              2         Fitness  Pacific Asia   \n",
      "2                95125.0              2         Fitness  Pacific Asia   \n",
      "15                 725.0              2         Fitness  Pacific Asia   \n",
      "16                 729.0              2         Fitness  Pacific Asia   \n",
      "28               48066.0              2         Fitness  Pacific Asia   \n",
      "...                  ...            ...             ...           ...   \n",
      "180495           30075.0              7        Fan Shop  Pacific Asia   \n",
      "180498           11757.0              7        Fan Shop  Pacific Asia   \n",
      "180499             725.0              7        Fan Shop  Pacific Asia   \n",
      "180506           78228.0              7        Fan Shop  Pacific Asia   \n",
      "180515           93304.0              7        Fan Shop  Pacific Asia   \n",
      "\n",
      "       Order City  Order Country  Order Customer Id order date (DateOrders)  \\\n",
      "1         Bikaner          India              19492         1/13/2018 12:27   \n",
      "2         Bikaner          India              19491         1/13/2018 12:06   \n",
      "15         Sangli          India              19478          1/13/2018 7:33   \n",
      "16           Seúl  Corea del Sur              19477          1/13/2018 7:12   \n",
      "28         Guilin          China              19465          1/13/2018 3:00   \n",
      "...           ...            ...                ...                     ...   \n",
      "180495   Shanghái          China                378         1/16/2016 22:35   \n",
      "180498  Palembang      Indonesia               2642         1/16/2016 19:05   \n",
      "180499  Palembang      Indonesia               1238         1/16/2016 17:41   \n",
      "180506      Sanya          China              11387         1/16/2016 11:01   \n",
      "180515   Hirakata          Japón               9141          1/16/2016 1:34   \n",
      "\n",
      "        Order Id  Order Item Cardprod Id  Order Item Discount  \\\n",
      "1          75939                    1360            16.389999   \n",
      "2          75938                    1360            18.030001   \n",
      "15         75925                    1360             3.280000   \n",
      "16         75924                    1360             6.560000   \n",
      "28         75912                    1360            55.720001   \n",
      "...          ...                     ...                  ...   \n",
      "180495     26097                    1004           100.000000   \n",
      "180498     26087                    1004             8.000000   \n",
      "180499     26083                    1004            12.000000   \n",
      "180506     26064                    1004            48.000000   \n",
      "180515     26037                    1004             4.000000   \n",
      "\n",
      "        Order Item Discount Rate  Order Item Id  Order Item Product Price  \\\n",
      "1                           0.05         179254                327.750000   \n",
      "2                           0.06         179253                327.750000   \n",
      "15                          0.01         179240                327.750000   \n",
      "16                          0.02         179239                327.750000   \n",
      "28                          0.17         179227                327.750000   \n",
      "...                          ...            ...                       ...   \n",
      "180495                      0.25          65329                399.980011   \n",
      "180498                      0.02          65296                399.980011   \n",
      "180499                      0.03          65285                399.980011   \n",
      "180506                      0.12          65235                399.980011   \n",
      "180515                      0.01          65161                399.980011   \n",
      "\n",
      "        Order Item Profit Ratio  Order Item Quantity       Sales  \\\n",
      "1                         -0.80                    1  327.750000   \n",
      "2                         -0.80                    1  327.750000   \n",
      "15                        -0.80                    1  327.750000   \n",
      "16                        -0.77                    1  327.750000   \n",
      "28                        -0.06                    1  327.750000   \n",
      "...                         ...                  ...         ...   \n",
      "180495                    -0.80                    1  399.980011   \n",
      "180498                    -0.86                    1  399.980011   \n",
      "180499                    -0.67                    1  399.980011   \n",
      "180506                    -0.19                    1  399.980011   \n",
      "180515                    -1.55                    1  399.980011   \n",
      "\n",
      "        Order Item Total  Order Profit Per Order    Order Region  \\\n",
      "1             311.359985             -249.089996      South Asia   \n",
      "2             309.720001             -247.779999      South Asia   \n",
      "15            324.470001             -259.579987      South Asia   \n",
      "16            321.200012             -246.360001    Eastern Asia   \n",
      "28            272.029999              -17.139999    Eastern Asia   \n",
      "...                  ...                     ...             ...   \n",
      "180495        299.989990             -239.990005    Eastern Asia   \n",
      "180498        391.980011             -337.100006  Southeast Asia   \n",
      "180499        387.980011             -258.779999  Southeast Asia   \n",
      "180506        351.980011              -65.470001    Eastern Asia   \n",
      "180515        395.980011             -613.770019    Eastern Asia   \n",
      "\n",
      "               Order State     Order Status  Product Card Id  \\\n",
      "1                 Rajastán          PENDING             1360   \n",
      "2                 Rajastán           CLOSED             1360   \n",
      "15             Maharashtra         COMPLETE             1360   \n",
      "16                    Seúl  PENDING_PAYMENT             1360   \n",
      "28                 Guangxi         COMPLETE             1360   \n",
      "...                    ...              ...              ...   \n",
      "180495            Shanghái  PENDING_PAYMENT             1004   \n",
      "180498  Sumatra Meridional           CLOSED             1004   \n",
      "180499  Sumatra Meridional         COMPLETE             1004   \n",
      "180506              Hainan  PENDING_PAYMENT             1004   \n",
      "180515               Osaka         COMPLETE             1004   \n",
      "\n",
      "        Product Category Id                               Product Name  \\\n",
      "1                        73                               Smart watch    \n",
      "2                        73                               Smart watch    \n",
      "15                       73                               Smart watch    \n",
      "16                       73                               Smart watch    \n",
      "28                       73                               Smart watch    \n",
      "...                     ...                                        ...   \n",
      "180495                   45  Field & Stream Sportsman 16 Gun Fire Safe   \n",
      "180498                   45  Field & Stream Sportsman 16 Gun Fire Safe   \n",
      "180499                   45  Field & Stream Sportsman 16 Gun Fire Safe   \n",
      "180506                   45  Field & Stream Sportsman 16 Gun Fire Safe   \n",
      "180515                   45  Field & Stream Sportsman 16 Gun Fire Safe   \n",
      "\n",
      "        Product Price   Shipping Mode Customer_Full_Name  order_yr  \\\n",
      "1          327.750000  Standard Class         Irene Luna      2018   \n",
      "2          327.750000  Standard Class  Gillian Maldonado      2018   \n",
      "15         327.750000     First Class     Sade Lancaster      2018   \n",
      "16         327.750000    Second Class       Brynne Giles      2018   \n",
      "28         327.750000  Standard Class       Evelyn Kelly      2018   \n",
      "...               ...             ...                ...       ...   \n",
      "180495     399.980011  Standard Class       John Stewart      2016   \n",
      "180498     399.980011  Standard Class         Mary Gould      2016   \n",
      "180499     399.980011    Second Class      Angela Massey      2016   \n",
      "180506     399.980011     First Class        Larry Smith      2016   \n",
      "180515     399.980011    Second Class       Ronald Clark      2016   \n",
      "\n",
      "        order_month  order_day  order_hour  \n",
      "1                 1          5          12  \n",
      "2                 1          5          12  \n",
      "15                1          5           7  \n",
      "16                1          5           7  \n",
      "28                1          5           3  \n",
      "...             ...        ...         ...  \n",
      "180495            1          5          22  \n",
      "180498            1          5          19  \n",
      "180499            1          5          17  \n",
      "180506            1          5          11  \n",
      "180515            1          5           1  \n",
      "\n",
      "[33784 rows x 46 columns]\n"
     ]
    }
   ],
   "source": [
    "loss = df[(df['Benefit per order']<0)]\n",
    "print(loss)"
   ]
  },
  {
   "cell_type": "markdown",
   "metadata": {
    "id": "qF5xIQYb8t-V"
   },
   "source": [
    "**Some products have a negative benefit per order, indicating that the orders are costing the company money.**"
   ]
  },
  {
   "cell_type": "code",
   "execution_count": 44,
   "metadata": {
    "colab": {
     "base_uri": "https://localhost:8080/",
     "height": 1000
    },
    "id": "DHUTmvL_71Vx",
    "outputId": "4671fc56-20b8-471d-f4ab-007038c51459"
   },
   "outputs": [
    {
     "data": {
      "text/plain": [
       "(array([0, 1, 2, 3, 4]),\n",
       " [Text(0, 0, 'LATAM'),\n",
       "  Text(1, 0, 'Europe'),\n",
       "  Text(2, 0, 'Pacific Asia'),\n",
       "  Text(3, 0, 'USCA'),\n",
       "  Text(4, 0, 'Africa')])"
      ]
     },
     "execution_count": 44,
     "metadata": {},
     "output_type": "execute_result"
    },
    {
     "data": {
      "image/png": "[encoded data removed]",
      "text/plain": [
       "<Figure size 1500x700 with 1 Axes>"
      ]
     },
     "metadata": {},
     "output_type": "display_data"
    },
    {
     "data": {
      "image/png": "[encoded data removed]",
      "text/plain": [
       "<Figure size 1500x700 with 1 Axes>"
      ]
     },
     "metadata": {},
     "output_type": "display_data"
    }
   ],
   "source": [
    "# Set a light background style\n",
    "sns.set_style(\"white\")\n",
    "\n",
    "plt.figure(1)\n",
    "loss['Category Name'].value_counts().nlargest(10).plot.bar(figsize=(15,7), title=\"Most Loss Making Products\")\n",
    "plt.xticks(rotation = 45)\n",
    "plt.figure(2)\n",
    "loss['Market'].value_counts().nlargest(10).plot.bar(figsize=(15,7), title=\"Most Loss Making Market\")\n",
    "plt.xticks(rotation = 45)"
   ]
  },
  {
   "cell_type": "markdown",
   "metadata": {
    "id": "zXjbmWjJ8qPT"
   },
   "source": [
    "**Order Status as per the payment types**"
   ]
  },
  {
   "cell_type": "code",
   "execution_count": 12,
   "metadata": {
    "id": "Ow6Kqf1p8JGQ"
   },
   "outputs": [],
   "source": [
    "status = df.groupby('Type')['Order Status'].value_counts()\n",
    "status_df = status.to_frame()"
   ]
  },
  {
   "cell_type": "code",
   "execution_count": 13,
   "metadata": {
    "colab": {
     "base_uri": "https://localhost:8080/",
     "height": 363
    },
    "id": "GuIyLZn_8Ngd",
    "outputId": "a9a11445-3edf-479b-a973-217e2a293d06"
   },
   "outputs": [
    {
     "data": {
      "text/html": [
       "<div>\n",
       "<style scoped>\n",
       "    .dataframe tbody tr th:only-of-type {\n",
       "        vertical-align: middle;\n",
       "    }\n",
       "\n",
       "    .dataframe tbody tr th {\n",
       "        vertical-align: top;\n",
       "    }\n",
       "\n",
       "    .dataframe thead th {\n",
       "        text-align: right;\n",
       "    }\n",
       "</style>\n",
       "<table border=\"1\" class=\"dataframe\">\n",
       "  <thead>\n",
       "    <tr style=\"text-align: right;\">\n",
       "      <th></th>\n",
       "      <th></th>\n",
       "      <th>count</th>\n",
       "    </tr>\n",
       "    <tr>\n",
       "      <th>Type</th>\n",
       "      <th>Order Status</th>\n",
       "      <th></th>\n",
       "    </tr>\n",
       "  </thead>\n",
       "  <tbody>\n",
       "    <tr>\n",
       "      <th>CASH</th>\n",
       "      <th>CLOSED</th>\n",
       "      <td>19616</td>\n",
       "    </tr>\n",
       "    <tr>\n",
       "      <th rowspan=\"2\" valign=\"top\">DEBIT</th>\n",
       "      <th>COMPLETE</th>\n",
       "      <td>59491</td>\n",
       "    </tr>\n",
       "    <tr>\n",
       "      <th>ON_HOLD</th>\n",
       "      <td>9804</td>\n",
       "    </tr>\n",
       "    <tr>\n",
       "      <th rowspan=\"2\" valign=\"top\">PAYMENT</th>\n",
       "      <th>PENDING_PAYMENT</th>\n",
       "      <td>39832</td>\n",
       "    </tr>\n",
       "    <tr>\n",
       "      <th>PAYMENT_REVIEW</th>\n",
       "      <td>1893</td>\n",
       "    </tr>\n",
       "    <tr>\n",
       "      <th rowspan=\"4\" valign=\"top\">TRANSFER</th>\n",
       "      <th>PROCESSING</th>\n",
       "      <td>21902</td>\n",
       "    </tr>\n",
       "    <tr>\n",
       "      <th>PENDING</th>\n",
       "      <td>20227</td>\n",
       "    </tr>\n",
       "    <tr>\n",
       "      <th>SUSPECTED_FRAUD</th>\n",
       "      <td>4062</td>\n",
       "    </tr>\n",
       "    <tr>\n",
       "      <th>CANCELED</th>\n",
       "      <td>3692</td>\n",
       "    </tr>\n",
       "  </tbody>\n",
       "</table>\n",
       "</div>"
      ],
      "text/plain": [
       "                          count\n",
       "Type     Order Status          \n",
       "CASH     CLOSED           19616\n",
       "DEBIT    COMPLETE         59491\n",
       "         ON_HOLD           9804\n",
       "PAYMENT  PENDING_PAYMENT  39832\n",
       "         PAYMENT_REVIEW    1893\n",
       "TRANSFER PROCESSING       21902\n",
       "         PENDING          20227\n",
       "         SUSPECTED_FRAUD   4062\n",
       "         CANCELED          3692"
      ]
     },
     "execution_count": 13,
     "metadata": {},
     "output_type": "execute_result"
    }
   ],
   "source": [
    "status_df"
   ]
  },
  {
   "cell_type": "markdown",
   "metadata": {
    "id": "H0QdInwA8k7y"
   },
   "source": [
    "**As we can see that only Transfer payments have a possible suspected fraud situation, what products have the most fraud?**"
   ]
  },
  {
   "cell_type": "code",
   "execution_count": 14,
   "metadata": {
    "id": "A-xsiPvC8hm5"
   },
   "outputs": [],
   "source": [
    "fraud_region = df[(df['Order Status'] == 'SUSPECTED_FRAUD')]"
   ]
  },
  {
   "cell_type": "code",
   "execution_count": null,
   "metadata": {
    "colab": {
     "base_uri": "https://localhost:8080/",
     "height": 672
    },
    "id": "na2gw051Aaz8",
    "outputId": "adbfb82c-3c1a-4502-d716-c8a8a633a0e5"
   },
   "outputs": [
    {
     "data": {
      "image/png": "[encoded data removed]",
      "text/plain": [
       "<Figure size 1000x600 with 1 Axes>"
      ]
     },
     "metadata": {},
     "output_type": "display_data"
    }
   ],
   "source": [
    "import seaborn as sns\n",
    "import matplotlib.pyplot as plt\n",
    "\n",
    "# Set the Seaborn style\n",
    "sns.set_style(\"white\")\n",
    "\n",
    "# Get the top 10 categories with suspected fraud\n",
    "temp = fraud_region['Category Name'].value_counts().nlargest(10)\n",
    "\n",
    "# Create a Seaborn bar plot\n",
    "plt.figure(figsize=(10, 6))\n",
    "sns.barplot(x=temp.index, y=temp.values, color='#FF0000')\n",
    "plt.title('Count of Products with Suspected Fraud')\n",
    "plt.xlabel('Category')\n",
    "plt.ylabel('Count')\n",
    "plt.xticks(rotation=45, ha='right')\n",
    "plt.show()\n"
   ]
  },
  {
   "cell_type": "markdown",
   "metadata": {
    "id": "HEULj2mzGYw4"
   },
   "source": [
    "# **Data Modelling and Neural Networks to predict possible fraud**"
   ]
  },
  {
   "cell_type": "code",
   "execution_count": 13,
   "metadata": {
    "id": "Tdtjf5tdCAtR"
   },
   "outputs": [],
   "source": [
    "# Creating a copy of the datafram\n",
    "df_new = df.copy()"
   ]
  },
  {
   "cell_type": "code",
   "execution_count": 14,
   "metadata": {
    "id": "n0XpEawyCDeK"
   },
   "outputs": [],
   "source": [
    "# Creating Binary enocode for Suspected Fraud and Late delivery\n",
    "\n",
    "df_new['fraud'] = np.where(df_new['Order Status'] == 'SUSPECTED_FRAUD', 1, 0)\n",
    "df_new['late_delivery']=np.where(df_new['Delivery Status'] == 'Late delivery', 1, 0)"
   ]
  },
  {
   "cell_type": "code",
   "execution_count": 15,
   "metadata": {
    "colab": {
     "base_uri": "https://localhost:8080/",
     "height": 365
    },
    "id": "YydQPlOMCIty",
    "outputId": "ec320f08-f4a2-4c03-80de-6b682295eaed"
   },
   "outputs": [
    {
     "data": {
      "text/html": [
       "<div>\n",
       "<style scoped>\n",
       "    .dataframe tbody tr th:only-of-type {\n",
       "        vertical-align: middle;\n",
       "    }\n",
       "\n",
       "    .dataframe tbody tr th {\n",
       "        vertical-align: top;\n",
       "    }\n",
       "\n",
       "    .dataframe thead th {\n",
       "        text-align: right;\n",
       "    }\n",
       "</style>\n",
       "<table border=\"1\" class=\"dataframe\">\n",
       "  <thead>\n",
       "    <tr style=\"text-align: right;\">\n",
       "      <th></th>\n",
       "      <th>Type</th>\n",
       "      <th>Days for shipping (real)</th>\n",
       "      <th>Days for shipment (scheduled)</th>\n",
       "      <th>Benefit per order</th>\n",
       "      <th>Sales per customer</th>\n",
       "      <th>Delivery Status</th>\n",
       "      <th>Late_delivery_risk</th>\n",
       "      <th>Category Id</th>\n",
       "      <th>Category Name</th>\n",
       "      <th>Customer City</th>\n",
       "      <th>Customer Country</th>\n",
       "      <th>Customer Id</th>\n",
       "      <th>Customer Segment</th>\n",
       "      <th>Customer State</th>\n",
       "      <th>Customer Zipcode</th>\n",
       "      <th>Department Id</th>\n",
       "      <th>Department Name</th>\n",
       "      <th>Market</th>\n",
       "      <th>Order City</th>\n",
       "      <th>Order Country</th>\n",
       "      <th>Order Customer Id</th>\n",
       "      <th>order date (DateOrders)</th>\n",
       "      <th>Order Id</th>\n",
       "      <th>Order Item Cardprod Id</th>\n",
       "      <th>Order Item Discount</th>\n",
       "      <th>Order Item Discount Rate</th>\n",
       "      <th>Order Item Id</th>\n",
       "      <th>Order Item Product Price</th>\n",
       "      <th>Order Item Profit Ratio</th>\n",
       "      <th>Order Item Quantity</th>\n",
       "      <th>Sales</th>\n",
       "      <th>Order Item Total</th>\n",
       "      <th>Order Profit Per Order</th>\n",
       "      <th>Order Region</th>\n",
       "      <th>Order State</th>\n",
       "      <th>Order Status</th>\n",
       "      <th>Product Card Id</th>\n",
       "      <th>Product Category Id</th>\n",
       "      <th>Product Name</th>\n",
       "      <th>Product Price</th>\n",
       "      <th>Shipping Mode</th>\n",
       "      <th>Customer_Full_Name</th>\n",
       "      <th>order_yr</th>\n",
       "      <th>order_month</th>\n",
       "      <th>order_day</th>\n",
       "      <th>order_hour</th>\n",
       "      <th>fraud</th>\n",
       "      <th>late_delivery</th>\n",
       "    </tr>\n",
       "  </thead>\n",
       "  <tbody>\n",
       "    <tr>\n",
       "      <th>0</th>\n",
       "      <td>DEBIT</td>\n",
       "      <td>3</td>\n",
       "      <td>4</td>\n",
       "      <td>91.250000</td>\n",
       "      <td>314.640015</td>\n",
       "      <td>Advance shipping</td>\n",
       "      <td>0</td>\n",
       "      <td>73</td>\n",
       "      <td>Sporting Goods</td>\n",
       "      <td>Caguas</td>\n",
       "      <td>Puerto Rico</td>\n",
       "      <td>20755</td>\n",
       "      <td>Consumer</td>\n",
       "      <td>PR</td>\n",
       "      <td>725.0</td>\n",
       "      <td>2</td>\n",
       "      <td>Fitness</td>\n",
       "      <td>Pacific Asia</td>\n",
       "      <td>Bekasi</td>\n",
       "      <td>Indonesia</td>\n",
       "      <td>20755</td>\n",
       "      <td>1/31/2018 22:56</td>\n",
       "      <td>77202</td>\n",
       "      <td>1360</td>\n",
       "      <td>13.110000</td>\n",
       "      <td>0.04</td>\n",
       "      <td>180517</td>\n",
       "      <td>327.75</td>\n",
       "      <td>0.29</td>\n",
       "      <td>1</td>\n",
       "      <td>327.75</td>\n",
       "      <td>314.640015</td>\n",
       "      <td>91.250000</td>\n",
       "      <td>Southeast Asia</td>\n",
       "      <td>Java Occidental</td>\n",
       "      <td>COMPLETE</td>\n",
       "      <td>1360</td>\n",
       "      <td>73</td>\n",
       "      <td>Smart watch</td>\n",
       "      <td>327.75</td>\n",
       "      <td>Standard Class</td>\n",
       "      <td>Cally Holloway</td>\n",
       "      <td>2018</td>\n",
       "      <td>1</td>\n",
       "      <td>2</td>\n",
       "      <td>22</td>\n",
       "      <td>0</td>\n",
       "      <td>0</td>\n",
       "    </tr>\n",
       "    <tr>\n",
       "      <th>1</th>\n",
       "      <td>TRANSFER</td>\n",
       "      <td>5</td>\n",
       "      <td>4</td>\n",
       "      <td>-249.089996</td>\n",
       "      <td>311.359985</td>\n",
       "      <td>Late delivery</td>\n",
       "      <td>1</td>\n",
       "      <td>73</td>\n",
       "      <td>Sporting Goods</td>\n",
       "      <td>Caguas</td>\n",
       "      <td>Puerto Rico</td>\n",
       "      <td>19492</td>\n",
       "      <td>Consumer</td>\n",
       "      <td>PR</td>\n",
       "      <td>725.0</td>\n",
       "      <td>2</td>\n",
       "      <td>Fitness</td>\n",
       "      <td>Pacific Asia</td>\n",
       "      <td>Bikaner</td>\n",
       "      <td>India</td>\n",
       "      <td>19492</td>\n",
       "      <td>1/13/2018 12:27</td>\n",
       "      <td>75939</td>\n",
       "      <td>1360</td>\n",
       "      <td>16.389999</td>\n",
       "      <td>0.05</td>\n",
       "      <td>179254</td>\n",
       "      <td>327.75</td>\n",
       "      <td>-0.80</td>\n",
       "      <td>1</td>\n",
       "      <td>327.75</td>\n",
       "      <td>311.359985</td>\n",
       "      <td>-249.089996</td>\n",
       "      <td>South Asia</td>\n",
       "      <td>Rajastán</td>\n",
       "      <td>PENDING</td>\n",
       "      <td>1360</td>\n",
       "      <td>73</td>\n",
       "      <td>Smart watch</td>\n",
       "      <td>327.75</td>\n",
       "      <td>Standard Class</td>\n",
       "      <td>Irene Luna</td>\n",
       "      <td>2018</td>\n",
       "      <td>1</td>\n",
       "      <td>5</td>\n",
       "      <td>12</td>\n",
       "      <td>0</td>\n",
       "      <td>1</td>\n",
       "    </tr>\n",
       "    <tr>\n",
       "      <th>2</th>\n",
       "      <td>CASH</td>\n",
       "      <td>4</td>\n",
       "      <td>4</td>\n",
       "      <td>-247.779999</td>\n",
       "      <td>309.720001</td>\n",
       "      <td>Shipping on time</td>\n",
       "      <td>0</td>\n",
       "      <td>73</td>\n",
       "      <td>Sporting Goods</td>\n",
       "      <td>San Jose</td>\n",
       "      <td>EE. UU.</td>\n",
       "      <td>19491</td>\n",
       "      <td>Consumer</td>\n",
       "      <td>CA</td>\n",
       "      <td>95125.0</td>\n",
       "      <td>2</td>\n",
       "      <td>Fitness</td>\n",
       "      <td>Pacific Asia</td>\n",
       "      <td>Bikaner</td>\n",
       "      <td>India</td>\n",
       "      <td>19491</td>\n",
       "      <td>1/13/2018 12:06</td>\n",
       "      <td>75938</td>\n",
       "      <td>1360</td>\n",
       "      <td>18.030001</td>\n",
       "      <td>0.06</td>\n",
       "      <td>179253</td>\n",
       "      <td>327.75</td>\n",
       "      <td>-0.80</td>\n",
       "      <td>1</td>\n",
       "      <td>327.75</td>\n",
       "      <td>309.720001</td>\n",
       "      <td>-247.779999</td>\n",
       "      <td>South Asia</td>\n",
       "      <td>Rajastán</td>\n",
       "      <td>CLOSED</td>\n",
       "      <td>1360</td>\n",
       "      <td>73</td>\n",
       "      <td>Smart watch</td>\n",
       "      <td>327.75</td>\n",
       "      <td>Standard Class</td>\n",
       "      <td>Gillian Maldonado</td>\n",
       "      <td>2018</td>\n",
       "      <td>1</td>\n",
       "      <td>5</td>\n",
       "      <td>12</td>\n",
       "      <td>0</td>\n",
       "      <td>0</td>\n",
       "    </tr>\n",
       "    <tr>\n",
       "      <th>3</th>\n",
       "      <td>DEBIT</td>\n",
       "      <td>3</td>\n",
       "      <td>4</td>\n",
       "      <td>22.860001</td>\n",
       "      <td>304.809998</td>\n",
       "      <td>Advance shipping</td>\n",
       "      <td>0</td>\n",
       "      <td>73</td>\n",
       "      <td>Sporting Goods</td>\n",
       "      <td>Los Angeles</td>\n",
       "      <td>EE. UU.</td>\n",
       "      <td>19490</td>\n",
       "      <td>Home Office</td>\n",
       "      <td>CA</td>\n",
       "      <td>90027.0</td>\n",
       "      <td>2</td>\n",
       "      <td>Fitness</td>\n",
       "      <td>Pacific Asia</td>\n",
       "      <td>Townsville</td>\n",
       "      <td>Australia</td>\n",
       "      <td>19490</td>\n",
       "      <td>1/13/2018 11:45</td>\n",
       "      <td>75937</td>\n",
       "      <td>1360</td>\n",
       "      <td>22.940001</td>\n",
       "      <td>0.07</td>\n",
       "      <td>179252</td>\n",
       "      <td>327.75</td>\n",
       "      <td>0.08</td>\n",
       "      <td>1</td>\n",
       "      <td>327.75</td>\n",
       "      <td>304.809998</td>\n",
       "      <td>22.860001</td>\n",
       "      <td>Oceania</td>\n",
       "      <td>Queensland</td>\n",
       "      <td>COMPLETE</td>\n",
       "      <td>1360</td>\n",
       "      <td>73</td>\n",
       "      <td>Smart watch</td>\n",
       "      <td>327.75</td>\n",
       "      <td>Standard Class</td>\n",
       "      <td>Tana Tate</td>\n",
       "      <td>2018</td>\n",
       "      <td>1</td>\n",
       "      <td>5</td>\n",
       "      <td>11</td>\n",
       "      <td>0</td>\n",
       "      <td>0</td>\n",
       "    </tr>\n",
       "    <tr>\n",
       "      <th>4</th>\n",
       "      <td>PAYMENT</td>\n",
       "      <td>2</td>\n",
       "      <td>4</td>\n",
       "      <td>134.210007</td>\n",
       "      <td>298.250000</td>\n",
       "      <td>Advance shipping</td>\n",
       "      <td>0</td>\n",
       "      <td>73</td>\n",
       "      <td>Sporting Goods</td>\n",
       "      <td>Caguas</td>\n",
       "      <td>Puerto Rico</td>\n",
       "      <td>19489</td>\n",
       "      <td>Corporate</td>\n",
       "      <td>PR</td>\n",
       "      <td>725.0</td>\n",
       "      <td>2</td>\n",
       "      <td>Fitness</td>\n",
       "      <td>Pacific Asia</td>\n",
       "      <td>Townsville</td>\n",
       "      <td>Australia</td>\n",
       "      <td>19489</td>\n",
       "      <td>1/13/2018 11:24</td>\n",
       "      <td>75936</td>\n",
       "      <td>1360</td>\n",
       "      <td>29.500000</td>\n",
       "      <td>0.09</td>\n",
       "      <td>179251</td>\n",
       "      <td>327.75</td>\n",
       "      <td>0.45</td>\n",
       "      <td>1</td>\n",
       "      <td>327.75</td>\n",
       "      <td>298.250000</td>\n",
       "      <td>134.210007</td>\n",
       "      <td>Oceania</td>\n",
       "      <td>Queensland</td>\n",
       "      <td>PENDING_PAYMENT</td>\n",
       "      <td>1360</td>\n",
       "      <td>73</td>\n",
       "      <td>Smart watch</td>\n",
       "      <td>327.75</td>\n",
       "      <td>Standard Class</td>\n",
       "      <td>Orli Hendricks</td>\n",
       "      <td>2018</td>\n",
       "      <td>1</td>\n",
       "      <td>5</td>\n",
       "      <td>11</td>\n",
       "      <td>0</td>\n",
       "      <td>0</td>\n",
       "    </tr>\n",
       "  </tbody>\n",
       "</table>\n",
       "</div>"
      ],
      "text/plain": [
       "       Type  Days for shipping (real)  Days for shipment (scheduled)  \\\n",
       "0     DEBIT                         3                              4   \n",
       "1  TRANSFER                         5                              4   \n",
       "2      CASH                         4                              4   \n",
       "3     DEBIT                         3                              4   \n",
       "4   PAYMENT                         2                              4   \n",
       "\n",
       "   Benefit per order  Sales per customer   Delivery Status  \\\n",
       "0          91.250000          314.640015  Advance shipping   \n",
       "1        -249.089996          311.359985     Late delivery   \n",
       "2        -247.779999          309.720001  Shipping on time   \n",
       "3          22.860001          304.809998  Advance shipping   \n",
       "4         134.210007          298.250000  Advance shipping   \n",
       "\n",
       "   Late_delivery_risk  Category Id   Category Name Customer City  \\\n",
       "0                   0           73  Sporting Goods        Caguas   \n",
       "1                   1           73  Sporting Goods        Caguas   \n",
       "2                   0           73  Sporting Goods      San Jose   \n",
       "3                   0           73  Sporting Goods   Los Angeles   \n",
       "4                   0           73  Sporting Goods        Caguas   \n",
       "\n",
       "  Customer Country  Customer Id Customer Segment Customer State  \\\n",
       "0      Puerto Rico        20755         Consumer             PR   \n",
       "1      Puerto Rico        19492         Consumer             PR   \n",
       "2          EE. UU.        19491         Consumer             CA   \n",
       "3          EE. UU.        19490      Home Office             CA   \n",
       "4      Puerto Rico        19489        Corporate             PR   \n",
       "\n",
       "   Customer Zipcode  Department Id Department Name        Market  Order City  \\\n",
       "0             725.0              2         Fitness  Pacific Asia      Bekasi   \n",
       "1             725.0              2         Fitness  Pacific Asia     Bikaner   \n",
       "2           95125.0              2         Fitness  Pacific Asia     Bikaner   \n",
       "3           90027.0              2         Fitness  Pacific Asia  Townsville   \n",
       "4             725.0              2         Fitness  Pacific Asia  Townsville   \n",
       "\n",
       "  Order Country  Order Customer Id order date (DateOrders)  Order Id  \\\n",
       "0     Indonesia              20755         1/31/2018 22:56     77202   \n",
       "1         India              19492         1/13/2018 12:27     75939   \n",
       "2         India              19491         1/13/2018 12:06     75938   \n",
       "3     Australia              19490         1/13/2018 11:45     75937   \n",
       "4     Australia              19489         1/13/2018 11:24     75936   \n",
       "\n",
       "   Order Item Cardprod Id  Order Item Discount  Order Item Discount Rate  \\\n",
       "0                    1360            13.110000                      0.04   \n",
       "1                    1360            16.389999                      0.05   \n",
       "2                    1360            18.030001                      0.06   \n",
       "3                    1360            22.940001                      0.07   \n",
       "4                    1360            29.500000                      0.09   \n",
       "\n",
       "   Order Item Id  Order Item Product Price  Order Item Profit Ratio  \\\n",
       "0         180517                    327.75                     0.29   \n",
       "1         179254                    327.75                    -0.80   \n",
       "2         179253                    327.75                    -0.80   \n",
       "3         179252                    327.75                     0.08   \n",
       "4         179251                    327.75                     0.45   \n",
       "\n",
       "   Order Item Quantity   Sales  Order Item Total  Order Profit Per Order  \\\n",
       "0                    1  327.75        314.640015               91.250000   \n",
       "1                    1  327.75        311.359985             -249.089996   \n",
       "2                    1  327.75        309.720001             -247.779999   \n",
       "3                    1  327.75        304.809998               22.860001   \n",
       "4                    1  327.75        298.250000              134.210007   \n",
       "\n",
       "     Order Region      Order State     Order Status  Product Card Id  \\\n",
       "0  Southeast Asia  Java Occidental         COMPLETE             1360   \n",
       "1      South Asia         Rajastán          PENDING             1360   \n",
       "2      South Asia         Rajastán           CLOSED             1360   \n",
       "3         Oceania       Queensland         COMPLETE             1360   \n",
       "4         Oceania       Queensland  PENDING_PAYMENT             1360   \n",
       "\n",
       "   Product Category Id  Product Name  Product Price   Shipping Mode  \\\n",
       "0                   73  Smart watch          327.75  Standard Class   \n",
       "1                   73  Smart watch          327.75  Standard Class   \n",
       "2                   73  Smart watch          327.75  Standard Class   \n",
       "3                   73  Smart watch          327.75  Standard Class   \n",
       "4                   73  Smart watch          327.75  Standard Class   \n",
       "\n",
       "  Customer_Full_Name  order_yr  order_month  order_day  order_hour  fraud  \\\n",
       "0     Cally Holloway      2018            1          2          22      0   \n",
       "1         Irene Luna      2018            1          5          12      0   \n",
       "2  Gillian Maldonado      2018            1          5          12      0   \n",
       "3          Tana Tate      2018            1          5          11      0   \n",
       "4     Orli Hendricks      2018            1          5          11      0   \n",
       "\n",
       "   late_delivery  \n",
       "0              0  \n",
       "1              1  \n",
       "2              0  \n",
       "3              0  \n",
       "4              0  "
      ]
     },
     "execution_count": 15,
     "metadata": {},
     "output_type": "execute_result"
    }
   ],
   "source": [
    "# Set the display options to show all columns\n",
    "pd.set_option('display.max_columns', None)\n",
    "df_new.head()"
   ]
  },
  {
   "cell_type": "code",
   "execution_count": 16,
   "metadata": {
    "id": "jXo3lOz_Ff5p"
   },
   "outputs": [],
   "source": [
    "## Removing Identical columns after creating new columns\n",
    "\n",
    "df_new.drop(['Delivery Status','Late_delivery_risk','Order Status','order date (DateOrders)'], axis=1, inplace=True)"
   ]
  },
  {
   "cell_type": "code",
   "execution_count": 17,
   "metadata": {
    "colab": {
     "base_uri": "https://localhost:8080/"
    },
    "id": "WJSmhf1MJeZ-",
    "outputId": "7854c3af-b35e-4580-deb1-ec9819cb85b0"
   },
   "outputs": [
    {
     "data": {
      "text/plain": [
       "(180519, 44)"
      ]
     },
     "execution_count": 17,
     "metadata": {},
     "output_type": "execute_result"
    }
   ],
   "source": [
    "## Final dimensions of the dataset after wrangling and cleaning\n",
    "\n",
    "df_new.shape"
   ]
  },
  {
   "cell_type": "code",
   "execution_count": 53,
   "metadata": {
    "colab": {
     "base_uri": "https://localhost:8080/",
     "height": 1000
    },
    "id": "-FbOZv76Jh6s",
    "outputId": "a6d68bae-d24e-41b6-dbc5-5c6f39bb73f4"
   },
   "outputs": [
    {
     "data": {
      "text/plain": [
       "Type                              object\n",
       "Days for shipping (real)           int64\n",
       "Days for shipment (scheduled)      int64\n",
       "Benefit per order                float64\n",
       "Sales per customer               float64\n",
       "Category Id                        int64\n",
       "Category Name                     object\n",
       "Customer City                     object\n",
       "Customer Country                  object\n",
       "Customer Id                        int64\n",
       "Customer Segment                  object\n",
       "Customer State                    object\n",
       "Customer Zipcode                 float64\n",
       "Department Id                      int64\n",
       "Department Name                   object\n",
       "Market                            object\n",
       "Order City                        object\n",
       "Order Country                     object\n",
       "Order Customer Id                  int64\n",
       "Order Id                           int64\n",
       "Order Item Cardprod Id             int64\n",
       "Order Item Discount              float64\n",
       "Order Item Discount Rate         float64\n",
       "Order Item Id                      int64\n",
       "Order Item Product Price         float64\n",
       "Order Item Profit Ratio          float64\n",
       "Order Item Quantity                int64\n",
       "Sales                            float64\n",
       "Order Item Total                 float64\n",
       "Order Profit Per Order           float64\n",
       "Order Region                      object\n",
       "Order State                       object\n",
       "Product Card Id                    int64\n",
       "Product Category Id                int64\n",
       "Product Name                      object\n",
       "Product Price                    float64\n",
       "Shipping Mode                     object\n",
       "Customer_Full_Name                object\n",
       "order_yr                           int32\n",
       "order_month                        int32\n",
       "order_day                          int32\n",
       "order_hour                         int32\n",
       "fraud                              int32\n",
       "late_delivery                      int32\n",
       "dtype: object"
      ]
     },
     "execution_count": 53,
     "metadata": {},
     "output_type": "execute_result"
    }
   ],
   "source": [
    "df_new.dtypes"
   ]
  },
  {
   "cell_type": "markdown",
   "metadata": {
    "id": "qtmPfsEuKtp-"
   },
   "source": [
    "le = preprocessing.LabelEncoder() initializes a LabelEncoder object from the scikit-learn preprocessing module and assigns it to the variable le. This object can then be used to convert categorical labels into numerical labels."
   ]
  },
  {
   "cell_type": "markdown",
   "metadata": {
    "id": "j0N3geqr3jQS"
   },
   "source": [
    "# **Preparing Data for Neural Networks**"
   ]
  },
  {
   "cell_type": "code",
   "execution_count": 19,
   "metadata": {},
   "outputs": [],
   "source": [
    "#!pip install tensorflow\n",
    "\n",
    "#import tensorflow as tf\n",
    "#print(tf.__version__)\n",
    "\n",
    "## Machine Learning Libaries\n",
    "from sklearn import svm,metrics,tree,preprocessing,linear_model\n",
    "from sklearn.preprocessing import MinMaxScaler,StandardScaler\n",
    "import tensorflow as tf\n",
    "import keras\n",
    "from sklearn.model_selection import train_test_split,cross_val_score, cross_val_predict\n",
    "from sklearn import svm,metrics,tree,preprocessing,linear_model\n",
    "from sklearn.preprocessing import MinMaxScaler,StandardScaler\n",
    "import statsmodels.api as sm\n",
    "from sklearn.metrics import accuracy_score,mean_squared_error,recall_score,confusion_matrix,f1_score,roc_curve, auc\n",
    "from keras import Sequential\n",
    "from keras.layers import Dense, Activation\n",
    "from keras.callbacks import CSVLogger\n",
    "from sklearn.neural_network import MLPClassifier\n",
    "from dmba import classificationSummary\n",
    "\n",
    "# from tensorflow_core.estimator import inputs"
   ]
  },
  {
   "cell_type": "code",
   "execution_count": 20,
   "metadata": {
    "id": "vE-e_sj3JmT7"
   },
   "outputs": [],
   "source": [
    "le = preprocessing.LabelEncoder()\n",
    "#convert the categorical columns into numeric\n",
    "df_new['Customer Country']  = le.fit_transform(df_new['Customer Country'])\n",
    "df_new['Market']            = le.fit_transform(df_new['Market'])\n",
    "df_new['Type']              = le.fit_transform(df_new['Type'])\n",
    "df_new['Product Name']      = le.fit_transform(df_new['Product Name'])\n",
    "df_new['Customer Segment']  = le.fit_transform(df_new['Customer Segment'])\n",
    "df_new['Customer State']    = le.fit_transform(df_new['Customer State'])\n",
    "df_new['Order Region']      = le.fit_transform(df_new['Order Region'])\n",
    "df_new['Order City']        = le.fit_transform(df_new['Order City'])\n",
    "df_new['Category Name']     = le.fit_transform(df_new['Category Name'])\n",
    "df_new['Customer City']     = le.fit_transform(df_new['Customer City'])\n",
    "df_new['Department Name']   = le.fit_transform(df_new['Department Name'])\n",
    "df_new['Order State']       = le.fit_transform(df_new['Order State'])\n",
    "df_new['Shipping Mode']     = le.fit_transform(df_new['Shipping Mode'])\n",
    "df_new['Order Country']     = le.fit_transform(df_new['Order Country'])\n",
    "df_new['Customer_Full_Name']    = le.fit_transform(df_new['Customer_Full_Name'])"
   ]
  },
  {
   "cell_type": "code",
   "execution_count": 21,
   "metadata": {
    "colab": {
     "base_uri": "https://localhost:8080/",
     "height": 278
    },
    "id": "bNuRrmjbKxfc",
    "outputId": "1ee275db-9130-425f-f61d-46037537a32c"
   },
   "outputs": [
    {
     "data": {
      "text/html": [
       "<div>\n",
       "<style scoped>\n",
       "    .dataframe tbody tr th:only-of-type {\n",
       "        vertical-align: middle;\n",
       "    }\n",
       "\n",
       "    .dataframe tbody tr th {\n",
       "        vertical-align: top;\n",
       "    }\n",
       "\n",
       "    .dataframe thead th {\n",
       "        text-align: right;\n",
       "    }\n",
       "</style>\n",
       "<table border=\"1\" class=\"dataframe\">\n",
       "  <thead>\n",
       "    <tr style=\"text-align: right;\">\n",
       "      <th></th>\n",
       "      <th>Type</th>\n",
       "      <th>Days for shipping (real)</th>\n",
       "      <th>Days for shipment (scheduled)</th>\n",
       "      <th>Benefit per order</th>\n",
       "      <th>Sales per customer</th>\n",
       "      <th>Category Id</th>\n",
       "      <th>Category Name</th>\n",
       "      <th>Customer City</th>\n",
       "      <th>Customer Country</th>\n",
       "      <th>Customer Id</th>\n",
       "      <th>Customer Segment</th>\n",
       "      <th>Customer State</th>\n",
       "      <th>Customer Zipcode</th>\n",
       "      <th>Department Id</th>\n",
       "      <th>Department Name</th>\n",
       "      <th>Market</th>\n",
       "      <th>Order City</th>\n",
       "      <th>Order Country</th>\n",
       "      <th>Order Customer Id</th>\n",
       "      <th>Order Id</th>\n",
       "      <th>Order Item Cardprod Id</th>\n",
       "      <th>Order Item Discount</th>\n",
       "      <th>Order Item Discount Rate</th>\n",
       "      <th>Order Item Id</th>\n",
       "      <th>Order Item Product Price</th>\n",
       "      <th>Order Item Profit Ratio</th>\n",
       "      <th>Order Item Quantity</th>\n",
       "      <th>Sales</th>\n",
       "      <th>Order Item Total</th>\n",
       "      <th>Order Profit Per Order</th>\n",
       "      <th>Order Region</th>\n",
       "      <th>Order State</th>\n",
       "      <th>Product Card Id</th>\n",
       "      <th>Product Category Id</th>\n",
       "      <th>Product Name</th>\n",
       "      <th>Product Price</th>\n",
       "      <th>Shipping Mode</th>\n",
       "      <th>Customer_Full_Name</th>\n",
       "      <th>order_yr</th>\n",
       "      <th>order_month</th>\n",
       "      <th>order_day</th>\n",
       "      <th>order_hour</th>\n",
       "      <th>fraud</th>\n",
       "      <th>late_delivery</th>\n",
       "    </tr>\n",
       "  </thead>\n",
       "  <tbody>\n",
       "    <tr>\n",
       "      <th>0</th>\n",
       "      <td>1</td>\n",
       "      <td>3</td>\n",
       "      <td>4</td>\n",
       "      <td>91.250000</td>\n",
       "      <td>314.640015</td>\n",
       "      <td>73</td>\n",
       "      <td>40</td>\n",
       "      <td>66</td>\n",
       "      <td>1</td>\n",
       "      <td>20755</td>\n",
       "      <td>0</td>\n",
       "      <td>36</td>\n",
       "      <td>725.0</td>\n",
       "      <td>2</td>\n",
       "      <td>4</td>\n",
       "      <td>3</td>\n",
       "      <td>331</td>\n",
       "      <td>70</td>\n",
       "      <td>20755</td>\n",
       "      <td>77202</td>\n",
       "      <td>1360</td>\n",
       "      <td>13.110000</td>\n",
       "      <td>0.04</td>\n",
       "      <td>180517</td>\n",
       "      <td>327.75</td>\n",
       "      <td>0.29</td>\n",
       "      <td>1</td>\n",
       "      <td>327.75</td>\n",
       "      <td>314.640015</td>\n",
       "      <td>91.250000</td>\n",
       "      <td>15</td>\n",
       "      <td>475</td>\n",
       "      <td>1360</td>\n",
       "      <td>73</td>\n",
       "      <td>78</td>\n",
       "      <td>327.75</td>\n",
       "      <td>3</td>\n",
       "      <td>1876</td>\n",
       "      <td>2018</td>\n",
       "      <td>1</td>\n",
       "      <td>2</td>\n",
       "      <td>22</td>\n",
       "      <td>0</td>\n",
       "      <td>0</td>\n",
       "    </tr>\n",
       "    <tr>\n",
       "      <th>1</th>\n",
       "      <td>3</td>\n",
       "      <td>5</td>\n",
       "      <td>4</td>\n",
       "      <td>-249.089996</td>\n",
       "      <td>311.359985</td>\n",
       "      <td>73</td>\n",
       "      <td>40</td>\n",
       "      <td>66</td>\n",
       "      <td>1</td>\n",
       "      <td>19492</td>\n",
       "      <td>0</td>\n",
       "      <td>36</td>\n",
       "      <td>725.0</td>\n",
       "      <td>2</td>\n",
       "      <td>4</td>\n",
       "      <td>3</td>\n",
       "      <td>391</td>\n",
       "      <td>69</td>\n",
       "      <td>19492</td>\n",
       "      <td>75939</td>\n",
       "      <td>1360</td>\n",
       "      <td>16.389999</td>\n",
       "      <td>0.05</td>\n",
       "      <td>179254</td>\n",
       "      <td>327.75</td>\n",
       "      <td>-0.80</td>\n",
       "      <td>1</td>\n",
       "      <td>327.75</td>\n",
       "      <td>311.359985</td>\n",
       "      <td>-249.089996</td>\n",
       "      <td>13</td>\n",
       "      <td>841</td>\n",
       "      <td>1360</td>\n",
       "      <td>73</td>\n",
       "      <td>78</td>\n",
       "      <td>327.75</td>\n",
       "      <td>3</td>\n",
       "      <td>5378</td>\n",
       "      <td>2018</td>\n",
       "      <td>1</td>\n",
       "      <td>5</td>\n",
       "      <td>12</td>\n",
       "      <td>0</td>\n",
       "      <td>1</td>\n",
       "    </tr>\n",
       "    <tr>\n",
       "      <th>2</th>\n",
       "      <td>0</td>\n",
       "      <td>4</td>\n",
       "      <td>4</td>\n",
       "      <td>-247.779999</td>\n",
       "      <td>309.720001</td>\n",
       "      <td>73</td>\n",
       "      <td>40</td>\n",
       "      <td>452</td>\n",
       "      <td>0</td>\n",
       "      <td>19491</td>\n",
       "      <td>0</td>\n",
       "      <td>5</td>\n",
       "      <td>95125.0</td>\n",
       "      <td>2</td>\n",
       "      <td>4</td>\n",
       "      <td>3</td>\n",
       "      <td>391</td>\n",
       "      <td>69</td>\n",
       "      <td>19491</td>\n",
       "      <td>75938</td>\n",
       "      <td>1360</td>\n",
       "      <td>18.030001</td>\n",
       "      <td>0.06</td>\n",
       "      <td>179253</td>\n",
       "      <td>327.75</td>\n",
       "      <td>-0.80</td>\n",
       "      <td>1</td>\n",
       "      <td>327.75</td>\n",
       "      <td>309.720001</td>\n",
       "      <td>-247.779999</td>\n",
       "      <td>13</td>\n",
       "      <td>841</td>\n",
       "      <td>1360</td>\n",
       "      <td>73</td>\n",
       "      <td>78</td>\n",
       "      <td>327.75</td>\n",
       "      <td>3</td>\n",
       "      <td>4429</td>\n",
       "      <td>2018</td>\n",
       "      <td>1</td>\n",
       "      <td>5</td>\n",
       "      <td>12</td>\n",
       "      <td>0</td>\n",
       "      <td>0</td>\n",
       "    </tr>\n",
       "    <tr>\n",
       "      <th>3</th>\n",
       "      <td>1</td>\n",
       "      <td>3</td>\n",
       "      <td>4</td>\n",
       "      <td>22.860001</td>\n",
       "      <td>304.809998</td>\n",
       "      <td>73</td>\n",
       "      <td>40</td>\n",
       "      <td>285</td>\n",
       "      <td>0</td>\n",
       "      <td>19490</td>\n",
       "      <td>2</td>\n",
       "      <td>5</td>\n",
       "      <td>90027.0</td>\n",
       "      <td>2</td>\n",
       "      <td>4</td>\n",
       "      <td>3</td>\n",
       "      <td>3226</td>\n",
       "      <td>8</td>\n",
       "      <td>19490</td>\n",
       "      <td>75937</td>\n",
       "      <td>1360</td>\n",
       "      <td>22.940001</td>\n",
       "      <td>0.07</td>\n",
       "      <td>179252</td>\n",
       "      <td>327.75</td>\n",
       "      <td>0.08</td>\n",
       "      <td>1</td>\n",
       "      <td>327.75</td>\n",
       "      <td>304.809998</td>\n",
       "      <td>22.860001</td>\n",
       "      <td>11</td>\n",
       "      <td>835</td>\n",
       "      <td>1360</td>\n",
       "      <td>73</td>\n",
       "      <td>78</td>\n",
       "      <td>327.75</td>\n",
       "      <td>3</td>\n",
       "      <td>12929</td>\n",
       "      <td>2018</td>\n",
       "      <td>1</td>\n",
       "      <td>5</td>\n",
       "      <td>11</td>\n",
       "      <td>0</td>\n",
       "      <td>0</td>\n",
       "    </tr>\n",
       "    <tr>\n",
       "      <th>4</th>\n",
       "      <td>2</td>\n",
       "      <td>2</td>\n",
       "      <td>4</td>\n",
       "      <td>134.210007</td>\n",
       "      <td>298.250000</td>\n",
       "      <td>73</td>\n",
       "      <td>40</td>\n",
       "      <td>66</td>\n",
       "      <td>1</td>\n",
       "      <td>19489</td>\n",
       "      <td>1</td>\n",
       "      <td>36</td>\n",
       "      <td>725.0</td>\n",
       "      <td>2</td>\n",
       "      <td>4</td>\n",
       "      <td>3</td>\n",
       "      <td>3226</td>\n",
       "      <td>8</td>\n",
       "      <td>19489</td>\n",
       "      <td>75936</td>\n",
       "      <td>1360</td>\n",
       "      <td>29.500000</td>\n",
       "      <td>0.09</td>\n",
       "      <td>179251</td>\n",
       "      <td>327.75</td>\n",
       "      <td>0.45</td>\n",
       "      <td>1</td>\n",
       "      <td>327.75</td>\n",
       "      <td>298.250000</td>\n",
       "      <td>134.210007</td>\n",
       "      <td>11</td>\n",
       "      <td>835</td>\n",
       "      <td>1360</td>\n",
       "      <td>73</td>\n",
       "      <td>78</td>\n",
       "      <td>327.75</td>\n",
       "      <td>3</td>\n",
       "      <td>10638</td>\n",
       "      <td>2018</td>\n",
       "      <td>1</td>\n",
       "      <td>5</td>\n",
       "      <td>11</td>\n",
       "      <td>0</td>\n",
       "      <td>0</td>\n",
       "    </tr>\n",
       "  </tbody>\n",
       "</table>\n",
       "</div>"
      ],
      "text/plain": [
       "   Type  Days for shipping (real)  Days for shipment (scheduled)  \\\n",
       "0     1                         3                              4   \n",
       "1     3                         5                              4   \n",
       "2     0                         4                              4   \n",
       "3     1                         3                              4   \n",
       "4     2                         2                              4   \n",
       "\n",
       "   Benefit per order  Sales per customer  Category Id  Category Name  \\\n",
       "0          91.250000          314.640015           73             40   \n",
       "1        -249.089996          311.359985           73             40   \n",
       "2        -247.779999          309.720001           73             40   \n",
       "3          22.860001          304.809998           73             40   \n",
       "4         134.210007          298.250000           73             40   \n",
       "\n",
       "   Customer City  Customer Country  Customer Id  Customer Segment  \\\n",
       "0             66                 1        20755                 0   \n",
       "1             66                 1        19492                 0   \n",
       "2            452                 0        19491                 0   \n",
       "3            285                 0        19490                 2   \n",
       "4             66                 1        19489                 1   \n",
       "\n",
       "   Customer State  Customer Zipcode  Department Id  Department Name  Market  \\\n",
       "0              36             725.0              2                4       3   \n",
       "1              36             725.0              2                4       3   \n",
       "2               5           95125.0              2                4       3   \n",
       "3               5           90027.0              2                4       3   \n",
       "4              36             725.0              2                4       3   \n",
       "\n",
       "   Order City  Order Country  Order Customer Id  Order Id  \\\n",
       "0         331             70              20755     77202   \n",
       "1         391             69              19492     75939   \n",
       "2         391             69              19491     75938   \n",
       "3        3226              8              19490     75937   \n",
       "4        3226              8              19489     75936   \n",
       "\n",
       "   Order Item Cardprod Id  Order Item Discount  Order Item Discount Rate  \\\n",
       "0                    1360            13.110000                      0.04   \n",
       "1                    1360            16.389999                      0.05   \n",
       "2                    1360            18.030001                      0.06   \n",
       "3                    1360            22.940001                      0.07   \n",
       "4                    1360            29.500000                      0.09   \n",
       "\n",
       "   Order Item Id  Order Item Product Price  Order Item Profit Ratio  \\\n",
       "0         180517                    327.75                     0.29   \n",
       "1         179254                    327.75                    -0.80   \n",
       "2         179253                    327.75                    -0.80   \n",
       "3         179252                    327.75                     0.08   \n",
       "4         179251                    327.75                     0.45   \n",
       "\n",
       "   Order Item Quantity   Sales  Order Item Total  Order Profit Per Order  \\\n",
       "0                    1  327.75        314.640015               91.250000   \n",
       "1                    1  327.75        311.359985             -249.089996   \n",
       "2                    1  327.75        309.720001             -247.779999   \n",
       "3                    1  327.75        304.809998               22.860001   \n",
       "4                    1  327.75        298.250000              134.210007   \n",
       "\n",
       "   Order Region  Order State  Product Card Id  Product Category Id  \\\n",
       "0            15          475             1360                   73   \n",
       "1            13          841             1360                   73   \n",
       "2            13          841             1360                   73   \n",
       "3            11          835             1360                   73   \n",
       "4            11          835             1360                   73   \n",
       "\n",
       "   Product Name  Product Price  Shipping Mode  Customer_Full_Name  order_yr  \\\n",
       "0            78         327.75              3                1876      2018   \n",
       "1            78         327.75              3                5378      2018   \n",
       "2            78         327.75              3                4429      2018   \n",
       "3            78         327.75              3               12929      2018   \n",
       "4            78         327.75              3               10638      2018   \n",
       "\n",
       "   order_month  order_day  order_hour  fraud  late_delivery  \n",
       "0            1          2          22      0              0  \n",
       "1            1          5          12      0              1  \n",
       "2            1          5          12      0              0  \n",
       "3            1          5          11      0              0  \n",
       "4            1          5          11      0              0  "
      ]
     },
     "execution_count": 21,
     "metadata": {},
     "output_type": "execute_result"
    }
   ],
   "source": [
    "df_new.head()"
   ]
  },
  {
   "cell_type": "code",
   "execution_count": 66,
   "metadata": {
    "colab": {
     "base_uri": "https://localhost:8080/"
    },
    "collapsed": true,
    "id": "-ZNWEjVHHRvP",
    "outputId": "8692c4f8-cb15-4512-9f37-5ebbeecf86c3"
   },
   "outputs": [
    {
     "name": "stdout",
     "output_type": "stream",
     "text": [
      "<class 'pandas.core.frame.DataFrame'>\n",
      "RangeIndex: 180519 entries, 0 to 180518\n",
      "Data columns (total 44 columns):\n",
      " #   Column                         Non-Null Count   Dtype  \n",
      "---  ------                         --------------   -----  \n",
      " 0   Type                           180519 non-null  int64  \n",
      " 1   Days for shipping (real)       180519 non-null  int64  \n",
      " 2   Days for shipment (scheduled)  180519 non-null  int64  \n",
      " 3   Benefit per order              180519 non-null  float64\n",
      " 4   Sales per customer             180519 non-null  float64\n",
      " 5   Category Id                    180519 non-null  int64  \n",
      " 6   Category Name                  180519 non-null  int64  \n",
      " 7   Customer City                  180519 non-null  int64  \n",
      " 8   Customer Country               180519 non-null  int64  \n",
      " 9   Customer Id                    180519 non-null  int64  \n",
      " 10  Customer Segment               180519 non-null  int64  \n",
      " 11  Customer State                 180519 non-null  int64  \n",
      " 12  Customer Zipcode               180519 non-null  float64\n",
      " 13  Department Id                  180519 non-null  int64  \n",
      " 14  Department Name                180519 non-null  int64  \n",
      " 15  Market                         180519 non-null  int64  \n",
      " 16  Order City                     180519 non-null  int64  \n",
      " 17  Order Country                  180519 non-null  int64  \n",
      " 18  Order Customer Id              180519 non-null  int64  \n",
      " 19  Order Id                       180519 non-null  int64  \n",
      " 20  Order Item Cardprod Id         180519 non-null  int64  \n",
      " 21  Order Item Discount            180519 non-null  float64\n",
      " 22  Order Item Discount Rate       180519 non-null  float64\n",
      " 23  Order Item Id                  180519 non-null  int64  \n",
      " 24  Order Item Product Price       180519 non-null  float64\n",
      " 25  Order Item Profit Ratio        180519 non-null  float64\n",
      " 26  Order Item Quantity            180519 non-null  int64  \n",
      " 27  Sales                          180519 non-null  float64\n",
      " 28  Order Item Total               180519 non-null  float64\n",
      " 29  Order Profit Per Order         180519 non-null  float64\n",
      " 30  Order Region                   180519 non-null  int64  \n",
      " 31  Order State                    180519 non-null  int64  \n",
      " 32  Product Card Id                180519 non-null  int64  \n",
      " 33  Product Category Id            180519 non-null  int64  \n",
      " 34  Product Name                   180519 non-null  int64  \n",
      " 35  Product Price                  180519 non-null  float64\n",
      " 36  Shipping Mode                  180519 non-null  int64  \n",
      " 37  Customer_Full_Name             180519 non-null  int64  \n",
      " 38  order_yr                       180519 non-null  int32  \n",
      " 39  order_month                    180519 non-null  int32  \n",
      " 40  order_day                      180519 non-null  int32  \n",
      " 41  order_hour                     180519 non-null  int32  \n",
      " 42  fraud                          180519 non-null  int64  \n",
      " 43  late_delivery                  180519 non-null  int64  \n",
      "dtypes: float64(11), int32(4), int64(29)\n",
      "memory usage: 57.8 MB\n"
     ]
    }
   ],
   "source": [
    "df_new.info()"
   ]
  },
  {
   "cell_type": "code",
   "execution_count": 67,
   "metadata": {
    "colab": {
     "base_uri": "https://localhost:8080/",
     "height": 178
    },
    "id": "I68X4WkhMI-J",
    "outputId": "4d0c723d-dea8-4dc1-af4e-d55a1265eb36"
   },
   "outputs": [
    {
     "data": {
      "text/html": [
       "<div>\n",
       "<style scoped>\n",
       "    .dataframe tbody tr th:only-of-type {\n",
       "        vertical-align: middle;\n",
       "    }\n",
       "\n",
       "    .dataframe tbody tr th {\n",
       "        vertical-align: top;\n",
       "    }\n",
       "\n",
       "    .dataframe thead th {\n",
       "        text-align: right;\n",
       "    }\n",
       "</style>\n",
       "<table border=\"1\" class=\"dataframe\">\n",
       "  <thead>\n",
       "    <tr style=\"text-align: right;\">\n",
       "      <th></th>\n",
       "      <th>count</th>\n",
       "    </tr>\n",
       "    <tr>\n",
       "      <th>fraud</th>\n",
       "      <th></th>\n",
       "    </tr>\n",
       "  </thead>\n",
       "  <tbody>\n",
       "    <tr>\n",
       "      <th>0</th>\n",
       "      <td>176457</td>\n",
       "    </tr>\n",
       "    <tr>\n",
       "      <th>1</th>\n",
       "      <td>4062</td>\n",
       "    </tr>\n",
       "  </tbody>\n",
       "</table>\n",
       "</div><br><label><b>dtype:</b> int64</label>"
      ],
      "text/plain": [
       "fraud\n",
       "0    176457\n",
       "1      4062\n",
       "Name: count, dtype: int64"
      ]
     },
     "execution_count": 67,
     "metadata": {},
     "output_type": "execute_result"
    }
   ],
   "source": [
    "df_new['fraud'].value_counts()"
   ]
  },
  {
   "cell_type": "markdown",
   "metadata": {
    "id": "Wud9syjcbvQc"
   },
   "source": [
    "Accuracy should not be used as a metric for a dataset as imbalanced as the one you have. Instead, you should look at a metric such as Area Under Curve(AUC). If you would have infinite data, then you could just rebalance and remove some of the data from the class that has the most samples. However, in many cases data is sparse and you want to use as much of it as possible. Removing data can have a disastrous effect on many applications.\n",
    "\n",
    "**So what are good and convenient ways of handling this?**\n",
    "\n",
    " - Add weights to the loss function. One weight for class A and one for B. By   increasing the magnitude of the loss for the B class the model should not get stuck in a suboptimal solution that just predicts one class.\n",
    "\n",
    " - Use another objective(loss) function. F1-score can, for example, be\n",
    "   implemented and used as an objective(loss) function. For a differentiable version see https://stackoverflow.com/a/65320239/12229416\n",
    "\n",
    "What is great with these approaches is that it will allow you to use all the data."
   ]
  },
  {
   "cell_type": "code",
   "execution_count": 71,
   "metadata": {
    "colab": {
     "base_uri": "https://localhost:8080/",
     "height": 178
    },
    "id": "_3m7J1-2bCYD",
    "outputId": "2f265386-022e-45d3-eb51-2328b6cfa758"
   },
   "outputs": [
    {
     "data": {
      "text/html": [
       "<div>\n",
       "<style scoped>\n",
       "    .dataframe tbody tr th:only-of-type {\n",
       "        vertical-align: middle;\n",
       "    }\n",
       "\n",
       "    .dataframe tbody tr th {\n",
       "        vertical-align: top;\n",
       "    }\n",
       "\n",
       "    .dataframe thead th {\n",
       "        text-align: right;\n",
       "    }\n",
       "</style>\n",
       "<table border=\"1\" class=\"dataframe\">\n",
       "  <thead>\n",
       "    <tr style=\"text-align: right;\">\n",
       "      <th></th>\n",
       "      <th>count</th>\n",
       "    </tr>\n",
       "    <tr>\n",
       "      <th>fraud</th>\n",
       "      <th></th>\n",
       "    </tr>\n",
       "  </thead>\n",
       "  <tbody>\n",
       "    <tr>\n",
       "      <th>0</th>\n",
       "      <td>97.749821</td>\n",
       "    </tr>\n",
       "    <tr>\n",
       "      <th>1</th>\n",
       "      <td>2.250179</td>\n",
       "    </tr>\n",
       "  </tbody>\n",
       "</table>\n",
       "</div><br><label><b>dtype:</b> float64</label>"
      ],
      "text/plain": [
       "fraud\n",
       "0    97.749821\n",
       "1     2.250179\n",
       "Name: count, dtype: float64"
      ]
     },
     "execution_count": 71,
     "metadata": {},
     "output_type": "execute_result"
    }
   ],
   "source": [
    "## percentage of class present in target variable(y)\n",
    "df_new['fraud'].value_counts()/(df.shape[0])*100"
   ]
  },
  {
   "cell_type": "markdown",
   "metadata": {
    "id": "1Vr7Er8WWPnr"
   },
   "source": [
    "**The data with class label 0 has much higher count that the data for the class label 1. Hence, it is highly unbalanced dataset. Before we consume this dataset for the further analysis, we need to balance the dataset.**"
   ]
  },
  {
   "cell_type": "markdown",
   "metadata": {
    "id": "k4b4pFZGWaMr"
   },
   "source": [
    "# **EDA (Exploratory Data Analysis)**"
   ]
  },
  {
   "cell_type": "code",
   "execution_count": 68,
   "metadata": {
    "colab": {
     "base_uri": "https://localhost:8080/"
    },
    "id": "w2ptla5zXfjn",
    "outputId": "f7eb7b1f-ba35-47c8-ecba-c3e9f328edec"
   },
   "outputs": [
    {
     "name": "stdout",
     "output_type": "stream",
     "text": [
      "Fraud Cases\n",
      "count    4062.000000\n",
      "mean        3.494092\n",
      "std         1.614951\n",
      "min         0.000000\n",
      "25%         2.000000\n",
      "50%         3.000000\n",
      "75%         5.000000\n",
      "max         6.000000\n",
      "Name: Days for shipping (real), dtype: float64\n",
      "\n",
      "Non-Fraud Cases\n",
      "count    176457.000000\n",
      "mean          3.497736\n",
      "std           1.623928\n",
      "min           0.000000\n",
      "25%           2.000000\n",
      "50%           3.000000\n",
      "75%           5.000000\n",
      "max           6.000000\n",
      "Name: Days for shipping (real), dtype: float64\n"
     ]
    }
   ],
   "source": [
    "print(\"Fraud Cases\")\n",
    "print(df_new['Days for shipping (real)'][df_new.fraud == 1].describe())\n",
    "print()\n",
    "print(\"Non-Fraud Cases\")\n",
    "print(df_new['Days for shipping (real)'][df_new.fraud == 0].describe())"
   ]
  },
  {
   "cell_type": "code",
   "execution_count": 69,
   "metadata": {
    "colab": {
     "base_uri": "https://localhost:8080/"
    },
    "id": "q06rkEaYWW0C",
    "outputId": "711ddc68-168f-42f1-84e3-4ead10a5590e"
   },
   "outputs": [
    {
     "name": "stdout",
     "output_type": "stream",
     "text": [
      "\n",
      "Analyzing Days for shipping (real)\n",
      "\n",
      "Fraud Cases\n",
      "count    4062.000000\n",
      "mean        3.494092\n",
      "std         1.614951\n",
      "min         0.000000\n",
      "25%         2.000000\n",
      "50%         3.000000\n",
      "75%         5.000000\n",
      "max         6.000000\n",
      "Name: Days for shipping (real), dtype: float64\n",
      "\n",
      "Non-Fraud Cases\n",
      "count    176457.000000\n",
      "mean          3.497736\n",
      "std           1.623928\n",
      "min           0.000000\n",
      "25%           2.000000\n",
      "50%           3.000000\n",
      "75%           5.000000\n",
      "max           6.000000\n",
      "Name: Days for shipping (real), dtype: float64\n",
      "\n",
      "Analyzing Days for shipment (scheduled)\n",
      "\n",
      "Fraud Cases\n",
      "count    4062.000000\n",
      "mean        2.908912\n",
      "std         1.389295\n",
      "min         0.000000\n",
      "25%         2.000000\n",
      "50%         4.000000\n",
      "75%         4.000000\n",
      "max         4.000000\n",
      "Name: Days for shipment (scheduled), dtype: float64\n",
      "\n",
      "Non-Fraud Cases\n",
      "count    176457.000000\n",
      "mean          2.932374\n",
      "std           1.374105\n",
      "min           0.000000\n",
      "25%           2.000000\n",
      "50%           4.000000\n",
      "75%           4.000000\n",
      "max           4.000000\n",
      "Name: Days for shipment (scheduled), dtype: float64\n"
     ]
    }
   ],
   "source": [
    "# For actual vs scheduled shipping days\n",
    "for column in ['Days for shipping (real)', 'Days for shipment (scheduled)']:\n",
    "    print(f\"\\nAnalyzing {column}\")\n",
    "    print(\"\\nFraud Cases\")\n",
    "    print(df_new[column][df_new.fraud == 1].describe())\n",
    "    print(\"\\nNon-Fraud Cases\")\n",
    "    print(df_new[column][df_new.fraud == 0].describe())"
   ]
  },
  {
   "cell_type": "markdown",
   "metadata": {
    "id": "RpVwih7VLtpK"
   },
   "source": [
    "# **Preparing Data for Neural Networks**\n",
    "Creating a Validation Set from the orignal data"
   ]
  },
  {
   "cell_type": "code",
   "execution_count": 22,
   "metadata": {
    "colab": {
     "base_uri": "https://localhost:8080/",
     "height": 495
    },
    "id": "PFGAf3LkLvjW",
    "outputId": "0881c6fa-bf7a-445e-b68e-ff799074be31"
   },
   "outputs": [
    {
     "data": {
      "text/html": [
       "<div>\n",
       "<style scoped>\n",
       "    .dataframe tbody tr th:only-of-type {\n",
       "        vertical-align: middle;\n",
       "    }\n",
       "\n",
       "    .dataframe tbody tr th {\n",
       "        vertical-align: top;\n",
       "    }\n",
       "\n",
       "    .dataframe thead th {\n",
       "        text-align: right;\n",
       "    }\n",
       "</style>\n",
       "<table border=\"1\" class=\"dataframe\">\n",
       "  <thead>\n",
       "    <tr style=\"text-align: right;\">\n",
       "      <th></th>\n",
       "      <th>Type</th>\n",
       "      <th>Days for shipping (real)</th>\n",
       "      <th>Days for shipment (scheduled)</th>\n",
       "      <th>Benefit per order</th>\n",
       "      <th>Sales per customer</th>\n",
       "      <th>Category Id</th>\n",
       "      <th>Category Name</th>\n",
       "      <th>Customer City</th>\n",
       "      <th>Customer Country</th>\n",
       "      <th>Customer Id</th>\n",
       "      <th>Customer Segment</th>\n",
       "      <th>Customer State</th>\n",
       "      <th>Customer Zipcode</th>\n",
       "      <th>Department Id</th>\n",
       "      <th>Department Name</th>\n",
       "      <th>Market</th>\n",
       "      <th>Order City</th>\n",
       "      <th>Order Country</th>\n",
       "      <th>Order Customer Id</th>\n",
       "      <th>Order Id</th>\n",
       "      <th>Order Item Cardprod Id</th>\n",
       "      <th>Order Item Discount</th>\n",
       "      <th>Order Item Discount Rate</th>\n",
       "      <th>Order Item Id</th>\n",
       "      <th>Order Item Product Price</th>\n",
       "      <th>Order Item Profit Ratio</th>\n",
       "      <th>Order Item Quantity</th>\n",
       "      <th>Sales</th>\n",
       "      <th>Order Item Total</th>\n",
       "      <th>Order Profit Per Order</th>\n",
       "      <th>Order Region</th>\n",
       "      <th>Order State</th>\n",
       "      <th>Product Card Id</th>\n",
       "      <th>Product Category Id</th>\n",
       "      <th>Product Name</th>\n",
       "      <th>Product Price</th>\n",
       "      <th>Shipping Mode</th>\n",
       "      <th>Customer_Full_Name</th>\n",
       "      <th>order_yr</th>\n",
       "      <th>order_month</th>\n",
       "      <th>order_day</th>\n",
       "      <th>order_hour</th>\n",
       "      <th>fraud</th>\n",
       "      <th>late_delivery</th>\n",
       "    </tr>\n",
       "  </thead>\n",
       "  <tbody>\n",
       "    <tr>\n",
       "      <th>101369</th>\n",
       "      <td>3</td>\n",
       "      <td>2</td>\n",
       "      <td>4</td>\n",
       "      <td>71.849998</td>\n",
       "      <td>197.919998</td>\n",
       "      <td>46</td>\n",
       "      <td>30</td>\n",
       "      <td>529</td>\n",
       "      <td>0</td>\n",
       "      <td>6862</td>\n",
       "      <td>0</td>\n",
       "      <td>5</td>\n",
       "      <td>95076.0</td>\n",
       "      <td>7</td>\n",
       "      <td>3</td>\n",
       "      <td>4</td>\n",
       "      <td>657</td>\n",
       "      <td>48</td>\n",
       "      <td>6862</td>\n",
       "      <td>33191</td>\n",
       "      <td>1014</td>\n",
       "      <td>2.00</td>\n",
       "      <td>0.01</td>\n",
       "      <td>82964</td>\n",
       "      <td>49.980000</td>\n",
       "      <td>0.36</td>\n",
       "      <td>4</td>\n",
       "      <td>199.919998</td>\n",
       "      <td>197.919998</td>\n",
       "      <td>71.849998</td>\n",
       "      <td>14</td>\n",
       "      <td>1037</td>\n",
       "      <td>1014</td>\n",
       "      <td>46</td>\n",
       "      <td>67</td>\n",
       "      <td>49.980000</td>\n",
       "      <td>3</td>\n",
       "      <td>9418</td>\n",
       "      <td>2016</td>\n",
       "      <td>4</td>\n",
       "      <td>4</td>\n",
       "      <td>11</td>\n",
       "      <td>0</td>\n",
       "      <td>0</td>\n",
       "    </tr>\n",
       "    <tr>\n",
       "      <th>3026</th>\n",
       "      <td>2</td>\n",
       "      <td>5</td>\n",
       "      <td>4</td>\n",
       "      <td>57.529999</td>\n",
       "      <td>164.380005</td>\n",
       "      <td>67</td>\n",
       "      <td>16</td>\n",
       "      <td>66</td>\n",
       "      <td>1</td>\n",
       "      <td>15052</td>\n",
       "      <td>2</td>\n",
       "      <td>36</td>\n",
       "      <td>725.0</td>\n",
       "      <td>9</td>\n",
       "      <td>2</td>\n",
       "      <td>1</td>\n",
       "      <td>1099</td>\n",
       "      <td>2</td>\n",
       "      <td>15052</td>\n",
       "      <td>71499</td>\n",
       "      <td>1354</td>\n",
       "      <td>0.00</td>\n",
       "      <td>0.00</td>\n",
       "      <td>174814</td>\n",
       "      <td>164.380005</td>\n",
       "      <td>0.35</td>\n",
       "      <td>1</td>\n",
       "      <td>164.380005</td>\n",
       "      <td>164.380005</td>\n",
       "      <td>57.529999</td>\n",
       "      <td>22</td>\n",
       "      <td>97</td>\n",
       "      <td>1354</td>\n",
       "      <td>67</td>\n",
       "      <td>17</td>\n",
       "      <td>164.380005</td>\n",
       "      <td>3</td>\n",
       "      <td>7716</td>\n",
       "      <td>2017</td>\n",
       "      <td>11</td>\n",
       "      <td>3</td>\n",
       "      <td>16</td>\n",
       "      <td>0</td>\n",
       "      <td>1</td>\n",
       "    </tr>\n",
       "    <tr>\n",
       "      <th>57549</th>\n",
       "      <td>1</td>\n",
       "      <td>5</td>\n",
       "      <td>4</td>\n",
       "      <td>22.680000</td>\n",
       "      <td>226.759995</td>\n",
       "      <td>17</td>\n",
       "      <td>12</td>\n",
       "      <td>66</td>\n",
       "      <td>1</td>\n",
       "      <td>7391</td>\n",
       "      <td>0</td>\n",
       "      <td>36</td>\n",
       "      <td>725.0</td>\n",
       "      <td>4</td>\n",
       "      <td>0</td>\n",
       "      <td>3</td>\n",
       "      <td>2959</td>\n",
       "      <td>152</td>\n",
       "      <td>7391</td>\n",
       "      <td>45494</td>\n",
       "      <td>365</td>\n",
       "      <td>13.20</td>\n",
       "      <td>0.06</td>\n",
       "      <td>113687</td>\n",
       "      <td>59.990002</td>\n",
       "      <td>0.10</td>\n",
       "      <td>4</td>\n",
       "      <td>239.960007</td>\n",
       "      <td>226.759995</td>\n",
       "      <td>22.680000</td>\n",
       "      <td>20</td>\n",
       "      <td>923</td>\n",
       "      <td>365</td>\n",
       "      <td>17</td>\n",
       "      <td>71</td>\n",
       "      <td>59.990002</td>\n",
       "      <td>3</td>\n",
       "      <td>8910</td>\n",
       "      <td>2016</td>\n",
       "      <td>10</td>\n",
       "      <td>2</td>\n",
       "      <td>2</td>\n",
       "      <td>0</td>\n",
       "      <td>1</td>\n",
       "    </tr>\n",
       "    <tr>\n",
       "      <th>127144</th>\n",
       "      <td>2</td>\n",
       "      <td>6</td>\n",
       "      <td>4</td>\n",
       "      <td>-3.020000</td>\n",
       "      <td>103.989998</td>\n",
       "      <td>18</td>\n",
       "      <td>34</td>\n",
       "      <td>66</td>\n",
       "      <td>1</td>\n",
       "      <td>2588</td>\n",
       "      <td>0</td>\n",
       "      <td>36</td>\n",
       "      <td>725.0</td>\n",
       "      <td>4</td>\n",
       "      <td>0</td>\n",
       "      <td>2</td>\n",
       "      <td>1825</td>\n",
       "      <td>116</td>\n",
       "      <td>2588</td>\n",
       "      <td>3495</td>\n",
       "      <td>403</td>\n",
       "      <td>26.00</td>\n",
       "      <td>0.20</td>\n",
       "      <td>8680</td>\n",
       "      <td>129.990005</td>\n",
       "      <td>-0.03</td>\n",
       "      <td>1</td>\n",
       "      <td>129.990005</td>\n",
       "      <td>103.989998</td>\n",
       "      <td>-3.020000</td>\n",
       "      <td>12</td>\n",
       "      <td>581</td>\n",
       "      <td>403</td>\n",
       "      <td>18</td>\n",
       "      <td>56</td>\n",
       "      <td>129.990005</td>\n",
       "      <td>3</td>\n",
       "      <td>9384</td>\n",
       "      <td>2015</td>\n",
       "      <td>2</td>\n",
       "      <td>5</td>\n",
       "      <td>0</td>\n",
       "      <td>0</td>\n",
       "      <td>1</td>\n",
       "    </tr>\n",
       "    <tr>\n",
       "      <th>160375</th>\n",
       "      <td>3</td>\n",
       "      <td>2</td>\n",
       "      <td>4</td>\n",
       "      <td>11.760000</td>\n",
       "      <td>37.560001</td>\n",
       "      <td>75</td>\n",
       "      <td>45</td>\n",
       "      <td>66</td>\n",
       "      <td>1</td>\n",
       "      <td>19769</td>\n",
       "      <td>0</td>\n",
       "      <td>36</td>\n",
       "      <td>725.0</td>\n",
       "      <td>9</td>\n",
       "      <td>2</td>\n",
       "      <td>3</td>\n",
       "      <td>3572</td>\n",
       "      <td>31</td>\n",
       "      <td>19769</td>\n",
       "      <td>76216</td>\n",
       "      <td>1362</td>\n",
       "      <td>2.19</td>\n",
       "      <td>0.06</td>\n",
       "      <td>179531</td>\n",
       "      <td>39.750000</td>\n",
       "      <td>0.31</td>\n",
       "      <td>1</td>\n",
       "      <td>39.750000</td>\n",
       "      <td>37.560001</td>\n",
       "      <td>11.760000</td>\n",
       "      <td>7</td>\n",
       "      <td>421</td>\n",
       "      <td>1362</td>\n",
       "      <td>75</td>\n",
       "      <td>25</td>\n",
       "      <td>39.750000</td>\n",
       "      <td>3</td>\n",
       "      <td>10054</td>\n",
       "      <td>2018</td>\n",
       "      <td>1</td>\n",
       "      <td>2</td>\n",
       "      <td>13</td>\n",
       "      <td>0</td>\n",
       "      <td>0</td>\n",
       "    </tr>\n",
       "    <tr>\n",
       "      <th>...</th>\n",
       "      <td>...</td>\n",
       "      <td>...</td>\n",
       "      <td>...</td>\n",
       "      <td>...</td>\n",
       "      <td>...</td>\n",
       "      <td>...</td>\n",
       "      <td>...</td>\n",
       "      <td>...</td>\n",
       "      <td>...</td>\n",
       "      <td>...</td>\n",
       "      <td>...</td>\n",
       "      <td>...</td>\n",
       "      <td>...</td>\n",
       "      <td>...</td>\n",
       "      <td>...</td>\n",
       "      <td>...</td>\n",
       "      <td>...</td>\n",
       "      <td>...</td>\n",
       "      <td>...</td>\n",
       "      <td>...</td>\n",
       "      <td>...</td>\n",
       "      <td>...</td>\n",
       "      <td>...</td>\n",
       "      <td>...</td>\n",
       "      <td>...</td>\n",
       "      <td>...</td>\n",
       "      <td>...</td>\n",
       "      <td>...</td>\n",
       "      <td>...</td>\n",
       "      <td>...</td>\n",
       "      <td>...</td>\n",
       "      <td>...</td>\n",
       "      <td>...</td>\n",
       "      <td>...</td>\n",
       "      <td>...</td>\n",
       "      <td>...</td>\n",
       "      <td>...</td>\n",
       "      <td>...</td>\n",
       "      <td>...</td>\n",
       "      <td>...</td>\n",
       "      <td>...</td>\n",
       "      <td>...</td>\n",
       "      <td>...</td>\n",
       "      <td>...</td>\n",
       "    </tr>\n",
       "    <tr>\n",
       "      <th>22603</th>\n",
       "      <td>1</td>\n",
       "      <td>5</td>\n",
       "      <td>4</td>\n",
       "      <td>34.849998</td>\n",
       "      <td>99.580002</td>\n",
       "      <td>17</td>\n",
       "      <td>12</td>\n",
       "      <td>66</td>\n",
       "      <td>1</td>\n",
       "      <td>4792</td>\n",
       "      <td>0</td>\n",
       "      <td>36</td>\n",
       "      <td>725.0</td>\n",
       "      <td>4</td>\n",
       "      <td>0</td>\n",
       "      <td>4</td>\n",
       "      <td>1380</td>\n",
       "      <td>48</td>\n",
       "      <td>4792</td>\n",
       "      <td>39959</td>\n",
       "      <td>365</td>\n",
       "      <td>20.40</td>\n",
       "      <td>0.17</td>\n",
       "      <td>99696</td>\n",
       "      <td>59.990002</td>\n",
       "      <td>0.35</td>\n",
       "      <td>2</td>\n",
       "      <td>119.980003</td>\n",
       "      <td>99.580002</td>\n",
       "      <td>34.849998</td>\n",
       "      <td>18</td>\n",
       "      <td>986</td>\n",
       "      <td>365</td>\n",
       "      <td>17</td>\n",
       "      <td>71</td>\n",
       "      <td>59.990002</td>\n",
       "      <td>3</td>\n",
       "      <td>3574</td>\n",
       "      <td>2016</td>\n",
       "      <td>8</td>\n",
       "      <td>5</td>\n",
       "      <td>7</td>\n",
       "      <td>0</td>\n",
       "      <td>1</td>\n",
       "    </tr>\n",
       "    <tr>\n",
       "      <th>152893</th>\n",
       "      <td>3</td>\n",
       "      <td>2</td>\n",
       "      <td>1</td>\n",
       "      <td>135.190002</td>\n",
       "      <td>399.980011</td>\n",
       "      <td>45</td>\n",
       "      <td>18</td>\n",
       "      <td>271</td>\n",
       "      <td>0</td>\n",
       "      <td>4055</td>\n",
       "      <td>2</td>\n",
       "      <td>31</td>\n",
       "      <td>11756.0</td>\n",
       "      <td>7</td>\n",
       "      <td>3</td>\n",
       "      <td>4</td>\n",
       "      <td>1876</td>\n",
       "      <td>48</td>\n",
       "      <td>4055</td>\n",
       "      <td>32908</td>\n",
       "      <td>1004</td>\n",
       "      <td>0.00</td>\n",
       "      <td>0.00</td>\n",
       "      <td>82309</td>\n",
       "      <td>399.980011</td>\n",
       "      <td>0.34</td>\n",
       "      <td>1</td>\n",
       "      <td>399.980011</td>\n",
       "      <td>399.980011</td>\n",
       "      <td>135.190002</td>\n",
       "      <td>21</td>\n",
       "      <td>188</td>\n",
       "      <td>1004</td>\n",
       "      <td>45</td>\n",
       "      <td>24</td>\n",
       "      <td>399.980011</td>\n",
       "      <td>0</td>\n",
       "      <td>7188</td>\n",
       "      <td>2016</td>\n",
       "      <td>4</td>\n",
       "      <td>0</td>\n",
       "      <td>8</td>\n",
       "      <td>0</td>\n",
       "      <td>1</td>\n",
       "    </tr>\n",
       "    <tr>\n",
       "      <th>172935</th>\n",
       "      <td>0</td>\n",
       "      <td>2</td>\n",
       "      <td>2</td>\n",
       "      <td>-39.320000</td>\n",
       "      <td>347.980011</td>\n",
       "      <td>45</td>\n",
       "      <td>18</td>\n",
       "      <td>66</td>\n",
       "      <td>1</td>\n",
       "      <td>148</td>\n",
       "      <td>0</td>\n",
       "      <td>36</td>\n",
       "      <td>725.0</td>\n",
       "      <td>7</td>\n",
       "      <td>3</td>\n",
       "      <td>1</td>\n",
       "      <td>614</td>\n",
       "      <td>2</td>\n",
       "      <td>148</td>\n",
       "      <td>15061</td>\n",
       "      <td>1004</td>\n",
       "      <td>52.00</td>\n",
       "      <td>0.13</td>\n",
       "      <td>37693</td>\n",
       "      <td>399.980011</td>\n",
       "      <td>-0.11</td>\n",
       "      <td>1</td>\n",
       "      <td>399.980011</td>\n",
       "      <td>347.980011</td>\n",
       "      <td>-39.320000</td>\n",
       "      <td>22</td>\n",
       "      <td>846</td>\n",
       "      <td>1004</td>\n",
       "      <td>45</td>\n",
       "      <td>24</td>\n",
       "      <td>399.980011</td>\n",
       "      <td>2</td>\n",
       "      <td>12636</td>\n",
       "      <td>2015</td>\n",
       "      <td>8</td>\n",
       "      <td>5</td>\n",
       "      <td>20</td>\n",
       "      <td>0</td>\n",
       "      <td>0</td>\n",
       "    </tr>\n",
       "    <tr>\n",
       "      <th>79244</th>\n",
       "      <td>1</td>\n",
       "      <td>2</td>\n",
       "      <td>1</td>\n",
       "      <td>40.000000</td>\n",
       "      <td>159.990005</td>\n",
       "      <td>48</td>\n",
       "      <td>46</td>\n",
       "      <td>66</td>\n",
       "      <td>1</td>\n",
       "      <td>8580</td>\n",
       "      <td>1</td>\n",
       "      <td>36</td>\n",
       "      <td>725.0</td>\n",
       "      <td>7</td>\n",
       "      <td>3</td>\n",
       "      <td>4</td>\n",
       "      <td>889</td>\n",
       "      <td>48</td>\n",
       "      <td>8580</td>\n",
       "      <td>35126</td>\n",
       "      <td>1073</td>\n",
       "      <td>40.00</td>\n",
       "      <td>0.20</td>\n",
       "      <td>87725</td>\n",
       "      <td>199.990005</td>\n",
       "      <td>0.25</td>\n",
       "      <td>1</td>\n",
       "      <td>199.990005</td>\n",
       "      <td>159.990005</td>\n",
       "      <td>40.000000</td>\n",
       "      <td>18</td>\n",
       "      <td>667</td>\n",
       "      <td>1073</td>\n",
       "      <td>48</td>\n",
       "      <td>70</td>\n",
       "      <td>199.990005</td>\n",
       "      <td>0</td>\n",
       "      <td>7085</td>\n",
       "      <td>2016</td>\n",
       "      <td>5</td>\n",
       "      <td>4</td>\n",
       "      <td>17</td>\n",
       "      <td>0</td>\n",
       "      <td>1</td>\n",
       "    </tr>\n",
       "    <tr>\n",
       "      <th>62015</th>\n",
       "      <td>1</td>\n",
       "      <td>2</td>\n",
       "      <td>4</td>\n",
       "      <td>50.959999</td>\n",
       "      <td>195.990005</td>\n",
       "      <td>48</td>\n",
       "      <td>46</td>\n",
       "      <td>261</td>\n",
       "      <td>0</td>\n",
       "      <td>6574</td>\n",
       "      <td>1</td>\n",
       "      <td>28</td>\n",
       "      <td>8701.0</td>\n",
       "      <td>7</td>\n",
       "      <td>3</td>\n",
       "      <td>2</td>\n",
       "      <td>599</td>\n",
       "      <td>65</td>\n",
       "      <td>6574</td>\n",
       "      <td>7991</td>\n",
       "      <td>1073</td>\n",
       "      <td>4.00</td>\n",
       "      <td>0.02</td>\n",
       "      <td>19979</td>\n",
       "      <td>199.990005</td>\n",
       "      <td>0.26</td>\n",
       "      <td>1</td>\n",
       "      <td>199.990005</td>\n",
       "      <td>195.990005</td>\n",
       "      <td>50.959999</td>\n",
       "      <td>1</td>\n",
       "      <td>777</td>\n",
       "      <td>1073</td>\n",
       "      <td>48</td>\n",
       "      <td>70</td>\n",
       "      <td>199.990005</td>\n",
       "      <td>3</td>\n",
       "      <td>9384</td>\n",
       "      <td>2015</td>\n",
       "      <td>4</td>\n",
       "      <td>0</td>\n",
       "      <td>15</td>\n",
       "      <td>0</td>\n",
       "      <td>0</td>\n",
       "    </tr>\n",
       "  </tbody>\n",
       "</table>\n",
       "<p>18052 rows × 44 columns</p>\n",
       "</div>"
      ],
      "text/plain": [
       "        Type  Days for shipping (real)  Days for shipment (scheduled)  \\\n",
       "101369     3                         2                              4   \n",
       "3026       2                         5                              4   \n",
       "57549      1                         5                              4   \n",
       "127144     2                         6                              4   \n",
       "160375     3                         2                              4   \n",
       "...      ...                       ...                            ...   \n",
       "22603      1                         5                              4   \n",
       "152893     3                         2                              1   \n",
       "172935     0                         2                              2   \n",
       "79244      1                         2                              1   \n",
       "62015      1                         2                              4   \n",
       "\n",
       "        Benefit per order  Sales per customer  Category Id  Category Name  \\\n",
       "101369          71.849998          197.919998           46             30   \n",
       "3026            57.529999          164.380005           67             16   \n",
       "57549           22.680000          226.759995           17             12   \n",
       "127144          -3.020000          103.989998           18             34   \n",
       "160375          11.760000           37.560001           75             45   \n",
       "...                   ...                 ...          ...            ...   \n",
       "22603           34.849998           99.580002           17             12   \n",
       "152893         135.190002          399.980011           45             18   \n",
       "172935         -39.320000          347.980011           45             18   \n",
       "79244           40.000000          159.990005           48             46   \n",
       "62015           50.959999          195.990005           48             46   \n",
       "\n",
       "        Customer City  Customer Country  Customer Id  Customer Segment  \\\n",
       "101369            529                 0         6862                 0   \n",
       "3026               66                 1        15052                 2   \n",
       "57549              66                 1         7391                 0   \n",
       "127144             66                 1         2588                 0   \n",
       "160375             66                 1        19769                 0   \n",
       "...               ...               ...          ...               ...   \n",
       "22603              66                 1         4792                 0   \n",
       "152893            271                 0         4055                 2   \n",
       "172935             66                 1          148                 0   \n",
       "79244              66                 1         8580                 1   \n",
       "62015             261                 0         6574                 1   \n",
       "\n",
       "        Customer State  Customer Zipcode  Department Id  Department Name  \\\n",
       "101369               5           95076.0              7                3   \n",
       "3026                36             725.0              9                2   \n",
       "57549               36             725.0              4                0   \n",
       "127144              36             725.0              4                0   \n",
       "160375              36             725.0              9                2   \n",
       "...                ...               ...            ...              ...   \n",
       "22603               36             725.0              4                0   \n",
       "152893              31           11756.0              7                3   \n",
       "172935              36             725.0              7                3   \n",
       "79244               36             725.0              7                3   \n",
       "62015               28            8701.0              7                3   \n",
       "\n",
       "        Market  Order City  Order Country  Order Customer Id  Order Id  \\\n",
       "101369       4         657             48               6862     33191   \n",
       "3026         1        1099              2              15052     71499   \n",
       "57549        3        2959            152               7391     45494   \n",
       "127144       2        1825            116               2588      3495   \n",
       "160375       3        3572             31              19769     76216   \n",
       "...        ...         ...            ...                ...       ...   \n",
       "22603        4        1380             48               4792     39959   \n",
       "152893       4        1876             48               4055     32908   \n",
       "172935       1         614              2                148     15061   \n",
       "79244        4         889             48               8580     35126   \n",
       "62015        2         599             65               6574      7991   \n",
       "\n",
       "        Order Item Cardprod Id  Order Item Discount  Order Item Discount Rate  \\\n",
       "101369                    1014                 2.00                      0.01   \n",
       "3026                      1354                 0.00                      0.00   \n",
       "57549                      365                13.20                      0.06   \n",
       "127144                     403                26.00                      0.20   \n",
       "160375                    1362                 2.19                      0.06   \n",
       "...                        ...                  ...                       ...   \n",
       "22603                      365                20.40                      0.17   \n",
       "152893                    1004                 0.00                      0.00   \n",
       "172935                    1004                52.00                      0.13   \n",
       "79244                     1073                40.00                      0.20   \n",
       "62015                     1073                 4.00                      0.02   \n",
       "\n",
       "        Order Item Id  Order Item Product Price  Order Item Profit Ratio  \\\n",
       "101369          82964                 49.980000                     0.36   \n",
       "3026           174814                164.380005                     0.35   \n",
       "57549          113687                 59.990002                     0.10   \n",
       "127144           8680                129.990005                    -0.03   \n",
       "160375         179531                 39.750000                     0.31   \n",
       "...               ...                       ...                      ...   \n",
       "22603           99696                 59.990002                     0.35   \n",
       "152893          82309                399.980011                     0.34   \n",
       "172935          37693                399.980011                    -0.11   \n",
       "79244           87725                199.990005                     0.25   \n",
       "62015           19979                199.990005                     0.26   \n",
       "\n",
       "        Order Item Quantity       Sales  Order Item Total  \\\n",
       "101369                    4  199.919998        197.919998   \n",
       "3026                      1  164.380005        164.380005   \n",
       "57549                     4  239.960007        226.759995   \n",
       "127144                    1  129.990005        103.989998   \n",
       "160375                    1   39.750000         37.560001   \n",
       "...                     ...         ...               ...   \n",
       "22603                     2  119.980003         99.580002   \n",
       "152893                    1  399.980011        399.980011   \n",
       "172935                    1  399.980011        347.980011   \n",
       "79244                     1  199.990005        159.990005   \n",
       "62015                     1  199.990005        195.990005   \n",
       "\n",
       "        Order Profit Per Order  Order Region  Order State  Product Card Id  \\\n",
       "101369               71.849998            14         1037             1014   \n",
       "3026                 57.529999            22           97             1354   \n",
       "57549                22.680000            20          923              365   \n",
       "127144               -3.020000            12          581              403   \n",
       "160375               11.760000             7          421             1362   \n",
       "...                        ...           ...          ...              ...   \n",
       "22603                34.849998            18          986              365   \n",
       "152893              135.190002            21          188             1004   \n",
       "172935              -39.320000            22          846             1004   \n",
       "79244                40.000000            18          667             1073   \n",
       "62015                50.959999             1          777             1073   \n",
       "\n",
       "        Product Category Id  Product Name  Product Price  Shipping Mode  \\\n",
       "101369                   46            67      49.980000              3   \n",
       "3026                     67            17     164.380005              3   \n",
       "57549                    17            71      59.990002              3   \n",
       "127144                   18            56     129.990005              3   \n",
       "160375                   75            25      39.750000              3   \n",
       "...                     ...           ...            ...            ...   \n",
       "22603                    17            71      59.990002              3   \n",
       "152893                   45            24     399.980011              0   \n",
       "172935                   45            24     399.980011              2   \n",
       "79244                    48            70     199.990005              0   \n",
       "62015                    48            70     199.990005              3   \n",
       "\n",
       "        Customer_Full_Name  order_yr  order_month  order_day  order_hour  \\\n",
       "101369                9418      2016            4          4          11   \n",
       "3026                  7716      2017           11          3          16   \n",
       "57549                 8910      2016           10          2           2   \n",
       "127144                9384      2015            2          5           0   \n",
       "160375               10054      2018            1          2          13   \n",
       "...                    ...       ...          ...        ...         ...   \n",
       "22603                 3574      2016            8          5           7   \n",
       "152893                7188      2016            4          0           8   \n",
       "172935               12636      2015            8          5          20   \n",
       "79244                 7085      2016            5          4          17   \n",
       "62015                 9384      2015            4          0          15   \n",
       "\n",
       "        fraud  late_delivery  \n",
       "101369      0              0  \n",
       "3026        0              1  \n",
       "57549       0              1  \n",
       "127144      0              1  \n",
       "160375      0              0  \n",
       "...       ...            ...  \n",
       "22603       0              1  \n",
       "152893      0              1  \n",
       "172935      0              0  \n",
       "79244       0              1  \n",
       "62015       0              0  \n",
       "\n",
       "[18052 rows x 44 columns]"
      ]
     },
     "execution_count": 22,
     "metadata": {},
     "output_type": "execute_result"
    }
   ],
   "source": [
    "## Selecting 10% of the dataset for validation\n",
    "\n",
    "fraction_of_rows = df_new.sample(frac=0.1, random_state = 1)\n",
    "fraction_of_rows"
   ]
  },
  {
   "cell_type": "code",
   "execution_count": null,
   "metadata": {},
   "outputs": [],
   "source": [
    "## Creating a list of index of the samples to be dropped from the main dataset\n",
    "index = fraction_of_rows.index.values.tolist()\n",
    "#index"
   ]
  },
  {
   "cell_type": "code",
   "execution_count": 24,
   "metadata": {
    "id": "plX3t9NVS3Aj"
   },
   "outputs": [],
   "source": [
    "## Dropping rows with the index numbers from train_df\n",
    "df_new.drop(index = index, inplace = True)"
   ]
  },
  {
   "cell_type": "code",
   "execution_count": 25,
   "metadata": {
    "colab": {
     "base_uri": "https://localhost:8080/"
    },
    "id": "WDOGw6lUS7KT",
    "outputId": "800f0b91-b502-42c5-d454-e90556cd762b"
   },
   "outputs": [
    {
     "data": {
      "text/plain": [
       "(162467, 44)"
      ]
     },
     "execution_count": 25,
     "metadata": {},
     "output_type": "execute_result"
    }
   ],
   "source": [
    "df_new.shape"
   ]
  },
  {
   "cell_type": "code",
   "execution_count": 26,
   "metadata": {
    "id": "A3jC6Vz-TMAa"
   },
   "outputs": [],
   "source": [
    "## Resetting index for the validation dataset\n",
    "fraction_of_rows.reset_index(drop = True, inplace=True)"
   ]
  },
  {
   "cell_type": "code",
   "execution_count": 27,
   "metadata": {
    "colab": {
     "base_uri": "https://localhost:8080/"
    },
    "id": "UE_zJJ8GTORP",
    "outputId": "520f08f1-9585-4a94-99c7-07c33e9cbc02"
   },
   "outputs": [
    {
     "data": {
      "text/plain": [
       "(18052, 44)"
      ]
     },
     "execution_count": 27,
     "metadata": {},
     "output_type": "execute_result"
    }
   ],
   "source": [
    "fraction_of_rows.shape"
   ]
  },
  {
   "cell_type": "code",
   "execution_count": 28,
   "metadata": {
    "id": "9v4sMYgVThWW"
   },
   "outputs": [],
   "source": [
    "## Creating X and y for seperating dependant and independent variables\n",
    "X = df_new.loc[:,df_new.columns != 'fraud']\n",
    "y = df_new['fraud']"
   ]
  },
  {
   "cell_type": "code",
   "execution_count": 31,
   "metadata": {},
   "outputs": [
    {
     "name": "stdout",
     "output_type": "stream",
     "text": [
      "Xshape: (162467, 43), y shape: (162467,)\n"
     ]
    }
   ],
   "source": [
    "print(f\"Xshape: {X.shape}, y shape: {y.shape}\")"
   ]
  },
  {
   "cell_type": "code",
   "execution_count": 29,
   "metadata": {},
   "outputs": [
    {
     "data": {
      "text/plain": [
       "pandas.core.frame.DataFrame"
      ]
     },
     "execution_count": 29,
     "metadata": {},
     "output_type": "execute_result"
    }
   ],
   "source": [
    "type(X)"
   ]
  },
  {
   "cell_type": "code",
   "execution_count": 30,
   "metadata": {},
   "outputs": [
    {
     "data": {
      "text/plain": [
       "pandas.core.series.Series"
      ]
     },
     "execution_count": 30,
     "metadata": {},
     "output_type": "execute_result"
    }
   ],
   "source": [
    "type(y)"
   ]
  },
  {
   "cell_type": "code",
   "execution_count": 79,
   "metadata": {
    "id": "bHUUl09cTrP5"
   },
   "outputs": [],
   "source": [
    "## Splitting the dataset into training and test data\n",
    "X_train, X_test, y_train, y_test = train_test_split(X, y, test_size = 0.30, random_state=42)"
   ]
  },
  {
   "cell_type": "code",
   "execution_count": 80,
   "metadata": {
    "id": "QGKAWZQyTuTP"
   },
   "outputs": [],
   "source": [
    "## Creating dataframe for X and y validation dataset\n",
    "X_valid = fraction_of_rows.loc[:,fraction_of_rows.columns != 'fraud']\n",
    "y_valid = fraction_of_rows['fraud']"
   ]
  },
  {
   "cell_type": "code",
   "execution_count": 85,
   "metadata": {
    "colab": {
     "base_uri": "https://localhost:8080/"
    },
    "id": "FoITrYANTz_D",
    "outputId": "157ff098-22ed-4a05-ff9b-1196e397f1b2"
   },
   "outputs": [
    {
     "name": "stdout",
     "output_type": "stream",
     "text": [
      "X_train shape: (113726, 43)\n",
      "X_test shape: (48741, 43)\n",
      "y_train shape: (113726,)\n",
      "y_test shape: (48741,)\n",
      "X_valid shape: (18052, 43)\n",
      "y_valid shape: (18052,)\n"
     ]
    }
   ],
   "source": [
    "print(\"X_train shape:\", X_train.shape)\n",
    "print(\"X_test shape:\", X_test.shape)\n",
    "print(\"y_train shape:\", y_train.shape)\n",
    "print(\"y_test shape:\", y_test.shape)\n",
    "print(\"X_valid shape:\", X_valid.shape)\n",
    "print(\"y_valid shape:\", y_valid.shape)"
   ]
  },
  {
   "cell_type": "code",
   "execution_count": 82,
   "metadata": {
    "colab": {
     "base_uri": "https://localhost:8080/"
    },
    "id": "cY0YPr3AT18L",
    "outputId": "7dbd8398-63a0-45ba-9852-8359a21637de"
   },
   "outputs": [
    {
     "data": {
      "text/plain": [
       "[0, 1]"
      ]
     },
     "execution_count": 82,
     "metadata": {},
     "output_type": "execute_result"
    }
   ],
   "source": [
    "# Defining the classes\n",
    "classes = sorted(y_train.unique())\n",
    "classes"
   ]
  },
  {
   "cell_type": "markdown",
   "metadata": {
    "id": "Xx5yUjtrUq9R"
   },
   "source": [
    "# **Standardizing the data**"
   ]
  },
  {
   "cell_type": "code",
   "execution_count": 83,
   "metadata": {
    "id": "hQSkojtPUpL0"
   },
   "outputs": [],
   "source": [
    "## Standardizing the X dataset\n",
    "\n",
    "ss = StandardScaler()\n",
    "X_train=ss.fit_transform(X_train)\n",
    "X_test=ss.transform(X_test)\n",
    "X_valid=ss.transform(X_valid)"
   ]
  },
  {
   "cell_type": "markdown",
   "metadata": {
    "id": "g3aei2EKUvUq"
   },
   "source": [
    "# **Creating MLPClassifier Model**"
   ]
  },
  {
   "cell_type": "markdown",
   "metadata": {
    "id": "VAFP2-WcVNZr"
   },
   "source": [
    "# **Creating a Custom Neural Network Model**"
   ]
  },
  {
   "cell_type": "code",
   "execution_count": null,
   "metadata": {
    "id": "vMtOQ_tJUymg"
   },
   "outputs": [],
   "source": [
    "clf = MLPClassifier(hidden_layer_sizes=(6), activation='logistic', solver='lbfgs',random_state=1)"
   ]
  },
  {
   "cell_type": "markdown",
   "metadata": {
    "id": "yV69ML0i4Lcx"
   },
   "source": [
    "**Model Architecture:**\n",
    "Input layer: 43 features\n",
    "3 hidden layers (64, 32, 16 neurons) with ReLU activation\n",
    "Dropout layers to prevent overfitting\n",
    "Output layer with sigmoid activation for binary classification\n",
    "\n",
    "\n",
    "**Training Configuration:**\n",
    "Adam optimizer with learning rate 0.001\n",
    "Binary crossentropy loss\n",
    "Metrics: accuracy and AUC\n",
    "Class weights to handle imbalanced data\n",
    "Batch size of 256\n",
    "50 epochs\n",
    "\n",
    "\n",
    "**Evaluation:**\n",
    "Training history visualization (loss, accuracy, AUC)\n",
    "Classification report with precision, recall, F1-score\n",
    "Confusion matrix visualization"
   ]
  },
  {
   "cell_type": "code",
   "execution_count": null,
   "metadata": {
    "colab": {
     "base_uri": "https://localhost:8080/",
     "height": 97
    },
    "id": "AiQin4JTU0tW",
    "outputId": "70fdd067-a191-4fec-d018-821d9dd079de"
   },
   "outputs": [
    {
     "data": {
      "text/html": [
       "<style>#sk-container-id-1 {\n",
       "  /* Definition of color scheme common for light and dark mode */\n",
       "  --sklearn-color-text: black;\n",
       "  --sklearn-color-line: gray;\n",
       "  /* Definition of color scheme for unfitted estimators */\n",
       "  --sklearn-color-unfitted-level-0: #fff5e6;\n",
       "  --sklearn-color-unfitted-level-1: #f6e4d2;\n",
       "  --sklearn-color-unfitted-level-2: #ffe0b3;\n",
       "  --sklearn-color-unfitted-level-3: chocolate;\n",
       "  /* Definition of color scheme for fitted estimators */\n",
       "  --sklearn-color-fitted-level-0: #f0f8ff;\n",
       "  --sklearn-color-fitted-level-1: #d4ebff;\n",
       "  --sklearn-color-fitted-level-2: #b3dbfd;\n",
       "  --sklearn-color-fitted-level-3: cornflowerblue;\n",
       "\n",
       "  /* Specific color for light theme */\n",
       "  --sklearn-color-text-on-default-background: var(--sg-text-color, var(--theme-code-foreground, var(--jp-content-font-color1, black)));\n",
       "  --sklearn-color-background: var(--sg-background-color, var(--theme-background, var(--jp-layout-color0, white)));\n",
       "  --sklearn-color-border-box: var(--sg-text-color, var(--theme-code-foreground, var(--jp-content-font-color1, black)));\n",
       "  --sklearn-color-icon: #696969;\n",
       "\n",
       "  @media (prefers-color-scheme: dark) {\n",
       "    /* Redefinition of color scheme for dark theme */\n",
       "    --sklearn-color-text-on-default-background: var(--sg-text-color, var(--theme-code-foreground, var(--jp-content-font-color1, white)));\n",
       "    --sklearn-color-background: var(--sg-background-color, var(--theme-background, var(--jp-layout-color0, #111)));\n",
       "    --sklearn-color-border-box: var(--sg-text-color, var(--theme-code-foreground, var(--jp-content-font-color1, white)));\n",
       "    --sklearn-color-icon: #878787;\n",
       "  }\n",
       "}\n",
       "\n",
       "#sk-container-id-1 {\n",
       "  color: var(--sklearn-color-text);\n",
       "}\n",
       "\n",
       "#sk-container-id-1 pre {\n",
       "  padding: 0;\n",
       "}\n",
       "\n",
       "#sk-container-id-1 input.sk-hidden--visually {\n",
       "  border: 0;\n",
       "  clip: rect(1px 1px 1px 1px);\n",
       "  clip: rect(1px, 1px, 1px, 1px);\n",
       "  height: 1px;\n",
       "  margin: -1px;\n",
       "  overflow: hidden;\n",
       "  padding: 0;\n",
       "  position: absolute;\n",
       "  width: 1px;\n",
       "}\n",
       "\n",
       "#sk-container-id-1 div.sk-dashed-wrapped {\n",
       "  border: 1px dashed var(--sklearn-color-line);\n",
       "  margin: 0 0.4em 0.5em 0.4em;\n",
       "  box-sizing: border-box;\n",
       "  padding-bottom: 0.4em;\n",
       "  background-color: var(--sklearn-color-background);\n",
       "}\n",
       "\n",
       "#sk-container-id-1 div.sk-container {\n",
       "  /* jupyter's `normalize.less` sets `[hidden] { display: none; }`\n",
       "     but bootstrap.min.css set `[hidden] { display: none !important; }`\n",
       "     so we also need the `!important` here to be able to override the\n",
       "     default hidden behavior on the sphinx rendered scikit-learn.org.\n",
       "     See: https://github.com/scikit-learn/scikit-learn/issues/21755 */\n",
       "  display: inline-block !important;\n",
       "  position: relative;\n",
       "}\n",
       "\n",
       "#sk-container-id-1 div.sk-text-repr-fallback {\n",
       "  display: none;\n",
       "}\n",
       "\n",
       "div.sk-parallel-item,\n",
       "div.sk-serial,\n",
       "div.sk-item {\n",
       "  /* draw centered vertical line to link estimators */\n",
       "  background-image: linear-gradient(var(--sklearn-color-text-on-default-background), var(--sklearn-color-text-on-default-background));\n",
       "  background-size: 2px 100%;\n",
       "  background-repeat: no-repeat;\n",
       "  background-position: center center;\n",
       "}\n",
       "\n",
       "/* Parallel-specific style estimator block */\n",
       "\n",
       "#sk-container-id-1 div.sk-parallel-item::after {\n",
       "  content: \"\";\n",
       "  width: 100%;\n",
       "  border-bottom: 2px solid var(--sklearn-color-text-on-default-background);\n",
       "  flex-grow: 1;\n",
       "}\n",
       "\n",
       "#sk-container-id-1 div.sk-parallel {\n",
       "  display: flex;\n",
       "  align-items: stretch;\n",
       "  justify-content: center;\n",
       "  background-color: var(--sklearn-color-background);\n",
       "  position: relative;\n",
       "}\n",
       "\n",
       "#sk-container-id-1 div.sk-parallel-item {\n",
       "  display: flex;\n",
       "  flex-direction: column;\n",
       "}\n",
       "\n",
       "#sk-container-id-1 div.sk-parallel-item:first-child::after {\n",
       "  align-self: flex-end;\n",
       "  width: 50%;\n",
       "}\n",
       "\n",
       "#sk-container-id-1 div.sk-parallel-item:last-child::after {\n",
       "  align-self: flex-start;\n",
       "  width: 50%;\n",
       "}\n",
       "\n",
       "#sk-container-id-1 div.sk-parallel-item:only-child::after {\n",
       "  width: 0;\n",
       "}\n",
       "\n",
       "/* Serial-specific style estimator block */\n",
       "\n",
       "#sk-container-id-1 div.sk-serial {\n",
       "  display: flex;\n",
       "  flex-direction: column;\n",
       "  align-items: center;\n",
       "  background-color: var(--sklearn-color-background);\n",
       "  padding-right: 1em;\n",
       "  padding-left: 1em;\n",
       "}\n",
       "\n",
       "\n",
       "/* Toggleable style: style used for estimator/Pipeline/ColumnTransformer box that is\n",
       "clickable and can be expanded/collapsed.\n",
       "- Pipeline and ColumnTransformer use this feature and define the default style\n",
       "- Estimators will overwrite some part of the style using the `sk-estimator` class\n",
       "*/\n",
       "\n",
       "/* Pipeline and ColumnTransformer style (default) */\n",
       "\n",
       "#sk-container-id-1 div.sk-toggleable {\n",
       "  /* Default theme specific background. It is overwritten whether we have a\n",
       "  specific estimator or a Pipeline/ColumnTransformer */\n",
       "  background-color: var(--sklearn-color-background);\n",
       "}\n",
       "\n",
       "/* Toggleable label */\n",
       "#sk-container-id-1 label.sk-toggleable__label {\n",
       "  cursor: pointer;\n",
       "  display: block;\n",
       "  width: 100%;\n",
       "  margin-bottom: 0;\n",
       "  padding: 0.5em;\n",
       "  box-sizing: border-box;\n",
       "  text-align: center;\n",
       "}\n",
       "\n",
       "#sk-container-id-1 label.sk-toggleable__label-arrow:before {\n",
       "  /* Arrow on the left of the label */\n",
       "  content: \"▸\";\n",
       "  float: left;\n",
       "  margin-right: 0.25em;\n",
       "  color: var(--sklearn-color-icon);\n",
       "}\n",
       "\n",
       "#sk-container-id-1 label.sk-toggleable__label-arrow:hover:before {\n",
       "  color: var(--sklearn-color-text);\n",
       "}\n",
       "\n",
       "/* Toggleable content - dropdown */\n",
       "\n",
       "#sk-container-id-1 div.sk-toggleable__content {\n",
       "  max-height: 0;\n",
       "  max-width: 0;\n",
       "  overflow: hidden;\n",
       "  text-align: left;\n",
       "  /* unfitted */\n",
       "  background-color: var(--sklearn-color-unfitted-level-0);\n",
       "}\n",
       "\n",
       "#sk-container-id-1 div.sk-toggleable__content.fitted {\n",
       "  /* fitted */\n",
       "  background-color: var(--sklearn-color-fitted-level-0);\n",
       "}\n",
       "\n",
       "#sk-container-id-1 div.sk-toggleable__content pre {\n",
       "  margin: 0.2em;\n",
       "  border-radius: 0.25em;\n",
       "  color: var(--sklearn-color-text);\n",
       "  /* unfitted */\n",
       "  background-color: var(--sklearn-color-unfitted-level-0);\n",
       "}\n",
       "\n",
       "#sk-container-id-1 div.sk-toggleable__content.fitted pre {\n",
       "  /* unfitted */\n",
       "  background-color: var(--sklearn-color-fitted-level-0);\n",
       "}\n",
       "\n",
       "#sk-container-id-1 input.sk-toggleable__control:checked~div.sk-toggleable__content {\n",
       "  /* Expand drop-down */\n",
       "  max-height: 200px;\n",
       "  max-width: 100%;\n",
       "  overflow: auto;\n",
       "}\n",
       "\n",
       "#sk-container-id-1 input.sk-toggleable__control:checked~label.sk-toggleable__label-arrow:before {\n",
       "  content: \"▾\";\n",
       "}\n",
       "\n",
       "/* Pipeline/ColumnTransformer-specific style */\n",
       "\n",
       "#sk-container-id-1 div.sk-label input.sk-toggleable__control:checked~label.sk-toggleable__label {\n",
       "  color: var(--sklearn-color-text);\n",
       "  background-color: var(--sklearn-color-unfitted-level-2);\n",
       "}\n",
       "\n",
       "#sk-container-id-1 div.sk-label.fitted input.sk-toggleable__control:checked~label.sk-toggleable__label {\n",
       "  background-color: var(--sklearn-color-fitted-level-2);\n",
       "}\n",
       "\n",
       "/* Estimator-specific style */\n",
       "\n",
       "/* Colorize estimator box */\n",
       "#sk-container-id-1 div.sk-estimator input.sk-toggleable__control:checked~label.sk-toggleable__label {\n",
       "  /* unfitted */\n",
       "  background-color: var(--sklearn-color-unfitted-level-2);\n",
       "}\n",
       "\n",
       "#sk-container-id-1 div.sk-estimator.fitted input.sk-toggleable__control:checked~label.sk-toggleable__label {\n",
       "  /* fitted */\n",
       "  background-color: var(--sklearn-color-fitted-level-2);\n",
       "}\n",
       "\n",
       "#sk-container-id-1 div.sk-label label.sk-toggleable__label,\n",
       "#sk-container-id-1 div.sk-label label {\n",
       "  /* The background is the default theme color */\n",
       "  color: var(--sklearn-color-text-on-default-background);\n",
       "}\n",
       "\n",
       "/* On hover, darken the color of the background */\n",
       "#sk-container-id-1 div.sk-label:hover label.sk-toggleable__label {\n",
       "  color: var(--sklearn-color-text);\n",
       "  background-color: var(--sklearn-color-unfitted-level-2);\n",
       "}\n",
       "\n",
       "/* Label box, darken color on hover, fitted */\n",
       "#sk-container-id-1 div.sk-label.fitted:hover label.sk-toggleable__label.fitted {\n",
       "  color: var(--sklearn-color-text);\n",
       "  background-color: var(--sklearn-color-fitted-level-2);\n",
       "}\n",
       "\n",
       "/* Estimator label */\n",
       "\n",
       "#sk-container-id-1 div.sk-label label {\n",
       "  font-family: monospace;\n",
       "  font-weight: bold;\n",
       "  display: inline-block;\n",
       "  line-height: 1.2em;\n",
       "}\n",
       "\n",
       "#sk-container-id-1 div.sk-label-container {\n",
       "  text-align: center;\n",
       "}\n",
       "\n",
       "/* Estimator-specific */\n",
       "#sk-container-id-1 div.sk-estimator {\n",
       "  font-family: monospace;\n",
       "  border: 1px dotted var(--sklearn-color-border-box);\n",
       "  border-radius: 0.25em;\n",
       "  box-sizing: border-box;\n",
       "  margin-bottom: 0.5em;\n",
       "  /* unfitted */\n",
       "  background-color: var(--sklearn-color-unfitted-level-0);\n",
       "}\n",
       "\n",
       "#sk-container-id-1 div.sk-estimator.fitted {\n",
       "  /* fitted */\n",
       "  background-color: var(--sklearn-color-fitted-level-0);\n",
       "}\n",
       "\n",
       "/* on hover */\n",
       "#sk-container-id-1 div.sk-estimator:hover {\n",
       "  /* unfitted */\n",
       "  background-color: var(--sklearn-color-unfitted-level-2);\n",
       "}\n",
       "\n",
       "#sk-container-id-1 div.sk-estimator.fitted:hover {\n",
       "  /* fitted */\n",
       "  background-color: var(--sklearn-color-fitted-level-2);\n",
       "}\n",
       "\n",
       "/* Specification for estimator info (e.g. \"i\" and \"?\") */\n",
       "\n",
       "/* Common style for \"i\" and \"?\" */\n",
       "\n",
       ".sk-estimator-doc-link,\n",
       "a:link.sk-estimator-doc-link,\n",
       "a:visited.sk-estimator-doc-link {\n",
       "  float: right;\n",
       "  font-size: smaller;\n",
       "  line-height: 1em;\n",
       "  font-family: monospace;\n",
       "  background-color: var(--sklearn-color-background);\n",
       "  border-radius: 1em;\n",
       "  height: 1em;\n",
       "  width: 1em;\n",
       "  text-decoration: none !important;\n",
       "  margin-left: 1ex;\n",
       "  /* unfitted */\n",
       "  border: var(--sklearn-color-unfitted-level-1) 1pt solid;\n",
       "  color: var(--sklearn-color-unfitted-level-1);\n",
       "}\n",
       "\n",
       ".sk-estimator-doc-link.fitted,\n",
       "a:link.sk-estimator-doc-link.fitted,\n",
       "a:visited.sk-estimator-doc-link.fitted {\n",
       "  /* fitted */\n",
       "  border: var(--sklearn-color-fitted-level-1) 1pt solid;\n",
       "  color: var(--sklearn-color-fitted-level-1);\n",
       "}\n",
       "\n",
       "/* On hover */\n",
       "div.sk-estimator:hover .sk-estimator-doc-link:hover,\n",
       ".sk-estimator-doc-link:hover,\n",
       "div.sk-label-container:hover .sk-estimator-doc-link:hover,\n",
       ".sk-estimator-doc-link:hover {\n",
       "  /* unfitted */\n",
       "  background-color: var(--sklearn-color-unfitted-level-3);\n",
       "  color: var(--sklearn-color-background);\n",
       "  text-decoration: none;\n",
       "}\n",
       "\n",
       "div.sk-estimator.fitted:hover .sk-estimator-doc-link.fitted:hover,\n",
       ".sk-estimator-doc-link.fitted:hover,\n",
       "div.sk-label-container:hover .sk-estimator-doc-link.fitted:hover,\n",
       ".sk-estimator-doc-link.fitted:hover {\n",
       "  /* fitted */\n",
       "  background-color: var(--sklearn-color-fitted-level-3);\n",
       "  color: var(--sklearn-color-background);\n",
       "  text-decoration: none;\n",
       "}\n",
       "\n",
       "/* Span, style for the box shown on hovering the info icon */\n",
       ".sk-estimator-doc-link span {\n",
       "  display: none;\n",
       "  z-index: 9999;\n",
       "  position: relative;\n",
       "  font-weight: normal;\n",
       "  right: .2ex;\n",
       "  padding: .5ex;\n",
       "  margin: .5ex;\n",
       "  width: min-content;\n",
       "  min-width: 20ex;\n",
       "  max-width: 50ex;\n",
       "  color: var(--sklearn-color-text);\n",
       "  box-shadow: 2pt 2pt 4pt #999;\n",
       "  /* unfitted */\n",
       "  background: var(--sklearn-color-unfitted-level-0);\n",
       "  border: .5pt solid var(--sklearn-color-unfitted-level-3);\n",
       "}\n",
       "\n",
       ".sk-estimator-doc-link.fitted span {\n",
       "  /* fitted */\n",
       "  background: var(--sklearn-color-fitted-level-0);\n",
       "  border: var(--sklearn-color-fitted-level-3);\n",
       "}\n",
       "\n",
       ".sk-estimator-doc-link:hover span {\n",
       "  display: block;\n",
       "}\n",
       "\n",
       "/* \"?\"-specific style due to the `<a>` HTML tag */\n",
       "\n",
       "#sk-container-id-1 a.estimator_doc_link {\n",
       "  float: right;\n",
       "  font-size: 1rem;\n",
       "  line-height: 1em;\n",
       "  font-family: monospace;\n",
       "  background-color: var(--sklearn-color-background);\n",
       "  border-radius: 1rem;\n",
       "  height: 1rem;\n",
       "  width: 1rem;\n",
       "  text-decoration: none;\n",
       "  /* unfitted */\n",
       "  color: var(--sklearn-color-unfitted-level-1);\n",
       "  border: var(--sklearn-color-unfitted-level-1) 1pt solid;\n",
       "}\n",
       "\n",
       "#sk-container-id-1 a.estimator_doc_link.fitted {\n",
       "  /* fitted */\n",
       "  border: var(--sklearn-color-fitted-level-1) 1pt solid;\n",
       "  color: var(--sklearn-color-fitted-level-1);\n",
       "}\n",
       "\n",
       "/* On hover */\n",
       "#sk-container-id-1 a.estimator_doc_link:hover {\n",
       "  /* unfitted */\n",
       "  background-color: var(--sklearn-color-unfitted-level-3);\n",
       "  color: var(--sklearn-color-background);\n",
       "  text-decoration: none;\n",
       "}\n",
       "\n",
       "#sk-container-id-1 a.estimator_doc_link.fitted:hover {\n",
       "  /* fitted */\n",
       "  background-color: var(--sklearn-color-fitted-level-3);\n",
       "}\n",
       "</style><div id=\"sk-container-id-1\" class=\"sk-top-container\"><div class=\"sk-text-repr-fallback\"><pre>MLPClassifier(activation=&#x27;logistic&#x27;, hidden_layer_sizes=6, random_state=1,\n",
       "              solver=&#x27;lbfgs&#x27;)</pre><b>In a Jupyter environment, please rerun this cell to show the HTML representation or trust the notebook. <br />On GitHub, the HTML representation is unable to render, please try loading this page with nbviewer.org.</b></div><div class=\"sk-container\" hidden><div class=\"sk-item\"><div class=\"sk-estimator fitted sk-toggleable\"><input class=\"sk-toggleable__control sk-hidden--visually\" id=\"sk-estimator-id-1\" type=\"checkbox\" checked><label for=\"sk-estimator-id-1\" class=\"sk-toggleable__label fitted sk-toggleable__label-arrow fitted\">&nbsp;&nbsp;MLPClassifier<a class=\"sk-estimator-doc-link fitted\" rel=\"noreferrer\" target=\"_blank\" href=\"https://scikit-learn.org/1.5/modules/generated/sklearn.neural_network.MLPClassifier.html\">?<span>Documentation for MLPClassifier</span></a><span class=\"sk-estimator-doc-link fitted\">i<span>Fitted</span></span></label><div class=\"sk-toggleable__content fitted\"><pre>MLPClassifier(activation=&#x27;logistic&#x27;, hidden_layer_sizes=6, random_state=1,\n",
       "              solver=&#x27;lbfgs&#x27;)</pre></div> </div></div></div></div>"
      ],
      "text/plain": [
       "MLPClassifier(activation='logistic', hidden_layer_sizes=6, random_state=1,\n",
       "              solver='lbfgs')"
      ]
     },
     "execution_count": 134,
     "metadata": {},
     "output_type": "execute_result"
    }
   ],
   "source": [
    "## Fitting the data using MLPClassifier\n",
    "clf.fit(X_train, y_train)"
   ]
  },
  {
   "cell_type": "markdown",
   "metadata": {
    "id": "k-SI-4P2O9Vl"
   },
   "source": [
    "**Why Use ReLU?**\n",
    "ReLU (Rectified Linear Unit) introduces non-linearity, allowing the neural network to learn complex patterns and relationships in data.\n",
    "Without an activation function (e.g., ReLU), the network behaves like a linear model regardless of the number of layers, limiting its ability to model non-linear relationships.\n",
    "\n",
    "For a fraud detection classification model, ReLU or another activation function needed because:\n",
    "\n",
    "**Model Complex Patterns:** Fraud detection often involves complex, non-linear relationships in the data (e.g., patterns of fraudulent behavior that aren't simple linear). ReLU helps capture these patterns.\n",
    "\n",
    "Improve Accuracy: **bold text** Without activation functions like ReLU, your model would be limited to linear decision boundaries, which may not be sufficient for detecting fraud, reducing its effectiveness."
   ]
  },
  {
   "cell_type": "code",
   "execution_count": null,
   "metadata": {
    "colab": {
     "base_uri": "https://localhost:8080/"
    },
    "id": "w7fq_DmdU-XX",
    "outputId": "17368184-a389-41bf-b045-8a1e650a5e18"
   },
   "outputs": [
    {
     "data": {
      "text/plain": [
       "array([0, 0, 0, ..., 0, 0, 0])"
      ]
     },
     "execution_count": 135,
     "metadata": {},
     "output_type": "execute_result"
    }
   ],
   "source": [
    "## Predicting the trained model\n",
    "clf.predict(X_test)"
   ]
  },
  {
   "cell_type": "markdown",
   "metadata": {
    "id": "emEZUwNQUr9H"
   },
   "source": [
    "Input: 43 features → EXPANSION → 64 neurons.\n",
    "It's like having 43 inputs but creating 64 different combinations of them to better understand the patterns in your data."
   ]
  },
  {
   "cell_type": "code",
   "execution_count": null,
   "metadata": {
    "colab": {
     "base_uri": "https://localhost:8080/"
    },
    "id": "rhVko2PSVGNE",
    "outputId": "468fd271-d622-4046-bcd9-2babb3553b1e"
   },
   "outputs": [
    {
     "name": "stdout",
     "output_type": "stream",
     "text": [
      "Confusion Matrix (Accuracy 0.9789)\n",
      "\n",
      "       Prediction\n",
      "Actual     0     1\n",
      "     0 47273   337\n",
      "     1   692   439\n"
     ]
    }
   ],
   "source": [
    "## Creating a Classification matrix for MLPClassifier\n",
    "classificationSummary(y_test, clf.predict(X_test), class_names=classes)"
   ]
  },
  {
   "cell_type": "code",
   "execution_count": 89,
   "metadata": {
    "id": "wmB2moMglzMG"
   },
   "outputs": [],
   "source": [
    "import tensorflow as tf\n",
    "from tensorflow import keras\n",
    "from sklearn.metrics import classification_report, confusion_matrix"
   ]
  },
  {
   "cell_type": "code",
   "execution_count": 90,
   "metadata": {
    "id": "5U9OVlM_l879"
   },
   "outputs": [],
   "source": [
    "# Define the model\n",
    "def create_model():\n",
    "    model = keras.Sequential([\n",
    "        # Input layer\n",
    "        keras.layers.Dense(64, activation='relu', input_shape=(43,)),\n",
    "        keras.layers.Dropout(0.3),  # Dropout layer to prevent overfitting\n",
    "\n",
    "        # Hidden layers\n",
    "        keras.layers.Dense(32, activation='relu'),\n",
    "        keras.layers.Dropout(0.2),\n",
    "\n",
    "        keras.layers.Dense(16, activation='relu'),\n",
    "        keras.layers.Dropout(0.2),\n",
    "\n",
    "        # Output layer - binary classification\n",
    "        keras.layers.Dense(1, activation='sigmoid')\n",
    "    ])\n",
    "\n",
    "    return model"
   ]
  },
  {
   "cell_type": "markdown",
   "metadata": {
    "id": "IODCkEqZVVZA"
   },
   "source": [
    "**Optimizer: Adam with learning rate 0.001**\n",
    "\n",
    "- Adjusts weights to minimize loss\n",
    "- Learning rate controls step size of adjustments"
   ]
  },
  {
   "cell_type": "markdown",
   "metadata": {
    "id": "7Y_zPc0OVJvI"
   },
   "source": [
    "**Model Architecture & Parameters:**\n",
    "\n",
    "Input layer (dense): 43→64 neurons\n",
    "Params = 43 × 64 + 64 = 2,816 (weights + biases)\n",
    "\n",
    "First hidden layer: 64→32 neurons\n",
    "Params = 64 × 32 + 32 = 2,080\n",
    "\n",
    "Second hidden layer: 32→16 neurons\n",
    "Params = 32 × 16 + 16 = 528\n",
    "\n",
    "Output layer: 16→1 neuron\n",
    "Params = 16 × 1 + 1 = 17"
   ]
  },
  {
   "cell_type": "code",
   "execution_count": 110,
   "metadata": {
    "colab": {
     "base_uri": "https://localhost:8080/",
     "height": 369
    },
    "id": "5fzQ9l5V2-0o",
    "outputId": "e700b9eb-c26f-4012-b577-cf31d22df0e3"
   },
   "outputs": [
    {
     "data": {
      "text/html": [
       "<pre style=\"white-space:pre;overflow-x:auto;line-height:normal;font-family:Menlo,'DejaVu Sans Mono',consolas,'Courier New',monospace\"><span style=\"font-weight: bold\">Model: \"sequential\"</span>\n",
       "</pre>\n"
      ],
      "text/plain": [
       "\u001b[1mModel: \"sequential\"\u001b[0m\n"
      ]
     },
     "metadata": {},
     "output_type": "display_data"
    },
    {
     "data": {
      "text/html": [
       "<pre style=\"white-space:pre;overflow-x:auto;line-height:normal;font-family:Menlo,'DejaVu Sans Mono',consolas,'Courier New',monospace\">┏━━━━━━━━━━━━━━━━━━━━━━━━━━━━━━━━━━━━━━┳━━━━━━━━━━━━━━━━━━━━━━━━━━━━━┳━━━━━━━━━━━━━━━━━┓\n",
       "┃<span style=\"font-weight: bold\"> Layer (type)                         </span>┃<span style=\"font-weight: bold\"> Output Shape                </span>┃<span style=\"font-weight: bold\">         Param # </span>┃\n",
       "┡━━━━━━━━━━━━━━━━━━━━━━━━━━━━━━━━━━━━━━╇━━━━━━━━━━━━━━━━━━━━━━━━━━━━━╇━━━━━━━━━━━━━━━━━┩\n",
       "│ dense (<span style=\"color: #0087ff; text-decoration-color: #0087ff\">Dense</span>)                        │ (<span style=\"color: #00d7ff; text-decoration-color: #00d7ff\">None</span>, <span style=\"color: #00af00; text-decoration-color: #00af00\">64</span>)                  │           <span style=\"color: #00af00; text-decoration-color: #00af00\">2,816</span> │\n",
       "├──────────────────────────────────────┼─────────────────────────────┼─────────────────┤\n",
       "│ dropout (<span style=\"color: #0087ff; text-decoration-color: #0087ff\">Dropout</span>)                    │ (<span style=\"color: #00d7ff; text-decoration-color: #00d7ff\">None</span>, <span style=\"color: #00af00; text-decoration-color: #00af00\">64</span>)                  │               <span style=\"color: #00af00; text-decoration-color: #00af00\">0</span> │\n",
       "├──────────────────────────────────────┼─────────────────────────────┼─────────────────┤\n",
       "│ dense_1 (<span style=\"color: #0087ff; text-decoration-color: #0087ff\">Dense</span>)                      │ (<span style=\"color: #00d7ff; text-decoration-color: #00d7ff\">None</span>, <span style=\"color: #00af00; text-decoration-color: #00af00\">32</span>)                  │           <span style=\"color: #00af00; text-decoration-color: #00af00\">2,080</span> │\n",
       "├──────────────────────────────────────┼─────────────────────────────┼─────────────────┤\n",
       "│ dropout_1 (<span style=\"color: #0087ff; text-decoration-color: #0087ff\">Dropout</span>)                  │ (<span style=\"color: #00d7ff; text-decoration-color: #00d7ff\">None</span>, <span style=\"color: #00af00; text-decoration-color: #00af00\">32</span>)                  │               <span style=\"color: #00af00; text-decoration-color: #00af00\">0</span> │\n",
       "├──────────────────────────────────────┼─────────────────────────────┼─────────────────┤\n",
       "│ dense_2 (<span style=\"color: #0087ff; text-decoration-color: #0087ff\">Dense</span>)                      │ (<span style=\"color: #00d7ff; text-decoration-color: #00d7ff\">None</span>, <span style=\"color: #00af00; text-decoration-color: #00af00\">16</span>)                  │             <span style=\"color: #00af00; text-decoration-color: #00af00\">528</span> │\n",
       "├──────────────────────────────────────┼─────────────────────────────┼─────────────────┤\n",
       "│ dropout_2 (<span style=\"color: #0087ff; text-decoration-color: #0087ff\">Dropout</span>)                  │ (<span style=\"color: #00d7ff; text-decoration-color: #00d7ff\">None</span>, <span style=\"color: #00af00; text-decoration-color: #00af00\">16</span>)                  │               <span style=\"color: #00af00; text-decoration-color: #00af00\">0</span> │\n",
       "├──────────────────────────────────────┼─────────────────────────────┼─────────────────┤\n",
       "│ dense_3 (<span style=\"color: #0087ff; text-decoration-color: #0087ff\">Dense</span>)                      │ (<span style=\"color: #00d7ff; text-decoration-color: #00d7ff\">None</span>, <span style=\"color: #00af00; text-decoration-color: #00af00\">1</span>)                   │              <span style=\"color: #00af00; text-decoration-color: #00af00\">17</span> │\n",
       "└──────────────────────────────────────┴─────────────────────────────┴─────────────────┘\n",
       "</pre>\n"
      ],
      "text/plain": [
       "┏━━━━━━━━━━━━━━━━━━━━━━━━━━━━━━━━━━━━━━┳━━━━━━━━━━━━━━━━━━━━━━━━━━━━━┳━━━━━━━━━━━━━━━━━┓\n",
       "┃\u001b[1m \u001b[0m\u001b[1mLayer (type)                        \u001b[0m\u001b[1m \u001b[0m┃\u001b[1m \u001b[0m\u001b[1mOutput Shape               \u001b[0m\u001b[1m \u001b[0m┃\u001b[1m \u001b[0m\u001b[1m        Param #\u001b[0m\u001b[1m \u001b[0m┃\n",
       "┡━━━━━━━━━━━━━━━━━━━━━━━━━━━━━━━━━━━━━━╇━━━━━━━━━━━━━━━━━━━━━━━━━━━━━╇━━━━━━━━━━━━━━━━━┩\n",
       "│ dense (\u001b[38;5;33mDense\u001b[0m)                        │ (\u001b[38;5;45mNone\u001b[0m, \u001b[38;5;34m64\u001b[0m)                  │           \u001b[38;5;34m2,816\u001b[0m │\n",
       "├──────────────────────────────────────┼─────────────────────────────┼─────────────────┤\n",
       "│ dropout (\u001b[38;5;33mDropout\u001b[0m)                    │ (\u001b[38;5;45mNone\u001b[0m, \u001b[38;5;34m64\u001b[0m)                  │               \u001b[38;5;34m0\u001b[0m │\n",
       "├──────────────────────────────────────┼─────────────────────────────┼─────────────────┤\n",
       "│ dense_1 (\u001b[38;5;33mDense\u001b[0m)                      │ (\u001b[38;5;45mNone\u001b[0m, \u001b[38;5;34m32\u001b[0m)                  │           \u001b[38;5;34m2,080\u001b[0m │\n",
       "├──────────────────────────────────────┼─────────────────────────────┼─────────────────┤\n",
       "│ dropout_1 (\u001b[38;5;33mDropout\u001b[0m)                  │ (\u001b[38;5;45mNone\u001b[0m, \u001b[38;5;34m32\u001b[0m)                  │               \u001b[38;5;34m0\u001b[0m │\n",
       "├──────────────────────────────────────┼─────────────────────────────┼─────────────────┤\n",
       "│ dense_2 (\u001b[38;5;33mDense\u001b[0m)                      │ (\u001b[38;5;45mNone\u001b[0m, \u001b[38;5;34m16\u001b[0m)                  │             \u001b[38;5;34m528\u001b[0m │\n",
       "├──────────────────────────────────────┼─────────────────────────────┼─────────────────┤\n",
       "│ dropout_2 (\u001b[38;5;33mDropout\u001b[0m)                  │ (\u001b[38;5;45mNone\u001b[0m, \u001b[38;5;34m16\u001b[0m)                  │               \u001b[38;5;34m0\u001b[0m │\n",
       "├──────────────────────────────────────┼─────────────────────────────┼─────────────────┤\n",
       "│ dense_3 (\u001b[38;5;33mDense\u001b[0m)                      │ (\u001b[38;5;45mNone\u001b[0m, \u001b[38;5;34m1\u001b[0m)                   │              \u001b[38;5;34m17\u001b[0m │\n",
       "└──────────────────────────────────────┴─────────────────────────────┴─────────────────┘\n"
      ]
     },
     "metadata": {},
     "output_type": "display_data"
    },
    {
     "data": {
      "text/html": [
       "<pre style=\"white-space:pre;overflow-x:auto;line-height:normal;font-family:Menlo,'DejaVu Sans Mono',consolas,'Courier New',monospace\"><span style=\"font-weight: bold\"> Total params: </span><span style=\"color: #00af00; text-decoration-color: #00af00\">16,325</span> (63.77 KB)\n",
       "</pre>\n"
      ],
      "text/plain": [
       "\u001b[1m Total params: \u001b[0m\u001b[38;5;34m16,325\u001b[0m (63.77 KB)\n"
      ]
     },
     "metadata": {},
     "output_type": "display_data"
    },
    {
     "data": {
      "text/html": [
       "<pre style=\"white-space:pre;overflow-x:auto;line-height:normal;font-family:Menlo,'DejaVu Sans Mono',consolas,'Courier New',monospace\"><span style=\"font-weight: bold\"> Trainable params: </span><span style=\"color: #00af00; text-decoration-color: #00af00\">5,441</span> (21.25 KB)\n",
       "</pre>\n"
      ],
      "text/plain": [
       "\u001b[1m Trainable params: \u001b[0m\u001b[38;5;34m5,441\u001b[0m (21.25 KB)\n"
      ]
     },
     "metadata": {},
     "output_type": "display_data"
    },
    {
     "data": {
      "text/html": [
       "<pre style=\"white-space:pre;overflow-x:auto;line-height:normal;font-family:Menlo,'DejaVu Sans Mono',consolas,'Courier New',monospace\"><span style=\"font-weight: bold\"> Non-trainable params: </span><span style=\"color: #00af00; text-decoration-color: #00af00\">0</span> (0.00 B)\n",
       "</pre>\n"
      ],
      "text/plain": [
       "\u001b[1m Non-trainable params: \u001b[0m\u001b[38;5;34m0\u001b[0m (0.00 B)\n"
      ]
     },
     "metadata": {},
     "output_type": "display_data"
    },
    {
     "data": {
      "text/html": [
       "<pre style=\"white-space:pre;overflow-x:auto;line-height:normal;font-family:Menlo,'DejaVu Sans Mono',consolas,'Courier New',monospace\"><span style=\"font-weight: bold\"> Optimizer params: </span><span style=\"color: #00af00; text-decoration-color: #00af00\">10,884</span> (42.52 KB)\n",
       "</pre>\n"
      ],
      "text/plain": [
       "\u001b[1m Optimizer params: \u001b[0m\u001b[38;5;34m10,884\u001b[0m (42.52 KB)\n"
      ]
     },
     "metadata": {},
     "output_type": "display_data"
    }
   ],
   "source": [
    "model.summary()"
   ]
  },
  {
   "cell_type": "code",
   "execution_count": 91,
   "metadata": {
    "colab": {
     "base_uri": "https://localhost:8080/"
    },
    "id": "qsXKeV3lug70",
    "outputId": "68b2f2ee-9c0a-4d4a-bcba-ac5f50d7e553"
   },
   "outputs": [
    {
     "name": "stderr",
     "output_type": "stream",
     "text": [
      "/usr/local/lib/python3.10/dist-packages/keras/src/layers/core/dense.py:87: UserWarning:\n",
      "\n",
      "Do not pass an `input_shape`/`input_dim` argument to a layer. When using Sequential models, prefer using an `Input(shape)` object as the first layer in the model instead.\n",
      "\n"
     ]
    }
   ],
   "source": [
    "# Create and compile model\n",
    "model = create_model()\n",
    "model.compile(\n",
    "    optimizer=keras.optimizers.Adam(learning_rate=0.001),\n",
    "    loss='binary_crossentropy',\n",
    "    metrics=['accuracy', keras.metrics.AUC()]\n",
    ")"
   ]
  },
  {
   "cell_type": "code",
   "execution_count": 92,
   "metadata": {
    "id": "LyOpIOh-ukgs"
   },
   "outputs": [],
   "source": [
    "# Class weights for imbalanced dataset\n",
    "class_weights = {0: 1, 1: (len(y_train) - sum(y_train)) / sum(y_train)}"
   ]
  },
  {
   "cell_type": "code",
   "execution_count": 99,
   "metadata": {
    "id": "eXU-mh3J0e69"
   },
   "outputs": [],
   "source": [
    "assert len(X_train) == len(y_train)\n",
    "assert len(X_valid) == len(y_valid)\n"
   ]
  },
  {
   "cell_type": "code",
   "execution_count": 100,
   "metadata": {
    "colab": {
     "base_uri": "https://localhost:8080/"
    },
    "id": "Hlotocg3y-wi",
    "outputId": "02ce4766-aa93-401e-9116-0b4e5662ae97"
   },
   "outputs": [
    {
     "name": "stdout",
     "output_type": "stream",
     "text": [
      "y_train index is monotonic increasing: False\n",
      "y_valid index is monotonic increasing: True\n"
     ]
    }
   ],
   "source": [
    "print(\"y_train index is monotonic increasing:\", y_train.index.is_monotonic_increasing)\n",
    "print(\"y_valid index is monotonic increasing:\", y_valid.index.is_monotonic_increasing)"
   ]
  },
  {
   "cell_type": "code",
   "execution_count": null,
   "metadata": {
    "id": "zjv4NAP90A56"
   },
   "outputs": [],
   "source": []
  },
  {
   "cell_type": "code",
   "execution_count": 101,
   "metadata": {
    "colab": {
     "base_uri": "https://localhost:8080/"
    },
    "id": "YQUo_vJtz0TV",
    "outputId": "e75fc4c6-ac4a-4262-c25d-252fae03f1f1"
   },
   "outputs": [
    {
     "name": "stdout",
     "output_type": "stream",
     "text": [
      "(113726, 43) (113726,)\n",
      "(18052, 43) (18052,)\n"
     ]
    }
   ],
   "source": [
    "print(X_train.shape, y_train.shape)\n",
    "print(X_valid.shape, y_valid.shape)\n"
   ]
  },
  {
   "cell_type": "code",
   "execution_count": 102,
   "metadata": {
    "colab": {
     "base_uri": "https://localhost:8080/"
    },
    "id": "_oJTAe9AzmLR",
    "outputId": "80c68a3a-4e80-4898-db4f-8daf7e623e77"
   },
   "outputs": [
    {
     "name": "stdout",
     "output_type": "stream",
     "text": [
      "Is Binary: True, Has Missing Values: False\n"
     ]
    }
   ],
   "source": [
    "# Check if y_train contains only binary values (0 and 1)\n",
    "is_binary = y_train.isin([0, 1]).all()\n",
    "\n",
    "# Check for missing values\n",
    "has_missing = y_train.isnull().any()\n",
    "\n",
    "print(f\"Is Binary: {is_binary}, Has Missing Values: {has_missing}\")\n"
   ]
  },
  {
   "cell_type": "markdown",
   "metadata": {
    "id": "KSsyW85s03g-"
   },
   "source": [
    "** Create and compile model**"
   ]
  },
  {
   "cell_type": "code",
   "execution_count": 103,
   "metadata": {
    "colab": {
     "base_uri": "https://localhost:8080/"
    },
    "id": "o2HhM3fsupfE",
    "outputId": "fe4e7349-5646-44de-c452-110cfb19f018"
   },
   "outputs": [
    {
     "name": "stdout",
     "output_type": "stream",
     "text": [
      "Epoch 1/15\n",
      "\u001b[1m223/223\u001b[0m \u001b[32m━━━━━━━━━━━━━━━━━━━━\u001b[0m\u001b[37m\u001b[0m \u001b[1m4s\u001b[0m 7ms/step - accuracy: 0.5401 - auc: 0.6396 - loss: 1.3025 - val_accuracy: 0.8301 - val_auc: 0.9540 - val_loss: 0.3469\n",
      "Epoch 2/15\n",
      "\u001b[1m223/223\u001b[0m \u001b[32m━━━━━━━━━━━━━━━━━━━━\u001b[0m\u001b[37m\u001b[0m \u001b[1m1s\u001b[0m 6ms/step - accuracy: 0.8275 - auc: 0.9295 - loss: 0.6176 - val_accuracy: 0.8726 - val_auc: 0.9653 - val_loss: 0.2508\n",
      "Epoch 3/15\n",
      "\u001b[1m223/223\u001b[0m \u001b[32m━━━━━━━━━━━━━━━━━━━━\u001b[0m\u001b[37m\u001b[0m \u001b[1m1s\u001b[0m 5ms/step - accuracy: 0.8649 - auc: 0.9515 - loss: 0.4688 - val_accuracy: 0.8735 - val_auc: 0.9665 - val_loss: 0.2453\n",
      "Epoch 4/15\n",
      "\u001b[1m223/223\u001b[0m \u001b[32m━━━━━━━━━━━━━━━━━━━━\u001b[0m\u001b[37m\u001b[0m \u001b[1m1s\u001b[0m 6ms/step - accuracy: 0.8696 - auc: 0.9582 - loss: 0.4246 - val_accuracy: 0.8788 - val_auc: 0.9666 - val_loss: 0.2440\n",
      "Epoch 5/15\n",
      "\u001b[1m223/223\u001b[0m \u001b[32m━━━━━━━━━━━━━━━━━━━━\u001b[0m\u001b[37m\u001b[0m \u001b[1m3s\u001b[0m 6ms/step - accuracy: 0.8754 - auc: 0.9597 - loss: 0.4048 - val_accuracy: 0.8791 - val_auc: 0.9679 - val_loss: 0.2293\n",
      "Epoch 6/15\n",
      "\u001b[1m223/223\u001b[0m \u001b[32m━━━━━━━━━━━━━━━━━━━━\u001b[0m\u001b[37m\u001b[0m \u001b[1m3s\u001b[0m 9ms/step - accuracy: 0.8754 - auc: 0.9605 - loss: 0.4017 - val_accuracy: 0.8774 - val_auc: 0.9678 - val_loss: 0.2331\n",
      "Epoch 7/15\n",
      "\u001b[1m223/223\u001b[0m \u001b[32m━━━━━━━━━━━━━━━━━━━━\u001b[0m\u001b[37m\u001b[0m \u001b[1m2s\u001b[0m 6ms/step - accuracy: 0.8772 - auc: 0.9637 - loss: 0.3754 - val_accuracy: 0.8818 - val_auc: 0.9684 - val_loss: 0.2199\n",
      "Epoch 8/15\n",
      "\u001b[1m223/223\u001b[0m \u001b[32m━━━━━━━━━━━━━━━━━━━━\u001b[0m\u001b[37m\u001b[0m \u001b[1m1s\u001b[0m 5ms/step - accuracy: 0.8792 - auc: 0.9649 - loss: 0.3702 - val_accuracy: 0.8818 - val_auc: 0.9684 - val_loss: 0.2279\n",
      "Epoch 9/15\n",
      "\u001b[1m223/223\u001b[0m \u001b[32m━━━━━━━━━━━━━━━━━━━━\u001b[0m\u001b[37m\u001b[0m \u001b[1m1s\u001b[0m 6ms/step - accuracy: 0.8783 - auc: 0.9639 - loss: 0.3699 - val_accuracy: 0.8826 - val_auc: 0.9685 - val_loss: 0.2166\n",
      "Epoch 10/15\n",
      "\u001b[1m223/223\u001b[0m \u001b[32m━━━━━━━━━━━━━━━━━━━━\u001b[0m\u001b[37m\u001b[0m \u001b[1m2s\u001b[0m 6ms/step - accuracy: 0.8830 - auc: 0.9666 - loss: 0.3570 - val_accuracy: 0.8844 - val_auc: 0.9685 - val_loss: 0.2170\n",
      "Epoch 11/15\n",
      "\u001b[1m223/223\u001b[0m \u001b[32m━━━━━━━━━━━━━━━━━━━━\u001b[0m\u001b[37m\u001b[0m \u001b[1m1s\u001b[0m 6ms/step - accuracy: 0.8843 - auc: 0.9679 - loss: 0.3545 - val_accuracy: 0.8825 - val_auc: 0.9683 - val_loss: 0.2064\n",
      "Epoch 12/15\n",
      "\u001b[1m223/223\u001b[0m \u001b[32m━━━━━━━━━━━━━━━━━━━━\u001b[0m\u001b[37m\u001b[0m \u001b[1m1s\u001b[0m 6ms/step - accuracy: 0.8827 - auc: 0.9667 - loss: 0.3513 - val_accuracy: 0.8837 - val_auc: 0.9690 - val_loss: 0.2106\n",
      "Epoch 13/15\n",
      "\u001b[1m223/223\u001b[0m \u001b[32m━━━━━━━━━━━━━━━━━━━━\u001b[0m\u001b[37m\u001b[0m \u001b[1m1s\u001b[0m 6ms/step - accuracy: 0.8845 - auc: 0.9683 - loss: 0.3504 - val_accuracy: 0.8835 - val_auc: 0.9687 - val_loss: 0.2204\n",
      "Epoch 14/15\n",
      "\u001b[1m223/223\u001b[0m \u001b[32m━━━━━━━━━━━━━━━━━━━━\u001b[0m\u001b[37m\u001b[0m \u001b[1m3s\u001b[0m 8ms/step - accuracy: 0.8846 - auc: 0.9702 - loss: 0.3437 - val_accuracy: 0.8832 - val_auc: 0.9690 - val_loss: 0.2209\n",
      "Epoch 15/15\n",
      "\u001b[1m223/223\u001b[0m \u001b[32m━━━━━━━━━━━━━━━━━━━━\u001b[0m\u001b[37m\u001b[0m \u001b[1m2s\u001b[0m 5ms/step - accuracy: 0.8871 - auc: 0.9707 - loss: 0.3335 - val_accuracy: 0.8828 - val_auc: 0.9685 - val_loss: 0.2162\n"
     ]
    }
   ],
   "source": [
    "y_train = y_train.reset_index(drop=True)\n",
    "y_valid = y_valid.reset_index(drop=True)\n",
    "\n",
    "# Train the model\n",
    "history = model.fit(\n",
    "    X_train, y_train,\n",
    "    epochs=15,\n",
    "    batch_size=512,\n",
    "    validation_data=(X_valid, y_valid),\n",
    "    class_weight=class_weights,\n",
    "    verbose=1\n",
    ")"
   ]
  },
  {
   "cell_type": "code",
   "execution_count": 104,
   "metadata": {
    "id": "XrZknpeF2Bnu"
   },
   "outputs": [],
   "source": [
    "# Visualization function\n",
    "def plot_metrics(history):\n",
    "    metrics = ['loss', 'accuracy', 'auc']\n",
    "    plt.figure(figsize=(15, 5))\n",
    "\n",
    "    for i, metric in enumerate(metrics):\n",
    "        plt.subplot(1, 3, i+1)\n",
    "        plt.plot(history.history[metric], label='Train')\n",
    "        plt.plot(history.history[f'val_{metric}'], label='Validation')\n",
    "        plt.title(f'Model {metric}')\n",
    "        plt.xlabel('Epoch')\n",
    "        plt.ylabel(metric)\n",
    "        plt.legend()\n",
    "\n",
    "    plt.tight_layout()\n",
    "    plt.show()"
   ]
  },
  {
   "cell_type": "code",
   "execution_count": 105,
   "metadata": {
    "colab": {
     "base_uri": "https://localhost:8080/",
     "height": 527
    },
    "id": "7HGccnzM2FM6",
    "outputId": "5ed6e7f4-1932-4876-8f38-8f8f958e1099"
   },
   "outputs": [
    {
     "data": {
      "image/png": "[encoded data removed]",
      "text/plain": [
       "<Figure size 1500x500 with 3 Axes>"
      ]
     },
     "metadata": {},
     "output_type": "display_data"
    }
   ],
   "source": [
    "# Plot training history\n",
    "plot_metrics(history)"
   ]
  },
  {
   "cell_type": "markdown",
   "metadata": {
    "id": "Kzsma_B-cmpF"
   },
   "source": [
    "**Model Loss**\n",
    "(Train): Drops sharply from 1.3 to 0.3\n",
    "(Validation): Stays steady around 0.2\n",
    "Shows model is learning and reducing errors\n",
    "\n",
    "**Model Accuracy**\n",
    "Improves from 54% to ~88%\n",
    "Both train and validation converge\n",
    "Stable performance after epoch 8\n",
    "\n",
    "**Model AUC**\n",
    "Increases from 0.63 to 0.97\n",
    "High AUC indicates good discrimination\n",
    "Validation slightly better than training\n",
    "\n",
    "**The plots indicate:**\n",
    "\n",
    "Model learns quickly in first 5 epochs\n",
    "No major overfitting (train/validation lines close)\n",
    "Good convergence but might need improvement for fraud detection"
   ]
  },
  {
   "cell_type": "code",
   "execution_count": 106,
   "metadata": {
    "colab": {
     "base_uri": "https://localhost:8080/"
    },
    "id": "A1ZbNUTB2N1A",
    "outputId": "541933bb-e609-4e02-d27b-437350728a62"
   },
   "outputs": [
    {
     "name": "stdout",
     "output_type": "stream",
     "text": [
      "\u001b[1m1524/1524\u001b[0m \u001b[32m━━━━━━━━━━━━━━━━━━━━\u001b[0m\u001b[37m\u001b[0m \u001b[1m6s\u001b[0m 4ms/step\n"
     ]
    }
   ],
   "source": [
    "# Evaluate on test set\n",
    "y_pred_proba = model.predict(X_test)\n",
    "y_pred = (y_pred_proba > 0.5).astype(int)"
   ]
  },
  {
   "cell_type": "code",
   "execution_count": 107,
   "metadata": {
    "colab": {
     "base_uri": "https://localhost:8080/"
    },
    "id": "ETAbl2mI2Uut",
    "outputId": "fd37ce90-ca03-46d8-8042-aa1f9d0a5000"
   },
   "outputs": [
    {
     "name": "stdout",
     "output_type": "stream",
     "text": [
      "\n",
      "Classification Report:\n",
      "              precision    recall  f1-score   support\n",
      "\n",
      "           0       1.00      0.88      0.94     47610\n",
      "           1       0.16      1.00      0.28      1131\n",
      "\n",
      "    accuracy                           0.88     48741\n",
      "   macro avg       0.58      0.94      0.61     48741\n",
      "weighted avg       0.98      0.88      0.92     48741\n",
      "\n"
     ]
    }
   ],
   "source": [
    "# Print classification report\n",
    "print(\"\\nClassification Report:\")\n",
    "print(classification_report(y_test, y_pred))"
   ]
  },
  {
   "cell_type": "code",
   "execution_count": 108,
   "metadata": {
    "colab": {
     "base_uri": "https://localhost:8080/",
     "height": 564
    },
    "id": "l8h1NYNn2KS5",
    "outputId": "7c71ab96-fb6f-4d13-8aa9-a90bb8deb8ef"
   },
   "outputs": [
    {
     "data": {
      "image/png": "[encoded data removed]",
      "text/plain": [
       "<Figure size 800x600 with 2 Axes>"
      ]
     },
     "metadata": {},
     "output_type": "display_data"
    }
   ],
   "source": [
    "# Plot confusion matrix\n",
    "plt.figure(figsize=(8, 6))\n",
    "cm = confusion_matrix(y_test, y_pred)\n",
    "sns.heatmap(cm, annot=True, fmt='d', cmap='Blues')\n",
    "plt.title('Confusion Matrix')\n",
    "plt.ylabel('True Label')\n",
    "plt.xlabel('Predicted Label')\n",
    "plt.show()"
   ]
  },
  {
   "cell_type": "code",
   "execution_count": null,
   "metadata": {
    "id": "SP7W4IGVV6QM"
   },
   "outputs": [],
   "source": [
    "# Generate confusion matrix\n",
    "cm = confusion_matrix(y_test, y_pred)\n",
    "\n",
    "# Extract values for TP, FP, TN, FN\n",
    "TN, FP, FN, TP = cm.ravel()\n",
    "\n",
    "# Plot confusion matrix with labels showing TP, FP, TN, FN\n",
    "plt.figure(figsize=(8, 6))\n",
    "sns.heatmap(cm, annot=True, fmt='d', cmap='Blues', cbar=False)\n",
    "\n",
    "# Add text to indicate TP, FP, TN, FN\n",
    "plt.text(0, 0, f'TN = {TN}', ha='center', va='center', color='black', fontsize=12)\n",
    "plt.text(1, 0, f'FP = {FP}', ha='center', va='center', color='black', fontsize=12)\n",
    "plt.text(0, 1, f'FN = {FN}', ha='center', va='center', color='black', fontsize=12)\n",
    "plt.text(1, 1, f'TP = {TP}', ha='center', va='center', color='black', fontsize=12)\n",
    "\n",
    "# Set titles and labels\n",
    "plt.title('Confusion Matrix')\n",
    "plt.ylabel('True Label')\n",
    "plt.xlabel('Predicted Label')\n",
    "plt.show()\n"
   ]
  },
  {
   "cell_type": "code",
   "execution_count": 109,
   "metadata": {
    "colab": {
     "base_uri": "https://localhost:8080/"
    },
    "id": "DRH1OMbP0wJN",
    "outputId": "e2deb7f3-572e-42a6-bf5a-569fda9a5d98"
   },
   "outputs": [
    {
     "name": "stdout",
     "output_type": "stream",
     "text": [
      "\u001b[1m1524/1524\u001b[0m \u001b[32m━━━━━━━━━━━━━━━━━━━━\u001b[0m\u001b[37m\u001b[0m \u001b[1m2s\u001b[0m 1ms/step\n",
      "\n",
      "Classification Report:\n",
      "              precision    recall  f1-score   support\n",
      "\n",
      "           0       1.00      0.88      0.94     47610\n",
      "           1       0.16      1.00      0.28      1131\n",
      "\n",
      "    accuracy                           0.88     48741\n",
      "   macro avg       0.58      0.94      0.61     48741\n",
      "weighted avg       0.98      0.88      0.92     48741\n",
      "\n"
     ]
    }
   ],
   "source": [
    "# Quick evaluation\n",
    "y_pred = (model.predict(X_test) > 0.5).astype(int)\n",
    "print(\"\\nClassification Report:\")\n",
    "print(classification_report(y_test, y_pred))"
   ]
  },
  {
   "cell_type": "code",
   "execution_count": null,
   "metadata": {
    "id": "En30qEmdP-Pj"
   },
   "outputs": [],
   "source": [
    "# Making Prediction\n",
    "val = X_train[0]\n",
    "yhat = model.predict(asarray([val]))\n",
    "print('Predicted: class=%d' % argmax(yhat))"
   ]
  },
  {
   "cell_type": "code",
   "execution_count": null,
   "metadata": {
    "id": "A-jirB6TQsG6"
   },
   "outputs": [],
   "source": [
    "# Evaluate the model on test data\n",
    "test_loss, test_accuracy = model.evaluate(X_test, y_test, verbose=0)\n",
    "print(f\"Test Loss: {test_loss:.4f}\")\n",
    "print(f\"Test Accuracy: {test_accuracy:.4f}\")\n",
    "\n",
    "# Predicting on test data\n",
    "y_pred = (model.predict(X_test) > 0.5).astype(int)\n",
    "\n",
    "# Classification metrics\n",
    "print(\"\\nClassification Report:\")\n",
    "print(classification_report(y_test, y_pred, target_names=[\"Non-Fraud\", \"Fraud\"]))\n",
    "\n",
    "# Confusion matrix\n",
    "print(\"\\nConfusion Matrix:\")\n",
    "conf_matrix = confusion_matrix(y_test, y_pred)\n",
    "print(conf_matrix)\n",
    "\n",
    "# Accuracy\n",
    "print(\"\\nAccuracy:\", accuracy_score(y_test, y_pred))"
   ]
  },
  {
   "cell_type": "markdown",
   "metadata": {
    "id": "V8Cg-4xYTTxv"
   },
   "source": [
    "Let us implement an **early stopping strategy.** The idea is to detect overfitting, i.e. when validation error starts increasing, and stop the training process. Sometimes, the validation error might increase at a given epoch, but then decrease again. For that reason, it is important to also consider a patience parameter, i.e. a number of iterations for which the training process waits in order to make sure that the error is definitely increasing."
   ]
  },
  {
   "cell_type": "markdown",
   "metadata": {
    "id": "G___bOPs2lAY"
   },
   "source": [
    "# **Model from the sample code-Custom NN**"
   ]
  },
  {
   "cell_type": "code",
   "execution_count": null,
   "metadata": {
    "colab": {
     "base_uri": "https://localhost:8080/",
     "height": 586
    },
    "id": "EsyvUI7sVSyO",
    "outputId": "7f987036-d6bd-44c0-bd77-15536ce08684"
   },
   "outputs": [
    {
     "name": "stderr",
     "output_type": "stream",
     "text": [
      "/usr/local/lib/python3.10/dist-packages/keras/src/layers/core/dense.py:87: UserWarning:\n",
      "\n",
      "Do not pass an `input_shape`/`input_dim` argument to a layer. When using Sequential models, prefer using an `Input(shape)` object as the first layer in the model instead.\n",
      "\n"
     ]
    },
    {
     "data": {
      "text/html": [
       "<pre style=\"white-space:pre;overflow-x:auto;line-height:normal;font-family:Menlo,'DejaVu Sans Mono',consolas,'Courier New',monospace\"><span style=\"font-weight: bold\">Model: \"sequential\"</span>\n",
       "</pre>\n"
      ],
      "text/plain": [
       "\u001b[1mModel: \"sequential\"\u001b[0m\n"
      ]
     },
     "metadata": {},
     "output_type": "display_data"
    },
    {
     "data": {
      "text/html": [
       "<pre style=\"white-space:pre;overflow-x:auto;line-height:normal;font-family:Menlo,'DejaVu Sans Mono',consolas,'Courier New',monospace\">┏━━━━━━━━━━━━━━━━━━━━━━━━━━━━━━━━━━━━━━┳━━━━━━━━━━━━━━━━━━━━━━━━━━━━━┳━━━━━━━━━━━━━━━━━┓\n",
       "┃<span style=\"font-weight: bold\"> Layer (type)                         </span>┃<span style=\"font-weight: bold\"> Output Shape                </span>┃<span style=\"font-weight: bold\">         Param # </span>┃\n",
       "┡━━━━━━━━━━━━━━━━━━━━━━━━━━━━━━━━━━━━━━╇━━━━━━━━━━━━━━━━━━━━━━━━━━━━━╇━━━━━━━━━━━━━━━━━┩\n",
       "│ dense (<span style=\"color: #0087ff; text-decoration-color: #0087ff\">Dense</span>)                        │ (<span style=\"color: #00d7ff; text-decoration-color: #00d7ff\">None</span>, <span style=\"color: #00af00; text-decoration-color: #00af00\">1024</span>)                │          <span style=\"color: #00af00; text-decoration-color: #00af00\">45,056</span> │\n",
       "├──────────────────────────────────────┼─────────────────────────────┼─────────────────┤\n",
       "│ dense_1 (<span style=\"color: #0087ff; text-decoration-color: #0087ff\">Dense</span>)                      │ (<span style=\"color: #00d7ff; text-decoration-color: #00d7ff\">None</span>, <span style=\"color: #00af00; text-decoration-color: #00af00\">512</span>)                 │         <span style=\"color: #00af00; text-decoration-color: #00af00\">524,800</span> │\n",
       "├──────────────────────────────────────┼─────────────────────────────┼─────────────────┤\n",
       "│ dense_2 (<span style=\"color: #0087ff; text-decoration-color: #0087ff\">Dense</span>)                      │ (<span style=\"color: #00d7ff; text-decoration-color: #00d7ff\">None</span>, <span style=\"color: #00af00; text-decoration-color: #00af00\">256</span>)                 │         <span style=\"color: #00af00; text-decoration-color: #00af00\">131,328</span> │\n",
       "├──────────────────────────────────────┼─────────────────────────────┼─────────────────┤\n",
       "│ dense_3 (<span style=\"color: #0087ff; text-decoration-color: #0087ff\">Dense</span>)                      │ (<span style=\"color: #00d7ff; text-decoration-color: #00d7ff\">None</span>, <span style=\"color: #00af00; text-decoration-color: #00af00\">128</span>)                 │          <span style=\"color: #00af00; text-decoration-color: #00af00\">32,896</span> │\n",
       "├──────────────────────────────────────┼─────────────────────────────┼─────────────────┤\n",
       "│ dense_4 (<span style=\"color: #0087ff; text-decoration-color: #0087ff\">Dense</span>)                      │ (<span style=\"color: #00d7ff; text-decoration-color: #00d7ff\">None</span>, <span style=\"color: #00af00; text-decoration-color: #00af00\">64</span>)                  │           <span style=\"color: #00af00; text-decoration-color: #00af00\">8,256</span> │\n",
       "├──────────────────────────────────────┼─────────────────────────────┼─────────────────┤\n",
       "│ dense_5 (<span style=\"color: #0087ff; text-decoration-color: #0087ff\">Dense</span>)                      │ (<span style=\"color: #00d7ff; text-decoration-color: #00d7ff\">None</span>, <span style=\"color: #00af00; text-decoration-color: #00af00\">32</span>)                  │           <span style=\"color: #00af00; text-decoration-color: #00af00\">2,080</span> │\n",
       "├──────────────────────────────────────┼─────────────────────────────┼─────────────────┤\n",
       "│ dense_6 (<span style=\"color: #0087ff; text-decoration-color: #0087ff\">Dense</span>)                      │ (<span style=\"color: #00d7ff; text-decoration-color: #00d7ff\">None</span>, <span style=\"color: #00af00; text-decoration-color: #00af00\">16</span>)                  │             <span style=\"color: #00af00; text-decoration-color: #00af00\">528</span> │\n",
       "├──────────────────────────────────────┼─────────────────────────────┼─────────────────┤\n",
       "│ dense_7 (<span style=\"color: #0087ff; text-decoration-color: #0087ff\">Dense</span>)                      │ (<span style=\"color: #00d7ff; text-decoration-color: #00d7ff\">None</span>, <span style=\"color: #00af00; text-decoration-color: #00af00\">8</span>)                   │             <span style=\"color: #00af00; text-decoration-color: #00af00\">136</span> │\n",
       "├──────────────────────────────────────┼─────────────────────────────┼─────────────────┤\n",
       "│ dense_8 (<span style=\"color: #0087ff; text-decoration-color: #0087ff\">Dense</span>)                      │ (<span style=\"color: #00d7ff; text-decoration-color: #00d7ff\">None</span>, <span style=\"color: #00af00; text-decoration-color: #00af00\">4</span>)                   │              <span style=\"color: #00af00; text-decoration-color: #00af00\">36</span> │\n",
       "├──────────────────────────────────────┼─────────────────────────────┼─────────────────┤\n",
       "│ dense_9 (<span style=\"color: #0087ff; text-decoration-color: #0087ff\">Dense</span>)                      │ (<span style=\"color: #00d7ff; text-decoration-color: #00d7ff\">None</span>, <span style=\"color: #00af00; text-decoration-color: #00af00\">2</span>)                   │              <span style=\"color: #00af00; text-decoration-color: #00af00\">10</span> │\n",
       "├──────────────────────────────────────┼─────────────────────────────┼─────────────────┤\n",
       "│ dense_10 (<span style=\"color: #0087ff; text-decoration-color: #0087ff\">Dense</span>)                     │ (<span style=\"color: #00d7ff; text-decoration-color: #00d7ff\">None</span>, <span style=\"color: #00af00; text-decoration-color: #00af00\">1</span>)                   │               <span style=\"color: #00af00; text-decoration-color: #00af00\">3</span> │\n",
       "├──────────────────────────────────────┼─────────────────────────────┼─────────────────┤\n",
       "│ activation (<span style=\"color: #0087ff; text-decoration-color: #0087ff\">Activation</span>)              │ (<span style=\"color: #00d7ff; text-decoration-color: #00d7ff\">None</span>, <span style=\"color: #00af00; text-decoration-color: #00af00\">1</span>)                   │               <span style=\"color: #00af00; text-decoration-color: #00af00\">0</span> │\n",
       "└──────────────────────────────────────┴─────────────────────────────┴─────────────────┘\n",
       "</pre>\n"
      ],
      "text/plain": [
       "┏━━━━━━━━━━━━━━━━━━━━━━━━━━━━━━━━━━━━━━┳━━━━━━━━━━━━━━━━━━━━━━━━━━━━━┳━━━━━━━━━━━━━━━━━┓\n",
       "┃\u001b[1m \u001b[0m\u001b[1mLayer (type)                        \u001b[0m\u001b[1m \u001b[0m┃\u001b[1m \u001b[0m\u001b[1mOutput Shape               \u001b[0m\u001b[1m \u001b[0m┃\u001b[1m \u001b[0m\u001b[1m        Param #\u001b[0m\u001b[1m \u001b[0m┃\n",
       "┡━━━━━━━━━━━━━━━━━━━━━━━━━━━━━━━━━━━━━━╇━━━━━━━━━━━━━━━━━━━━━━━━━━━━━╇━━━━━━━━━━━━━━━━━┩\n",
       "│ dense (\u001b[38;5;33mDense\u001b[0m)                        │ (\u001b[38;5;45mNone\u001b[0m, \u001b[38;5;34m1024\u001b[0m)                │          \u001b[38;5;34m45,056\u001b[0m │\n",
       "├──────────────────────────────────────┼─────────────────────────────┼─────────────────┤\n",
       "│ dense_1 (\u001b[38;5;33mDense\u001b[0m)                      │ (\u001b[38;5;45mNone\u001b[0m, \u001b[38;5;34m512\u001b[0m)                 │         \u001b[38;5;34m524,800\u001b[0m │\n",
       "├──────────────────────────────────────┼─────────────────────────────┼─────────────────┤\n",
       "│ dense_2 (\u001b[38;5;33mDense\u001b[0m)                      │ (\u001b[38;5;45mNone\u001b[0m, \u001b[38;5;34m256\u001b[0m)                 │         \u001b[38;5;34m131,328\u001b[0m │\n",
       "├──────────────────────────────────────┼─────────────────────────────┼─────────────────┤\n",
       "│ dense_3 (\u001b[38;5;33mDense\u001b[0m)                      │ (\u001b[38;5;45mNone\u001b[0m, \u001b[38;5;34m128\u001b[0m)                 │          \u001b[38;5;34m32,896\u001b[0m │\n",
       "├──────────────────────────────────────┼─────────────────────────────┼─────────────────┤\n",
       "│ dense_4 (\u001b[38;5;33mDense\u001b[0m)                      │ (\u001b[38;5;45mNone\u001b[0m, \u001b[38;5;34m64\u001b[0m)                  │           \u001b[38;5;34m8,256\u001b[0m │\n",
       "├──────────────────────────────────────┼─────────────────────────────┼─────────────────┤\n",
       "│ dense_5 (\u001b[38;5;33mDense\u001b[0m)                      │ (\u001b[38;5;45mNone\u001b[0m, \u001b[38;5;34m32\u001b[0m)                  │           \u001b[38;5;34m2,080\u001b[0m │\n",
       "├──────────────────────────────────────┼─────────────────────────────┼─────────────────┤\n",
       "│ dense_6 (\u001b[38;5;33mDense\u001b[0m)                      │ (\u001b[38;5;45mNone\u001b[0m, \u001b[38;5;34m16\u001b[0m)                  │             \u001b[38;5;34m528\u001b[0m │\n",
       "├──────────────────────────────────────┼─────────────────────────────┼─────────────────┤\n",
       "│ dense_7 (\u001b[38;5;33mDense\u001b[0m)                      │ (\u001b[38;5;45mNone\u001b[0m, \u001b[38;5;34m8\u001b[0m)                   │             \u001b[38;5;34m136\u001b[0m │\n",
       "├──────────────────────────────────────┼─────────────────────────────┼─────────────────┤\n",
       "│ dense_8 (\u001b[38;5;33mDense\u001b[0m)                      │ (\u001b[38;5;45mNone\u001b[0m, \u001b[38;5;34m4\u001b[0m)                   │              \u001b[38;5;34m36\u001b[0m │\n",
       "├──────────────────────────────────────┼─────────────────────────────┼─────────────────┤\n",
       "│ dense_9 (\u001b[38;5;33mDense\u001b[0m)                      │ (\u001b[38;5;45mNone\u001b[0m, \u001b[38;5;34m2\u001b[0m)                   │              \u001b[38;5;34m10\u001b[0m │\n",
       "├──────────────────────────────────────┼─────────────────────────────┼─────────────────┤\n",
       "│ dense_10 (\u001b[38;5;33mDense\u001b[0m)                     │ (\u001b[38;5;45mNone\u001b[0m, \u001b[38;5;34m1\u001b[0m)                   │               \u001b[38;5;34m3\u001b[0m │\n",
       "├──────────────────────────────────────┼─────────────────────────────┼─────────────────┤\n",
       "│ activation (\u001b[38;5;33mActivation\u001b[0m)              │ (\u001b[38;5;45mNone\u001b[0m, \u001b[38;5;34m1\u001b[0m)                   │               \u001b[38;5;34m0\u001b[0m │\n",
       "└──────────────────────────────────────┴─────────────────────────────┴─────────────────┘\n"
      ]
     },
     "metadata": {},
     "output_type": "display_data"
    },
    {
     "data": {
      "text/html": [
       "<pre style=\"white-space:pre;overflow-x:auto;line-height:normal;font-family:Menlo,'DejaVu Sans Mono',consolas,'Courier New',monospace\"><span style=\"font-weight: bold\"> Total params: </span><span style=\"color: #00af00; text-decoration-color: #00af00\">745,129</span> (2.84 MB)\n",
       "</pre>\n"
      ],
      "text/plain": [
       "\u001b[1m Total params: \u001b[0m\u001b[38;5;34m745,129\u001b[0m (2.84 MB)\n"
      ]
     },
     "metadata": {},
     "output_type": "display_data"
    },
    {
     "data": {
      "text/html": [
       "<pre style=\"white-space:pre;overflow-x:auto;line-height:normal;font-family:Menlo,'DejaVu Sans Mono',consolas,'Courier New',monospace\"><span style=\"font-weight: bold\"> Trainable params: </span><span style=\"color: #00af00; text-decoration-color: #00af00\">745,129</span> (2.84 MB)\n",
       "</pre>\n"
      ],
      "text/plain": [
       "\u001b[1m Trainable params: \u001b[0m\u001b[38;5;34m745,129\u001b[0m (2.84 MB)\n"
      ]
     },
     "metadata": {},
     "output_type": "display_data"
    },
    {
     "data": {
      "text/html": [
       "<pre style=\"white-space:pre;overflow-x:auto;line-height:normal;font-family:Menlo,'DejaVu Sans Mono',consolas,'Courier New',monospace\"><span style=\"font-weight: bold\"> Non-trainable params: </span><span style=\"color: #00af00; text-decoration-color: #00af00\">0</span> (0.00 B)\n",
       "</pre>\n"
      ],
      "text/plain": [
       "\u001b[1m Non-trainable params: \u001b[0m\u001b[38;5;34m0\u001b[0m (0.00 B)\n"
      ]
     },
     "metadata": {},
     "output_type": "display_data"
    }
   ],
   "source": [
    "keras.layers.BatchNormalization()\n",
    "model = Sequential()\n",
    "#First Hidden Layer\n",
    "model.add(Dense(1024, activation='relu', kernel_initializer='random_normal', input_dim=43)) #As we have 43 columns\n",
    "\n",
    "#All other hidden layers in a for loop with nodes reducing in each loop\n",
    "nodes = 1024\n",
    "for i in range(9):\n",
    "    nodes = nodes // 2\n",
    "    model.add(Dense(nodes, activation='relu', kernel_initializer='random_normal'))\n",
    "\n",
    "#Output Layer\n",
    "model.add(Dense(1))\n",
    "model.add(Activation('sigmoid'))\n",
    "\n",
    "model.summary()"
   ]
  },
  {
   "cell_type": "markdown",
   "metadata": {
    "id": "zwXXsE7lVbCR"
   },
   "source": [
    "As F1 score is not accessible in Keras, binary crossentropy is used to measure loss and accuracy because the output data is binary classification."
   ]
  },
  {
   "cell_type": "code",
   "execution_count": null,
   "metadata": {
    "id": "GrVEZ_r4VefH"
   },
   "outputs": [],
   "source": [
    "## Compiling the model created\n",
    "model.compile(optimizer='adam',loss='binary_crossentropy',metrics=['accuracy'])"
   ]
  },
  {
   "cell_type": "markdown",
   "metadata": {
    "id": "JhwB6t9iVnP5"
   },
   "source": [
    "# **Fitting the model using custom neural network**\n",
    "Intitally we'll tried with 10 epochs which had a good accuracy but the loss was high, then we increased it to 15 which reduced the loss significantly and we stopped there to avoid overfitting of the data."
   ]
  },
  {
   "cell_type": "code",
   "execution_count": null,
   "metadata": {
    "colab": {
     "base_uri": "https://localhost:8080/"
    },
    "id": "TCxpFf7GVqe5",
    "outputId": "fa4b5f08-927e-4fde-99ec-6514b14dab77"
   },
   "outputs": [
    {
     "name": "stdout",
     "output_type": "stream",
     "text": [
      "Epoch 1/15\n",
      "\u001b[1m223/223\u001b[0m \u001b[32m━━━━━━━━━━━━━━━━━━━━\u001b[0m\u001b[37m\u001b[0m \u001b[1m21s\u001b[0m 66ms/step - accuracy: 0.9520 - loss: 0.6675\n",
      "Epoch 2/15\n",
      "\u001b[1m223/223\u001b[0m \u001b[32m━━━━━━━━━━━━━━━━━━━━\u001b[0m\u001b[37m\u001b[0m \u001b[1m18s\u001b[0m 58ms/step - accuracy: 0.9781 - loss: 0.5736\n",
      "Epoch 3/15\n",
      "\u001b[1m223/223\u001b[0m \u001b[32m━━━━━━━━━━━━━━━━━━━━\u001b[0m\u001b[37m\u001b[0m \u001b[1m14s\u001b[0m 61ms/step - accuracy: 0.9776 - loss: 0.4958\n",
      "Epoch 4/15\n",
      "\u001b[1m223/223\u001b[0m \u001b[32m━━━━━━━━━━━━━━━━━━━━\u001b[0m\u001b[37m\u001b[0m \u001b[1m13s\u001b[0m 59ms/step - accuracy: 0.9772 - loss: 0.4315\n",
      "Epoch 5/15\n",
      "\u001b[1m223/223\u001b[0m \u001b[32m━━━━━━━━━━━━━━━━━━━━\u001b[0m\u001b[37m\u001b[0m \u001b[1m12s\u001b[0m 53ms/step - accuracy: 0.9776 - loss: 0.3778\n",
      "Epoch 6/15\n",
      "\u001b[1m223/223\u001b[0m \u001b[32m━━━━━━━━━━━━━━━━━━━━\u001b[0m\u001b[37m\u001b[0m \u001b[1m12s\u001b[0m 55ms/step - accuracy: 0.9784 - loss: 0.3328\n",
      "Epoch 7/15\n",
      "\u001b[1m223/223\u001b[0m \u001b[32m━━━━━━━━━━━━━━━━━━━━\u001b[0m\u001b[37m\u001b[0m \u001b[1m21s\u001b[0m 59ms/step - accuracy: 0.9774 - loss: 0.2971\n",
      "Epoch 8/15\n",
      "\u001b[1m223/223\u001b[0m \u001b[32m━━━━━━━━━━━━━━━━━━━━\u001b[0m\u001b[37m\u001b[0m \u001b[1m20s\u001b[0m 58ms/step - accuracy: 0.9774 - loss: 0.2667\n",
      "Epoch 9/15\n",
      "\u001b[1m223/223\u001b[0m \u001b[32m━━━━━━━━━━━━━━━━━━━━\u001b[0m\u001b[37m\u001b[0m \u001b[1m13s\u001b[0m 59ms/step - accuracy: 0.9781 - loss: 0.2403\n",
      "Epoch 10/15\n",
      "\u001b[1m223/223\u001b[0m \u001b[32m━━━━━━━━━━━━━━━━━━━━\u001b[0m\u001b[37m\u001b[0m \u001b[1m14s\u001b[0m 64ms/step - accuracy: 0.9776 - loss: 0.2197\n",
      "Epoch 11/15\n",
      "\u001b[1m223/223\u001b[0m \u001b[32m━━━━━━━━━━━━━━━━━━━━\u001b[0m\u001b[37m\u001b[0m \u001b[1m14s\u001b[0m 65ms/step - accuracy: 0.9777 - loss: 0.2017\n",
      "Epoch 12/15\n",
      "\u001b[1m223/223\u001b[0m \u001b[32m━━━━━━━━━━━━━━━━━━━━\u001b[0m\u001b[37m\u001b[0m \u001b[1m18s\u001b[0m 55ms/step - accuracy: 0.9770 - loss: 0.1880\n",
      "Epoch 13/15\n",
      "\u001b[1m223/223\u001b[0m \u001b[32m━━━━━━━━━━━━━━━━━━━━\u001b[0m\u001b[37m\u001b[0m \u001b[1m21s\u001b[0m 59ms/step - accuracy: 0.9779 - loss: 0.1734\n",
      "Epoch 14/15\n",
      "\u001b[1m223/223\u001b[0m \u001b[32m━━━━━━━━━━━━━━━━━━━━\u001b[0m\u001b[37m\u001b[0m \u001b[1m22s\u001b[0m 67ms/step - accuracy: 0.9772 - loss: 0.1641\n",
      "Epoch 15/15\n",
      "\u001b[1m223/223\u001b[0m \u001b[32m━━━━━━━━━━━━━━━━━━━━\u001b[0m\u001b[37m\u001b[0m \u001b[1m13s\u001b[0m 59ms/step - accuracy: 0.9787 - loss: 0.1517\n"
     ]
    }
   ],
   "source": [
    "csvlogger = CSVLogger('training.log',separator=',',append=False)\n",
    "result = model.fit(X_train, y_train, batch_size = 512, epochs = 15, callbacks=[csvlogger])"
   ]
  },
  {
   "cell_type": "code",
   "execution_count": null,
   "metadata": {
    "colab": {
     "base_uri": "https://localhost:8080/",
     "height": 490
    },
    "id": "rLyr96mnVwB9",
    "outputId": "82fc4e62-4d78-40a7-f7ae-360deea01f48"
   },
   "outputs": [
    {
     "data": {
      "text/plain": [
       "<matplotlib.legend.Legend at 0x7f0ceff546d0>"
      ]
     },
     "execution_count": 141,
     "metadata": {},
     "output_type": "execute_result"
    },
    {
     "data": {
      "image/png": "[encoded data removed]",
      "text/plain": [
       "<Figure size 640x480 with 1 Axes>"
      ]
     },
     "metadata": {},
     "output_type": "display_data"
    }
   ],
   "source": [
    "plt.plot(result.history['accuracy'],'green',label='Accuracy')\n",
    "plt.plot(result.history['loss'],'red',label='Loss')\n",
    "plt.title('Training Accuracy & Loss')\n",
    "plt.xlabel('Epoch')\n",
    "plt.legend(loc=0)"
   ]
  },
  {
   "cell_type": "code",
   "execution_count": null,
   "metadata": {
    "colab": {
     "base_uri": "https://localhost:8080/"
    },
    "id": "zunWhPlLXd0R",
    "outputId": "51490e40-fc48-4aa6-a288-fbdc8e7ca93a"
   },
   "outputs": [
    {
     "name": "stdout",
     "output_type": "stream",
     "text": [
      "\u001b[1m3554/3554\u001b[0m \u001b[32m━━━━━━━━━━━━━━━━━━━━\u001b[0m\u001b[37m\u001b[0m \u001b[1m19s\u001b[0m 5ms/step - accuracy: 0.9776 - loss: 0.1483\n",
      "\u001b[1m1524/1524\u001b[0m \u001b[32m━━━━━━━━━━━━━━━━━━━━\u001b[0m\u001b[37m\u001b[0m \u001b[1m7s\u001b[0m 4ms/step - accuracy: 0.9765 - loss: 0.1507\n",
      "accuracy for Train set is [0.14811868965625763, 0.9776568412780762]\n",
      "accuracy for Test set is [0.15008322894573212, 0.9767957329750061]\n",
      "\u001b[1m96/96\u001b[0m \u001b[32m━━━━━━━━━━━━━━━━━━━━\u001b[0m\u001b[37m\u001b[0m \u001b[1m2s\u001b[0m 22ms/step\n",
      "0.9653297639890498\n"
     ]
    }
   ],
   "source": [
    "# Predicting the custom model\n",
    "\n",
    "train_evaluate=model.evaluate(X_train, y_train)\n",
    "test_evaluate=model.evaluate(X_test, y_test)\n",
    "print('accuracy for Train set is',train_evaluate)\n",
    "print('accuracy for Test set is',test_evaluate) # evaluation of model.\n",
    "yf_pred1=model.predict(X_test,batch_size=512,verbose=1)\n",
    "yf_pred=np.argmax(yf_pred1,axis=1)\n",
    "print(f1_score(y_test,yf_pred,average=\"weighted\"))"
   ]
  }
 ],
 "metadata": {
  "colab": {
   "collapsed_sections": [
    "OmeicBqZFJHy",
    "mJ671s57F4_4",
    "Z7B8D9UEzCVB",
    "qd06bSUiFkws",
    "g3aei2EKUvUq",
    "G___bOPs2lAY",
    "JhwB6t9iVnP5"
   ],
   "provenance": []
  },
  "kernelspec": {
   "display_name": "Python 3 (ipykernel)",
   "language": "python",
   "name": "python3"
  },
  "language_info": {
   "codemirror_mode": {
    "name": "ipython",
    "version": 3
   },
   "file_extension": ".py",
   "mimetype": "text/x-python",
   "name": "python",
   "nbconvert_exporter": "python",
   "pygments_lexer": "ipython3",
   "version": "3.11.5"
  }
 },
 "nbformat": 4,
 "nbformat_minor": 1
}
